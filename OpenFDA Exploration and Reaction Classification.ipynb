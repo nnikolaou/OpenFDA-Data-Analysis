{
 "cells": [
  {
   "cell_type": "markdown",
   "metadata": {},
   "source": [
    "# OpenFDA Data\n",
    "## Exploratory Analysis & Prediction of Seriousness of Adverse Reaction"
   ]
  },
  {
   "cell_type": "markdown",
   "metadata": {},
   "source": [
    "## OpenFDA data"
   ]
  },
  {
   "cell_type": "markdown",
   "metadata": {},
   "source": [
    "The U.S. Food and Drug Administration (FDA) regulates over-the-counter and prescription drugs in the United States, including biological therapeutics and generic drugs (this work covers more than just medicines).\n",
    "\n",
    "The FDA's database of adverse event reports is made available through a web API at https://open.fda.gov/apis/drug/event/.\n",
    "\n",
    "The data files are available for download. Alternatively, specific queries can be filed to access parts of the database under some restrictions on traffic (this is the approach followed here)."
   ]
  },
  {
   "cell_type": "markdown",
   "metadata": {},
   "source": [
    "## Summary"
   ]
  },
  {
   "cell_type": "markdown",
   "metadata": {},
   "source": [
    "The purpose of this investigation is to perform an initial exploratory analysis on adverse reactions report data from the OpenFDA database, identify interesting patterns or irregularities in the data and promising directions for their future use. It includes 2 parts.\n",
    "\n",
    "The first part consists of exploring the data for issues (e.g. nonsensical or contradictory entries, outliers, mising data, evidence of bias) and interesting trends (relationships between variables, e.g. specific drugs & reactions, countries & seriousness of reactions, coinciding reactions, etc.). At every opportunity, we identify potential sources of bias and discuss directions for further investigation of these. \n",
    "\n",
    "The second part consists of trying to predict the seriousness of an adverse reaction given some of the patient's characteristics. In this context we perform feature selection, assessing the informativeness of each feature w.r.t. the target (Seriousness of reaction) using different information-theoretic feature selection methods. We relate the outcomes of feature selection with our findings in Part 1.\n",
    "\n",
    "We then construct a classifier (the code allows for multiple options) evaluate its performance using several appropriate measures and discuss the intricacies of data preprocessing, handling imbalanced data and calibrating the scores of the classifier to obtain more reliable probabilistic estimates.\n",
    "\n",
    "The analysis carried out here is performed based on only a small subset of reports: \n",
    "<br>\n",
    "5000 reports related to patients receiving treatments for cancer, filed during the last 5 years.\n",
    "\n",
    "It also only considers a small subset of the features:\n",
    "\n",
    "i) The patient's gender,\n",
    "<br>\n",
    "ii) The patient's age group,\n",
    "<br>\n",
    "iii) The patients' weight,\n",
    "<br>\n",
    "iv) The patient's age at the onset of the event,\n",
    "<br>\n",
    "v) The drug's generic name,\n",
    "<br>\n",
    "vi) The country where the event occurred,\n",
    "<br>\n",
    "vii) The number of adverse reactions experienced by the patient,\n",
    "<br>\n",
    "viii) A list of up to 5 adverse reactions along with their corresponding outcomes, finally\n",
    "<br>\n",
    "ix) A binary variable describing the seriousness of their reaction, i.e. whether \"the adverse event resulted in death, a life threatening condition, hospitalization, disability, congenital anomaly, or other serious condition\" or it didn't.\n",
    "\n",
    "The code is easily customisable to allow the inclusion of more reports (just change the parameter 'num_batches' in the first block of code ) and (with minor modifications) features in the future."
   ]
  },
  {
   "cell_type": "markdown",
   "metadata": {},
   "source": [
    "## Word of caution"
   ]
  },
  {
   "cell_type": "markdown",
   "metadata": {},
   "source": [
    "OpenFDA reports are not verified by the FDA.\n",
    "\n",
    "The is a wealth of data in these reports but they contain nonsensical or contradictory entries and mising data.\n",
    "\n",
    "The reports are also biased and drawing any conclusions from these --especially for countries other than the US (we will see why in Part 1) should be done with extreme caution. \n",
    "\n",
    "Finally, the analysis carried out here is merely done to illustrate steps taken when analyzing data. It is performed on a very small subset of the data and only includes a very small subset of the available features -- not necessarily the most interesting or informative."
   ]
  },
  {
   "cell_type": "markdown",
   "metadata": {},
   "source": [
    "# Part 1: Downloading & Cleaning Data"
   ]
  },
  {
   "cell_type": "markdown",
   "metadata": {},
   "source": [
    "First we import some useful modules:"
   ]
  },
  {
   "cell_type": "code",
   "execution_count": 232,
   "metadata": {},
   "outputs": [
    {
     "name": "stdout",
     "output_type": "stream",
     "text": [
      "The code has been tested using Requests version 2.22.0 / current version: 2.22.0\n",
      "The code has been tested using Numpy version 1.17.2 / current version: 1.17.2\n",
      "The code has been tested using Pandas version 0.25.1 / current version: 0.25.1\n",
      "The code has been tested using Matplotlib version 3.1.1 / current version: 3.1.1\n",
      "The code has been tested using Scikit-Learn version 0.23.1 / current version: 0.23.1\n",
      "The code has been tested using the skfeature package found at: https://github.com/jundongl/scikit-feature/tree/master/skfeature\n"
     ]
    }
   ],
   "source": [
    "import requests\n",
    "import numpy as np\n",
    "import matplotlib.pyplot as plt\n",
    "import pandas as pd\n",
    "from sklearn.model_selection import train_test_split\n",
    "from sklearn import metrics\n",
    "from sklearn import preprocessing\n",
    "from sklearn.utils import shuffle\n",
    "from sklearn.calibration import CalibratedClassifierCV\n",
    "\n",
    "#Leave only for model used, comment rest:\n",
    "#from sklearn import tree\n",
    "from sklearn import ensemble\n",
    "#from sklearn import linear_model\n",
    "#from sklearn import neural_network\n",
    "#from sklearn import neighbors\n",
    "\n",
    "#Uncomment these lines to check if your version of the imported modules is up to date:\n",
    "import matplotlib\n",
    "import sklearn\n",
    "print('The code has been tested using Requests version 2.22.0 / current version: '+requests.__version__)\n",
    "print('The code has been tested using Numpy version 1.17.2 / current version: '+np.__version__)\n",
    "print('The code has been tested using Pandas version 0.25.1 / current version: '+pd.__version__)\n",
    "print('The code has been tested using Matplotlib version 3.1.1 / current version: '+matplotlib.__version__)\n",
    "print('The code has been tested using Scikit-Learn version 0.23.1 / current version: '+sklearn.__version__)\n",
    "print('The code has been tested using the skfeature package found at: https://github.com/jundongl/scikit-feature/tree/master/skfeature')"
   ]
  },
  {
   "cell_type": "markdown",
   "metadata": {},
   "source": [
    "## Next, we specify the data we request from OpenFDA:\n",
    "\n",
    "Note OpenFDA imposes some limitations on the data requests:\n",
    "\n",
    "1) A single URL request can return up to 1000 relevant results.\n",
    "<br>\n",
    "2) The user can skip results, but only up to a maximum of 25000.\n",
    "<br>\n",
    "3) There is a limit of 1,000 requests per day, per IP address for non-authorised users.\n",
    "\n",
    "Limitations 1 & 2 mean that the maximum number of datapoints we can download is 26000, in this example we only operate on 5000. To increase the sample size, just increase the parameter 'num_batches'.\n",
    "\n"
   ]
  },
  {
   "cell_type": "code",
   "execution_count": 8,
   "metadata": {},
   "outputs": [],
   "source": [
    "#Variables to control data request:\n",
    "batch_size = 1000 #(Maximum) number of results to download per query from openfda\n",
    "num_batches = 5 #Number of queries to submit to openfda\n",
    "num_reactions = 5 #Number of different reactions with their outcome to store (as ordered in patient.reaction)\n",
    "step = 1 #Step size when sampling openfda database (default:'1' to not omit any entry, i.e. collect first batch_size*batch_size) \n",
    "\n",
    "#Query Specification: (this example: a subset of all reports over the last 5 years related to cancer starting from oldest)\n",
    "URL_related_disease = '\"cancer\"'\n",
    "URL_received_date_range = '+AND+receivedate:[20150930+TO+20200930]'#i.e. last 5 years until September 30th\n",
    "URL_base = 'https://api.fda.gov/drug/event.json?search='\n",
    "URL_batch_size = '&limit='+str(batch_size)\n",
    "URL = URL_base+URL_related_disease+URL_received_date_range+URL_batch_size"
   ]
  },
  {
   "cell_type": "markdown",
   "metadata": {},
   "source": [
    "## Loading data"
   ]
  },
  {
   "cell_type": "code",
   "execution_count": 256,
   "metadata": {},
   "outputs": [
    {
     "name": "stdout",
     "output_type": "stream",
     "text": [
      "Collecting data from openfda. Query submitted:\n",
      "https://api.fda.gov/drug/event.json?search=\"cancer\"+AND+receivedate:[20150930+TO+20200930]&limit=1000&skip=0\n",
      "Collecting data from openfda. Query submitted:\n",
      "https://api.fda.gov/drug/event.json?search=\"cancer\"+AND+receivedate:[20150930+TO+20200930]&limit=1000&skip=1000\n",
      "Collecting data from openfda. Query submitted:\n",
      "https://api.fda.gov/drug/event.json?search=\"cancer\"+AND+receivedate:[20150930+TO+20200930]&limit=1000&skip=2000\n",
      "Collecting data from openfda. Query submitted:\n",
      "https://api.fda.gov/drug/event.json?search=\"cancer\"+AND+receivedate:[20150930+TO+20200930]&limit=1000&skip=3000\n",
      "Collecting data from openfda. Query submitted:\n",
      "https://api.fda.gov/drug/event.json?search=\"cancer\"+AND+receivedate:[20150930+TO+20200930]&limit=1000&skip=4000\n"
     ]
    }
   ],
   "source": [
    "#Load Data\n",
    "verbose = 0 # User defined; if 1 will inform you of each datapoint being loaded\n",
    "\n",
    "X = []\n",
    "for j in range(num_batches):\n",
    "    #Load data from openfda:\n",
    "    \n",
    "    URL_j = URL + '&skip='+str(batch_size*j*step)\n",
    "    print(\"Collecting data from openfda. Query submitted:\")\n",
    "    print(URL_j)\n",
    "    data = requests.get(URL_j).json() \n",
    "\n",
    "    #Populate a table with variables of interest:   (Might modify/expand)\n",
    "    #Default array values denote missing or non-applicable entries\n",
    "    serious = np.zeros((len(data[\"results\"]), 1))\n",
    "    patient_sex = np.zeros((len(data[\"results\"]), 1))\n",
    "    patient_age_group = np.zeros((len(data[\"results\"]), 1))\n",
    "    patient_drug = np.full((len(data[\"results\"]), 1), 'Unknown', dtype=object)  \n",
    "    occurcountry = np.full((len(data[\"results\"]), 1), 'Unknown', dtype=object)\n",
    "    patient_reaction = np.full((len(data[\"results\"]), num_reactions), 'None', dtype=object)\n",
    "    patient_reaction_outcome = np.zeros((len(data[\"results\"]), num_reactions))\n",
    "    patient_num_reactions = np.zeros((len(data[\"results\"]), 1))\n",
    "    patient_weight = np.zeros((len(data[\"results\"]), 1))\n",
    "    patient_onset_age = np.ones((len(data[\"results\"]), 1))*(-1)\n",
    "    \n",
    "    for i in range(len(data[\"results\"])):\n",
    "        if verbose == 1:\n",
    "            print(\"Saving relevant data from: Batch \"+str(j+1)+ \" of \"+str(num_batches)+\", Datapoint \"+str(i+1)+\" of \"+str((len(data[\"results\"]))))\n",
    "        if 'occurcountry' in data[\"results\"][i]:\n",
    "            occurcountry[i] = data[\"results\"][i][\"occurcountry\"]\n",
    "        if 'serious' in data[\"results\"][i]:\n",
    "            serious[i] = data[\"results\"][i][\"serious\"]          #Be more specific about seriousness?\n",
    "        if 'patientsex' in data[\"results\"][i][\"patient\"]:\n",
    "            patient_sex[i] = data[\"results\"][i][\"patient\"][\"patientsex\"]\n",
    "        if 'patientweight' in data[\"results\"][i][\"patient\"]:\n",
    "            patient_weight[i] = data[\"results\"][i][\"patient\"][\"patientweight\"] \n",
    "        if 'patientonsetage' in data[\"results\"][i][\"patient\"]:\n",
    "            patient_onset_age[i] = data[\"results\"][i][\"patient\"][\"patientonsetage\"]\n",
    "        if 'patientagegroup' in data[\"results\"][i][\"patient\"]:\n",
    "            patient_age_group[i] = data[\"results\"][i][\"patient\"][\"patientagegroup\"]\n",
    "        if 'openfda' in data[\"results\"][i][\"patient\"][\"drug\"][0]:\n",
    "             if 'generic_name' in data[\"results\"][i][\"patient\"][\"drug\"][0][\"openfda\"]:\n",
    "                 patient_drug[i] = data[\"results\"][i][\"patient\"][\"drug\"][0][\"openfda\"][\"generic_name\"][0] #If multiple names given, pick first. Use other drug identifier?\n",
    "        patient_num_reactions[i] = len(data[\"results\"][i][\"patient\"] [\"reaction\"])\n",
    "        for k in range(num_reactions):\n",
    "             if k < patient_num_reactions[i]-1:\n",
    "                 if 'reactionmeddrapt' in data[\"results\"][i][\"patient\"] [\"reaction\"][k]:\n",
    "                     patient_reaction[i,k] = data[\"results\"][i][\"patient\"] [\"reaction\"][k]['reactionmeddrapt']\n",
    "                 if 'reactionoutcome' in data[\"results\"][i][\"patient\"] [\"reaction\"][k]:\n",
    "                     patient_reaction_outcome[i,k] = data[\"results\"][i][\"patient\"] [\"reaction\"][k]['reactionoutcome']   \n",
    "\n",
    "    #Concatenate variables of interest to form feature array:\n",
    "    X_batch = np.concatenate((patient_sex, patient_weight, patient_onset_age, patient_age_group, patient_num_reactions, occurcountry, patient_drug, patient_reaction, patient_reaction_outcome, serious), axis=1)\n",
    "    if j==0: #Initialize data array X on first batch:\n",
    "        X = X_batch\n",
    "    else: #Add last batch to data array X:\n",
    "        X = np.concatenate((X,X_batch))\n",
    "del data # Delete variable storing results of last openfda query to potentially save memory\n",
    "\n",
    "\n",
    "#For convenience, turn X into a Pandas dataframe:\n",
    "column_names = [\"patient_sex\", \"patient_weight\", \"patient_onset_age\", \"patient_age_group\", \"patient_num_reactions\", \"occurcountry\", \"patient_drug\"]\n",
    "for k in range(num_reactions):\n",
    "    column_names.append(\"patient_reaction_\"+str(k+1))\n",
    "for k in range(num_reactions):\n",
    "    column_names.append(\"patient_reaction_outcome_\"+str(k+1))\n",
    "column_names.append(\"serious\")\n",
    " \n",
    "df = pd.DataFrame(data=X, columns=column_names).fillna(-1)#impute 'NaN' values with ''-1'\n",
    "\n",
    "#Use some more recognizable labels for certain variables' values:\n",
    "df.loc[(df.patient_sex == 0),'patient_sex'] = 'Unknown'\n",
    "df.loc[(df.patient_sex == 1),'patient_sex'] = 'Male'\n",
    "df.loc[(df.patient_sex == 2),'patient_sex'] = 'Female'\n",
    "df.loc[(df.serious == 1),'serious'] = 'Serious'\n",
    "df.loc[(df.serious == 2),'serious'] = 'Not Serious'\n",
    "df.loc[(df.patient_age_group == 0),'patient_age_group'] = 'Unknown'\n",
    "df.loc[(df.patient_age_group == 1),'patient_age_group'] = 'Neonate'\n",
    "df.loc[(df.patient_age_group == 2),'patient_age_group'] = 'Infant'\n",
    "df.loc[(df.patient_age_group == 3),'patient_age_group'] = 'Child'\n",
    "df.loc[(df.patient_age_group == 4),'patient_age_group'] = 'Adolescent'\n",
    "df.loc[(df.patient_age_group == 5),'patient_age_group'] = 'Adult'\n",
    "df.loc[(df.patient_age_group == 6),'patient_age_group'] = 'Elderly'\n",
    "\n",
    "df_raw = df #Keep a copy of the data, can e.g. use for comparisons after imputation/cleaning"
   ]
  },
  {
   "cell_type": "markdown",
   "metadata": {},
   "source": [
    "## Simple sanity checks:"
   ]
  },
  {
   "cell_type": "markdown",
   "metadata": {},
   "source": [
    "Let us first make sure we indeed downloaded the desired number of datapoints and features:"
   ]
  },
  {
   "cell_type": "code",
   "execution_count": 103,
   "metadata": {},
   "outputs": [
    {
     "name": "stdout",
     "output_type": "stream",
     "text": [
      "The downloaded data contain information from 5000 OpenFDA reports related to cancer.\n",
      "The following 18 variables are stored for further analysis: \n",
      "['patient_sex', 'patient_weight', 'patient_onset_age', 'patient_age_group', 'patient_num_reactions', 'occurcountry', 'patient_drug', 'patient_reaction_1', 'patient_reaction_2', 'patient_reaction_3', 'patient_reaction_4', 'patient_reaction_5', 'patient_reaction_outcome_1', 'patient_reaction_outcome_2', 'patient_reaction_outcome_3', 'patient_reaction_outcome_4', 'patient_reaction_outcome_5', 'serious']\n"
     ]
    }
   ],
   "source": [
    "print('The downloaded data contain information from '+str(df.shape[0])+' OpenFDA reports related to cancer.')\n",
    "print('The following '+str(df.shape[1])+' variables are stored for further analysis: ')\n",
    "print(list(df.columns.values))"
   ]
  },
  {
   "cell_type": "markdown",
   "metadata": {},
   "source": [
    "We can perform some sanity checks to see that the data entries make sense. For instance:"
   ]
  },
  {
   "cell_type": "code",
   "execution_count": 11,
   "metadata": {},
   "outputs": [
    {
     "name": "stdout",
     "output_type": "stream",
     "text": [
      "Result = 0 / Expected Result =  0\n"
     ]
    }
   ],
   "source": [
    "#Example sanity check - Count number of patients whose reaction was 'Fatal' (outcome 5), yet are marked as 'Not Serious' (number should be 0):\n",
    "check_serious = df[(df[\"patient_reaction_outcome_1\"] == 5) & (df.serious == 'Not Serious')].shape[0] + df[(df[\"patient_reaction_outcome_2\"] == 5) & (df.serious == 'Not Serious')].shape[0] + df[(df[\"patient_reaction_outcome_3\"] == 5) & (df.serious == 'Not Serious')].shape[0] + df[(df[\"patient_reaction_outcome_4\"] == 5) & (df.serious == 'Not Serious')].shape[0] + df[(df[\"patient_reaction_outcome_5\"] == 5) & (df.serious == 'Not Serious')].shape[0]\n",
    "print('Result = '+str(check_serious)+' / Expected Result =  0')"
   ]
  },
  {
   "cell_type": "markdown",
   "metadata": {},
   "source": [
    "The check above shows that the dataset does not (hopefully!) contain patients whose reaction outcome was 'Fatal', yet their reactions marked as 'Not Serious'.\n",
    "\n",
    "Not all columns are as clean though! See the example below."
   ]
  },
  {
   "cell_type": "code",
   "execution_count": 14,
   "metadata": {},
   "outputs": [
    {
     "name": "stdout",
     "output_type": "stream",
     "text": [
      "63      26865.0\n",
      "170     27255.0\n",
      "264     28773.0\n",
      "271     23944.0\n",
      "360       695.0\n",
      "396     22873.0\n",
      "425     25477.0\n",
      "432     26514.0\n",
      "603     19547.0\n",
      "614     29610.0\n",
      "858       115.0\n",
      "1048    26800.0\n",
      "1213      825.0\n",
      "1224    13172.0\n",
      "1303     8345.0\n",
      "1385      502.0\n",
      "1466    21985.0\n",
      "1522    24525.0\n",
      "1856      804.0\n",
      "1897    30362.0\n",
      "2136    25697.0\n",
      "2148    30871.0\n",
      "2251    29369.0\n",
      "2352    22425.0\n",
      "2353    23327.0\n",
      "2570      715.0\n",
      "2647    23558.0\n",
      "2675    27233.0\n",
      "2833    21965.0\n",
      "2942    16938.0\n",
      "2985      789.0\n",
      "3413    27834.0\n",
      "3590      790.0\n",
      "3623    24382.0\n",
      "3749    31100.0\n",
      "3793    18372.0\n",
      "3799    19532.0\n",
      "3847      519.0\n",
      "4126    28260.0\n",
      "4299      752.0\n",
      "4462    21231.0\n",
      "4504    29481.0\n",
      "4641    23253.0\n",
      "4712      726.0\n",
      "4794    27942.0\n",
      "4801      759.0\n",
      "4879    27735.0\n",
      "4882    33329.0\n",
      "Name: patient_onset_age, dtype: float64\n"
     ]
    }
   ],
   "source": [
    "#Example sanity check - List patients whose onset age is greater than 110:\n",
    "df_check = df[df.patient_onset_age > 110]\n",
    "print(df_check[\"patient_onset_age\"])"
   ]
  },
  {
   "cell_type": "markdown",
   "metadata": {},
   "source": [
    "Although age (in years) at event onset values like '115' might be valid, most of these entries are clearly nonsensical."
   ]
  },
  {
   "cell_type": "markdown",
   "metadata": {},
   "source": [
    "We shall not spend any more time performing such sanity checks on our data. The lesson here is that some of the variables might contain erroneous values or missing entries. \n",
    "\n",
    "Before using the data to derive any conclusions or to train any models, we should investigate extensively for such issues. Once we identify them, we can take measures to decrease their influence on further steps of the analysis."
   ]
  },
  {
   "cell_type": "markdown",
   "metadata": {},
   "source": [
    "## Use insights of sanity checks to do some data cleaning:"
   ]
  },
  {
   "cell_type": "markdown",
   "metadata": {},
   "source": [
    "We saw above that the dataset contains several patients whose age at the onset of the event is clearly wrong. We can replace these with a missing value token to avoid using them:"
   ]
  },
  {
   "cell_type": "code",
   "execution_count": 15,
   "metadata": {},
   "outputs": [],
   "source": [
    "#Data Cleaning example - Replace obviously wrong ages with '-1' for 'unknown':\n",
    "df.loc[(df.patient_onset_age > 110),'patient_onset_age'] = -1\n",
    "#df.loc[(df.patient_onset_age == 'NaN'),'patient_onset_age'] = -1"
   ]
  },
  {
   "cell_type": "markdown",
   "metadata": {},
   "source": [
    "## Or to perform some imputation of missing data:"
   ]
  },
  {
   "cell_type": "markdown",
   "metadata": {},
   "source": [
    "For example, many entries for the patient's gender are marked as 'Unknown', yet the patients can exhibit reactions that hint to their gender like e.g. 'Prostate Cancer' or 'Cervical Cancer'. We can use this information to impute the missing gender value.\n",
    "\n",
    "Ideally, to impute 'Unknown' gender values, we have acces to a list of reactions not applicable to each gender (e.g. by exhaustively inspecting the list of reactions in the data and perhaps consulting domain experts). Note that the reactions listed just in this sample exceed 1500 and multiple ones are listed by the reporter under different names (e.g. entries \"Disease Progression\", \"Breast Cancer Progression\", \"Malignant Neoplasm Progression\", \"Malignant Tumor Progression\", and more, might refer to the same reaction: the patient's cancer progressing) --this is yet another issue we sould have to correct for proper analysis of the data in practice.\n",
    "\n",
    "As a rough approximation to this, we perform imputation as follows: once we find that a certain reaction is only expressed in the data in Female (conversely Male) patients or patients of unknown gender, we can assume it is not applicable to Male (conversely Female) patients and all patients of unknown gender are imputed as Males (conversely Female).\n",
    "\n",
    "Of course this is a simplistic assumption. These reactions might just be very rare for the other gender and this might be an effect of a small and/or biased dataset."
   ]
  },
  {
   "cell_type": "code",
   "execution_count": 18,
   "metadata": {},
   "outputs": [
    {
     "name": "stdout",
     "output_type": "stream",
     "text": [
      "Patients of unknown gender before imputation: 615\n",
      "Patients of unknown gender after imputation: 476\n"
     ]
    }
   ],
   "source": [
    "print('Patients of unknown gender before imputation: '+str(df[df.patient_sex == 'Unknown'].shape[0]))\n",
    "\n",
    "#Data Imputation example - Use reactions to infer patient sex, if unspecified:\n",
    "reaction_list = np.unique(X[:,7:7+num_reactions])\n",
    "for i in range((len(reaction_list))):\n",
    "    #Find all patients exhibiting reaction:  \n",
    "    df_temp = df.loc[(df.patient_reaction_1 == reaction_list[i]) | (df.patient_reaction_2 == reaction_list[i]) | (df.patient_reaction_3 == reaction_list[i]) | (df.patient_reaction_4 == reaction_list[i]) | (df.patient_reaction_5 == reaction_list[i])]\n",
    "    #If one gender's count is 0 for the i-th reaction, assume it is not applicable to said gender:\n",
    "    if df_temp[df_temp['patient_sex']=='Male'].shape[0] == 0: #No males reported with this reaction\n",
    "        #Impute all missing gender values as Female:\n",
    "        df.loc[(df_temp.patient_sex == 'Unknown').index.values.tolist(),'patient_sex'] = 'Female'\n",
    "    elif df_temp[df_temp['patient_sex']=='Female'].shape[0] == 0: #No females reported with this reaction\n",
    "        #Impute all missing gender values as Male:\n",
    "        df.loc[(df_temp.patient_sex == 'Unknown').index.values.tolist(),'patient_sex'] = 'Male'\n",
    "\n",
    "print('Patients of unknown gender after imputation: '+str(df[df.patient_sex == 'Unknown'].shape[0]))"
   ]
  },
  {
   "cell_type": "markdown",
   "metadata": {},
   "source": [
    "Let us now list the countries of event occurence, the drugs and the reactions reported by order of descending occurence in the data. This will be useful for later steps of the exploratory analysis."
   ]
  },
  {
   "cell_type": "code",
   "execution_count": 138,
   "metadata": {},
   "outputs": [],
   "source": [
    "#Find unique values for country, drug, reaction_list & their (relative) frequency of occurence:\n",
    "remove_unknown = 1 #To not consider in the following visualisations entries marked as 'Unknown' \n",
    "\n",
    "country_list, country_counts = np.unique(df[\"occurcountry\"], return_counts=True)\n",
    "country_counts = (country_counts/len(df[\"occurcountry\"]))*100 #Normalize by total to get relative frequency, multiply by 100 for percentage\n",
    "country_counts_sorted_desc, country_list_sorted_desc = zip(*sorted(zip(country_counts, country_list), reverse=True))\n",
    "\n",
    "drug_list, drug_counts = np.unique(df[\"patient_drug\"], return_counts=True)\n",
    "drug_counts = (drug_counts/len(df[\"patient_drug\"]))*100 #Normalize by total to get relative frequency, multiply by 100 for percentage\n",
    "drug_counts_sorted_desc, drug_list_sorted_desc = zip(*sorted(zip(drug_counts, drug_list), reverse=True))\n",
    "\n",
    "reaction_list, reaction_counts = np.unique(df[[\"patient_reaction_1\", \"patient_reaction_2\", \"patient_reaction_3\", \"patient_reaction_4\", \"patient_reaction_5\"]], return_counts=True)\n",
    "reaction_counts = (reaction_counts/len(df[\"patient_reaction_1\"]))*100 #Normalize by total to get relative frequency, multiply by 100 for percentage\n",
    "reaction_counts_sorted_desc, reaction_list_sorted_desc = zip(*sorted(zip(reaction_counts, reaction_list), reverse=True))\n",
    "\n",
    "if remove_unknown == 1:\n",
    "    temp_country_list = list(country_list_sorted_desc)\n",
    "    temp_country_counts_list = list(country_counts_sorted_desc)\n",
    "    indx_to_remove = temp_country_list.index('Unknown')\n",
    "    del temp_country_list[indx_to_remove]\n",
    "    del temp_country_counts_list[indx_to_remove]\n",
    "    country_list_sorted_desc = tuple(temp_country_list)\n",
    "    country_counts_sorted_desc = tuple(temp_country_counts_list)\n",
    "\n",
    "    temp_drug_list = list(drug_list_sorted_desc)\n",
    "    temp_drug_counts_list = list(drug_counts_sorted_desc)\n",
    "    indx_to_remove = temp_drug_list.index('Unknown')\n",
    "    del temp_drug_list[indx_to_remove]\n",
    "    del temp_drug_counts_list[indx_to_remove]\n",
    "    drug_list_sorted_desc = tuple(temp_drug_list)\n",
    "    drug_counts_sorted_desc = tuple(temp_drug_counts_list)    \n",
    "    \n",
    "    temp_reaction_list = list(reaction_list_sorted_desc)\n",
    "    temp_reaction_counts_list = list(reaction_counts_sorted_desc)\n",
    "    indx_to_remove = temp_reaction_list.index('None')\n",
    "    del temp_reaction_list[indx_to_remove]\n",
    "    del temp_reaction_counts_list[indx_to_remove]\n",
    "    reaction_list_sorted_desc = tuple(temp_reaction_list)\n",
    "    reaction_counts_sorted_desc = tuple(temp_reaction_counts_list)  "
   ]
  },
  {
   "cell_type": "markdown",
   "metadata": {},
   "source": [
    "We can print these lists to see the countries, drugs & reactions associated with the reports. Remember, they are listed in order of number of appearances in the data (from most to least frequent)."
   ]
  },
  {
   "cell_type": "code",
   "execution_count": 139,
   "metadata": {},
   "outputs": [
    {
     "name": "stdout",
     "output_type": "stream",
     "text": [
      "The sample contains reports from 73 countries (excluding \"Unknown\").\n",
      "The listed countries, in descenting order of frequency of appearences are:\n",
      "('US', 'JP', 'CA', 'IT', 'FR', 'DE', 'GB', 'NL', 'BR', 'CO', 'CN', 'IN', 'AU', 'ES', 'KR', 'BE', 'CH', 'CZ', 'AT', 'AR', 'GR', 'IL', 'TW', 'DK', 'SE', 'PL', 'TR', 'MX', 'NO', 'VE', 'IE', 'FI', 'CL', 'PT', 'IR', 'HU', 'SA', 'RU', 'RO', 'PH', 'PE', 'ID', 'SK', 'HR', 'TH', 'NZ', 'MY', 'ZA', 'EC', 'BG', 'VN', 'UY', 'SG', 'RS', 'QA', 'PR', 'HK', 'GT', 'UA', 'TN', 'SI', 'SD', 'PK', 'PA', 'NG', 'MT', 'MA', 'LK', 'LB', 'GH', 'EG', 'CY', 'AM')\n"
     ]
    }
   ],
   "source": [
    "print('The sample contains reports from '+str(len(country_list_sorted_desc))+' countries (excluding \"Unknown\").')\n",
    "print('The listed countries, in descenting order of frequency of appearences are:')\n",
    "print(country_list_sorted_desc)"
   ]
  },
  {
   "cell_type": "code",
   "execution_count": 140,
   "metadata": {},
   "outputs": [
    {
     "name": "stdout",
     "output_type": "stream",
     "text": [
      "The sample contains reports on 445 drugs (excluding \"Unknown\").\n",
      "The listed drugs (generic name), in descenting order of frequency of appearences are:\n",
      "('PALBOCICLIB', 'TRASTUZUMAB', 'ENZALUTAMIDE', 'PANITUMUMAB', 'ABIRATERONE ACETATE', 'EVEROLIMUS', 'BEVACIZUMAB', 'LEUPROLIDE ACETATE', 'CAPECITABINE', 'LETROZOLE', 'NIVOLUMAB', 'LAPATINIB', 'DENOSUMAB', 'PAZOPANIB HYDROCHLORIDE', 'CARBOPLATIN', 'CISPLATIN', 'EXEMESTANE', 'DOCETAXEL', 'CETUXIMAB', 'SUNITINIB MALATE', 'PACLITAXEL', 'FLUOROURACIL', 'PERTUZUMAB', 'ADO-TRASTUZUMAB EMTANSINE', 'OXALIPLATIN', 'REGORAFENIB', 'ETANERCEPT', 'ZOLEDRONIC ACID', 'SORAFENIB', 'DOXORUBICIN', 'AFATINIB', 'PREDNISONE', 'LENVATINIB', 'METHOTREXATE', 'GEMCITABINE HYDROCHLORIDE', 'ANASTROZOLE', 'CYCLOPHOSPHAMIDE', 'ADALIMUMAB', 'FULVESTRANT', 'ETOPOSIDE', 'CRIZOTINIB', 'AXITINIB', 'ERLOTINIB HYDROCHLORIDE', 'DEXAMETHASONE 1.5 MG', 'PIOGLITAZONE', 'INFLIXIMAB', 'RADIUM RA 223 DICHLORIDE', 'PEGFILGRASTIM', 'INTERFERON BETA-1A', 'DIMETHYL FUMARATE', 'CERITINIB', 'VISMODEGIB', 'OMEPRAZOLE MAGNESIUM', 'FILGRASTIM', 'OLAPARIB', 'OXYCODONE HYDROCHLORIDE', 'LENALIDOMIDE', 'SILDINAFIL', 'PREGABALIN', 'DOXORUBICIN HYDROCHLORIDE', 'AMLODIPINE', 'USTEKINUMAB', 'RAMUCIRUMAB', 'PREDNISOLONE', 'GEFITINIB', 'PEMBROLIZUMAB', 'METFORMIN ER 500 MG', 'FUROSEMIDE', 'ERIBULIN MESYLATE', 'ASPIRIN 81MG', 'METOPROLOL', 'LEVOTHYROXINE', 'FINGOLIMOD HCL', 'TOCILIZUMAB', 'ROSUVASTATIN CALCIUM', 'OCTREOTIDE ACETATE', 'MORPHINE', 'LISINOPRIL', 'LEVOTHYROXINE SODIUM', 'ATORVASTATIN CALCIUM', 'AMBRISENTAN', 'VEMURAFENIB', 'RITUXIMAB', 'LEVOTHYROXINE SODIUM ANHYDROUS', 'GOSERELIN ACETATE', 'GABAPENTIN', 'DEGARELIX', 'BICALUTAMIDE', 'ACETAMINOPHEN, GUAIFENESIN, AND PHENYLEPHRINE HYDROCHLORIDE', 'WARFARIN SODIUM', 'VINORELBINE', 'VALSARTAN', 'PANTOPRAZOLE', 'ONDANSETRON HYDROCHLORIDE', 'NATALIZUMAB', 'LORAZEPAM', 'GOLIMUMAB', 'FOLIC ACID', 'DASATINIB', 'DABRAFENIB', 'CABOZANTINIB', 'APIXABAN', 'ABATACEPT', 'WARFARIN', 'TRIPTORELIN PAMOATE', 'TRAMETINIB', 'RIVAROXABAN', 'MELPHALAN', 'LEUCOVORIN CALCIUM', 'HYDROXYUREA', 'HYDROXYCHLOROQUINE SULFATE', 'FENTANYL', 'ERGOCALCIFEROL', 'CLOZAPINE', 'CABAZITAXEL', 'BACILLUS CALMETTE-GUERIN', 'ZOLPIDEM TARTRATE', 'VANDETANIB', 'VALRUBICIN', 'VALPROIC ACID', 'RUXOLITINIB', 'RIBAVIRIN', 'PIRFENIDONE', 'OXYCODONE', 'MORPHINE SULFATE', 'IRINOTECAN HYDROCHLORIDE', 'INSULIN GLARGINE', 'ESTROGENS, CONJUGATED', 'CLOPIDOGREL', 'ATENOLOL', 'AMLODIPINE BESYLATE', 'ALLOPURINOL', 'VINORELBINE TARTRATE', 'TOFACITINIB', 'TIOTROPIUM BROMIDE', 'TENOFOVIR DISOPROXIL FUMARATE', 'TADALAFIL', 'SODIUM OXYBATE', 'SITAGLIPTIN', 'SIMVASTATIN', 'RANITIDINE HYDROCHLORIDE', 'PEMETREXED DISODIUM', 'ONDANSETRON', 'LEVONORGESTREL', 'IMATINIB MESYLATE', 'IMATINIB', 'HYDROCODONE BITARTRATE AND ACETAMINOPHEN', 'HYDROCHLOROTHIAZIDE', 'FINASTERIDE', 'EXENATIDE', 'ESOMEPRAZOLE SODIUM', 'ENTECAVIR', 'ENOXAPARIN SODIUM', 'DEXAMETHASONE', 'DABIGATRAN ETEXILATE MESYLATE', 'CLOPIDOGREL BISULFATE', 'CLONAZEPAM', 'CITALOPRAM', 'CERTOLIZUMAB PEGOL', 'CARVEDILOL', 'BORTEZOMIB', 'ALENDRONATE SODIUM', 'AFLIBERCEPT', 'THALIDOMIDE', 'TERIPARATIDE', 'TEMSIROLIMUS', 'SILDENAFIL CITRATE', 'SERTRALINE HYDROCHLORIDE', 'SERTRALINE', 'RAMIPRIL', 'POTASSIUM CHLORIDE EXTENDED-RELEASE', 'POMALIDOMIDE', 'POLYETHYLENE GLYCOL 3350', 'PEGINTERFERON BETA-1A', 'PANTOPRAZOLE SODIUM', 'MYCOPHENOLIC ACID', 'METHADONE', 'MESNA', 'LOPERAMIDE HYDROCHLORIDE', 'LANSOPRAZOLE', 'IRBESARTAN', 'INSULIN LISPRO', 'IBRUTINIB', 'GLYCERIN', 'GLIPIZIDE', 'GLATIRAMER ACETATE', 'FLUTICASONE PROPIONATE AND SALMETEROL XINAFOATE', 'FLUOXETINE HYDROCHLORIDE', 'FLUDARABINE PHOSPHATE', 'FISH OIL', 'FENTANYL CITRATE', 'DUTASTERIDE', 'DIPHENHYDRAMINE', 'DIGOXIN', 'DEFERASIROX', 'DAPAGLIFLOZIN', 'DALFAMPRIDINE', 'CARBAMAZEPINE', 'APREMILAST', 'ALPRAZOLAM', 'ALBUTEROL SULFATE', 'ACITRETIN', 'ZIV-AFLIBERCEPT', 'TRIFLURIDINE AND TIPIRACIL', 'TRABECTEDIN', 'TOPOTECAN', 'THIAMINE HYDROCHLORIDE', 'TESTOSTERONE CYPIONATE', 'TERIFLUNOMIDE', 'TELMISARTAN', 'TAMSULOSIN HYDROCHLORIDE', 'TAFLUPROST', 'TACROLIMUS CAPSULES', 'SPIRONOLACTONE', 'SOMATROPIN', 'SIROLIMUS', 'SENNA LEAF', 'RANOLAZINE', 'RANIBIZUMAB', 'RABEPRAZOLE', 'QUINAPRIL HYDROCHLORIDE', 'PROPRANOLOL HYDROCHLORIDE', 'PHYTONADIONE', 'PAROXETINE HYDROCHLORIDE', 'PARICALCITOL', 'OMALIZUMAB', 'OLANZAPINE PAMOATE', 'NYSTATIN', 'NINTEDANIB', 'NILOTINIB', 'NAPROXEN SODIUM', 'NALOXEGOL OXALATE', 'MOMETASONE FUROATE AND FORMOTEROL FUMARATE DIHYDRATE', 'MICAFUNGIN SODIUM', 'METRONIDAZOLE', 'METHYLPREDNISOLONE', 'METHOTREXATE SODIUM', 'METFORMIN', 'MAGNESIUM OXIDE', 'MAGNESIUM', 'MACITENTAN', 'LOSARTAN POTASSIUM', 'LORATADINE', 'LOPINAVIR AND RITONAVIR', 'LOMITAPIDE MESYLATE', 'LIRAGLUTIDE', 'LEDIPASVIR AND SOFOSBUVIR', 'LATANOPROST', 'LAMOTIRIGINE', 'LACTULOSE', 'KETOCONAZOLE', 'IPILIMUMAB', 'INSULIN DETEMIR', 'IFOSFAMIDE', 'IDELALISIB', 'IBUPROFEN SODIUM', 'IBUPROFEN 200MG', 'HYDROMORPHONE HYDROCHLORIDE', 'HYDRALAZINE HYDROCHLORIDE', 'HISTRELIN ACETATE', 'GRANISETRON', 'GLYCERYL TRINITRATE', 'GLYCEROL PHENYLBUTYRATE', 'GANCICLOVIR', 'FLUTICASONE PROPIONATE AND SALMETEROL', 'FERROUS SULFATE', 'ESZOPICLONE', 'ESTRAMUSTINE PHOSPHATE SODIUM', 'ESOMEPRAZOLE MAGNESIUM', 'ECULIZUMAB', 'DULOXETINE HYDROCHLORIDE', 'DRONABINOL', 'DOCUSATE SODIUM - SENNOSIDES', 'DICLOFENAC SODIUM', 'DARBEPOETIN ALFA', 'CYCLOSPORINE', 'CLINDAMYCIN PHOSPHATE', 'CILOSTAZOL', 'CARVEDILOL PHOSPHATE', 'CANAGLIFLOZIN', 'BUPROPION HYDROCHLORIDE', 'BUDESONIDE AND FORMOTEROL FUMARATE DIHYDRATE', 'BOSUTINIB MONOHYDRATE', 'BLEOMYCIN', 'BENADRYL', 'AZITHROMYCIN DIHYDRATE', 'AZELASTINE HYDROCHLORIDE', 'AZATHIOPRINE', 'ARIPIPRAZOLE', 'ACYCLOVIR SODIUM', 'ACETYLSALICYLIC ACID', 'ACETYLCYSTEINE', 'ACETAMINOPHEN', 'VENLAFAXINE HYDROCHLORIDE', 'VENLAFAXINE', 'VANCOMYCIN HYDROCHLORIDE', 'VALPROATE SODIUM', 'TRAVOPROST', 'TOPOTECAN HYDROCHLORIDE', 'TOPIRAMATE', 'TOLTERODINE TARTRATE', 'TOBRAMYCIN', 'TIMOLOL MALEATE', 'TICAGRELOR', 'THYROID, PORCINE', 'THIAMINE HYDROCHLORIDE, RIBOFLAVIN 5 PHOSPHATE SODIUM, DEXPANTHENOL AND NIACINAMIDE', 'TESTOSTERONE', 'TERAZOSIN HYDROCHLORIDE', 'TACROLIMUS', 'SULFASALAZINE', 'SULFAMETHOXAZOLE AND TRIMETHOPRIM', 'SUCRALFATE', 'STANDARDIZED SENNA CONCENTRATE', 'SOLIFENACIN SUCCINATE', 'SITAGLIPTIN AND METFORMIN HYDROCHLORIDE', 'SIMETHICONE', 'SENNOSIDES', 'SELENIUM', 'SECUKINUMAB', 'ROFLUMILAST', 'RIVASTIGMINE TARTRATE', 'RISPERIDONE', 'REPAGLINIDE', 'RASAGILINE MESYLATE', 'QUETIAPINE EXTENDED-RELEASE', 'QUETIAPINE', 'PYRIDOSTIGMINE BROMIDE ORAL', 'PROPAFENONE HYDROCHLORIDE', 'PROMETHAZINE HYDROCHLORIDE', 'PROGESTERONE', 'POTASSIUM PHOSPHATE, MONOBASIC AND SODIUM PHOSPHATE, MONOBASIC, ANHYDROUS', 'PORFIMER SODIUM', 'PHENYLEPHRINE HYDROCHLORIDE', 'PEGINTERFERON ALFA-2B', 'PAROXETINE', 'PALONOSETRON HYDROCHLORIDE', 'OXYCODONE HYDROCHLORIDE AND ACETAMINOPHEN', 'OXYBUTYNIN', 'OCTREOTIDE', 'NITROGLYCERIN', 'NIFEDIPINE', 'NICOTINE POLACRILEX', 'NAPROXEN', 'NADOLOL', 'MYCOPHENOLATE MOFETIL', 'MONTELUKAST SODIUM', 'MONTELUKAST', 'MITOMYCIN', 'MIRTAZAPINE', 'MILK OF MAGNESIA', 'METYRAPONE', 'METOPROLOL SUCCINATE', 'METOCLOPRAMIDE HYDROCHLORIDE', 'METHYLPREDNISOLONE SODIUM SUCCINATE', 'METHOXY POLYETHYLENE GLYCOL-EPOETIN BETA', 'METHENAMINE, SODIUM PHOSPHATE, MONOBASIC, MONOHYDRATE, PHENYL SALICYLATE, METHYLENE BLUE, AND HYOSCYAMINE SULFATE', 'METFORMIN HYDROCHLORIDE', 'MESALAMINE', 'MELOXICAM', 'MEGESTROL ACETATE', 'LOTEPREDNOL ETABONATE', 'LISINOPRIL AND HYDROCHLOROTHIAZIDE', 'LEVOFLOXACIN', 'LEVODOPA AND CARBIDOPA', 'LEVETIRACETAM', 'LAMOTRIGINE', 'IXABEPILONE', 'IRON', 'IRBESARTAN AND HYDROCHLOROTHIAZIDE', 'IPRATROPIUM BROMIDE', 'IOPROMIDE', 'INTERFERON BETA-1B', 'INTERFERON ALFA-2B', 'INSULIN GLULISINE', 'ILOPROST', 'ICODEXTRIN, SODIUM CHLORIDE, SODIUM LACTATE, CALCIUM CHLORIDE, MAGNESIUM CHLORIDE', 'ICATIBANT ACETATE', 'ICATIBANT', 'IBUPROFEN', 'HYDROCORTISONE', 'GLYBURIDE', 'GLIMEPIRIDE', 'GENTAMICIN SULFATE', 'GEL CORN REMOVER', 'FOSAPREPITANT DIMEGLUMINE', 'FLUTICASONE PROPIONATE', 'FLUTAMIDE', 'FLUDEOXYGLUCOSE F 18 INJECTION', 'FAMOTIDINE', 'EZETIMIBE AND SIMVASTATIN', 'EZETIMIBE', 'EXTENDED PHENYTOIN SODIUM', 'ETOPOSIDE PHOSPHATE', 'ETODOLAC', 'ETHIODIZED OIL', 'ESCITALOPRAM OXALATE', 'ERYTHROPOIETIN', 'EPIRUBICIN HYDROCHLORIDE', 'EPHEDRINE HYDROCHLORIDE', 'EMPAGLIFLOZIN', 'ELTROMBOPAG OLAMINE', 'EDOXABAN TOSYLATE', 'ECHINACEA (ANGUSTIFOLIA), TABEBUIA IMPETIGINOSA, HYDRASTIS CANADENSIS, GLANDULA SUPRARENALIS SUIS, THYMUS (SUIS), THYROIDINUM (SUIS), ARSENICUM ALBUM, BRYONIA (ALBA), COCCULUS INDICUS, COLCHICUM AUTUMNALE, LEDUM PALUSTRE, MERCURIUS CYANATUS, NATRUM SULPHURICUM, PULSATILLA (PRATENSIS), SEPIA, SILICEA, AFLATOXIN (B1)', 'DOXYCYCLINE', 'DOXAZOSIN MESYLATE', 'DOXAZOSIN', 'DONEPEZIL HYDROCHLORIDE', 'DOCETAXEL ANHYDROUS', 'DIPHENOXYLATE HYDROCHLORIDE AND ATROPINE SULFATE', 'DILTIAZEM HYDROCHLORIDE', 'DARUNAVIR', 'DALTEPARIN SODIUM', 'DACTINOMYCIN', 'CYCLOBENZAPRINE', 'CYANOCOBALAMIN', 'COPPER', 'CONJUGATED ESTROGENS/BAZEDOXIFENE', 'CLINDAMYCIN', 'CLARITHROMYCIN', 'CEPHALEXIN', 'CEFDINIR', 'CASPOFUNGIN ACETATE', 'CANDESARTAN CILEXETIL', 'CANDESARTAN', 'CANAKINUMAB', 'CALCIUM CARBONATE', 'CALCITRIOL CAPSULES 0.5 MCG', 'BUMETANIDE', 'BOSENTAN', 'BISOPROLOL FUMARATE', 'BELIMUMAB', 'BECLOMETHASONE DIPROPIONATE', 'AZITHROMYCIN', 'AZACITIDINE', 'AVOBENZONE, HOMOSALATE, OCTISALATE, OCTOCRYLENE, AND OXYBENZONE', 'ARSENIC TRIOXIDE, STRYCHNOS NUX-VOMICA SEED, ACONITUM NAPELLUS, GOLD, CAUSTICUM, HYOSCYAMUS NIGER LEAF, LACHESIS MUTA WHOLE, DAPHNE MEZEREUM WHOLE, ANEMONE PULSATILLA, SULFUR, AND VERATRUM VIRIDE WHOLE', 'ARMODAFINIL', 'APREPITANT', 'AMOXICILLIN AND CLAVULANATE POTASSIUM', 'AMLODIPINE BESYLATE AND OLMESARTAN MEDOXOMIL', 'AMIKACIN', 'ALISKIREN HEMIFUMARATE', 'ALBIGLUTIDE', 'ACLIDINIUM BROMIDE', 'ACETAMINOPHEN AND CODEINE PHOSPHATE')\n"
     ]
    }
   ],
   "source": [
    "print('The sample contains reports on '+str(len(drug_list_sorted_desc))+' drugs (excluding \"Unknown\").')\n",
    "print('The listed drugs (generic name), in descenting order of frequency of appearences are:')\n",
    "print(drug_list_sorted_desc)"
   ]
  },
  {
   "cell_type": "code",
   "execution_count": 141,
   "metadata": {},
   "outputs": [
    {
     "name": "stdout",
     "output_type": "stream",
     "text": [
      "The sample contains reports of 1673 reactions (excluding \"Unknown\").\n",
      "The listed reactions, in descenting order of frequency of appearences are:\n",
      "('Diarrhoea', 'Fatigue', 'Nausea', 'Disease progression', 'Death', 'Vomiting', 'Decreased appetite', 'Breast cancer', 'Malignant neoplasm progression', 'Dyspnoea', 'Asthenia', 'Off label use', 'Weight decreased', 'Pyrexia', 'Malaise', 'Anaemia', 'Pain', 'Headache', 'Rash', 'Neutropenia', 'Drug ineffective', 'Hypertension', 'Dizziness', 'White blood cell count decreased', 'Stomatitis', 'Product use issue', 'Arthralgia', 'Pain in extremity', 'Febrile neutropenia', 'Dehydration', 'Thrombocytopenia', 'Pneumonia', 'Breast cancer metastatic', 'Constipation', 'Abdominal pain', 'Neuropathy peripheral', 'Cough', 'Prostate cancer', 'Fall', 'Dysgeusia', 'Alopecia', 'Pruritus', 'Hot flush', 'Erythema', 'Back pain', 'Skin cancer', 'Platelet count decreased', 'Pulmonary embolism', 'Infection', 'Gait disturbance', 'Leukopenia', 'Hypotension', 'Sepsis', 'Palmar-plantar erythrodysaesthesia syndrome', 'Insomnia', 'Pleural effusion', 'Dysphagia', 'Condition aggravated', 'Somnolence', 'Loss of consciousness', 'Chest pain', 'Acute kidney injury', 'Urinary tract infection', 'Paraesthesia', 'Metastases to bone', 'Epistaxis', 'Confusional state', 'Abdominal pain upper', 'Mucosal inflammation', 'General physical health deterioration', 'Drug dose omission', 'Abdominal discomfort', 'Renal cancer', 'Myocardial infarction', 'Myalgia', 'Feeling abnormal', 'Toxicity to various agents', 'Peripheral swelling', 'Metastases to liver', 'Drug interaction', 'Muscle spasms', 'Dry skin', 'Blood pressure increased', 'Oedema peripheral', 'Colon cancer', 'Bone pain', 'Blood creatinine increased', 'Aspartate aminotransferase increased', 'Weight increased', 'Tachycardia', 'Interstitial lung disease', 'Hepatic cancer', 'Tremor', 'Renal failure', 'Hypoaesthesia', 'Hyperhidrosis', 'Dry mouth', 'Chest discomfort', 'Atrial fibrillation', 'Anxiety', 'Nasopharyngitis', 'Hypersensitivity', 'Depression', 'Cerebrovascular accident', 'Bone marrow failure', 'Thyroid cancer', 'Second primary malignancy', 'Renal impairment', 'Neutrophil count decreased', 'Haemoglobin decreased', 'Deep vein thrombosis', 'Chills', 'Thrombosis', 'Seizure', 'Respiratory failure', 'Prostate cancer metastatic', 'Pancytopenia', 'Oropharyngeal pain', 'Lung neoplasm malignant', 'Blood alkaline phosphatase increased', 'Ascites', 'Prostatic specific antigen increased', 'Neurotoxicity', 'Metastases to lung', 'Metastases to central nervous system', 'Inappropriate schedule of drug administration', 'Hypomagnesaemia', 'Hospitalisation', 'Dyspepsia', 'Bladder cancer', 'Muscular weakness', 'Infusion related reaction', 'Hypokalaemia', 'Delirium', 'Cellulitis', 'Cardiac failure', 'Underdose', 'Neutropenic sepsis', 'Lung cancer metastatic', 'Joint swelling', 'Haemorrhage', 'Flushing', 'Cardiac failure congestive', 'Alanine aminotransferase increased', 'Acute myocardial infarction', 'Abdominal distension', 'Vision blurred', 'Urticaria', 'Skin exfoliation', 'Septic shock', 'Osteonecrosis of jaw', 'No therapeutic response', 'Musculoskeletal pain', 'Metastasis', 'Liver function test abnormal', 'Incorrect dose administered', 'Hepatic function abnormal', 'Cystitis', 'Bone cancer', 'Blood pressure decreased', 'Adverse event', 'Toothache', 'Syncope', 'Pyelonephritis', 'Productive cough', 'Oral pain', 'Liver disorder', 'Limb discomfort', 'Jaundice', 'Intentional product misuse', 'Incontinence', 'Heart rate increased', 'Gastrointestinal haemorrhage', 'Gastric cancer', 'Feeling hot', 'Drug ineffective for unapproved indication', 'Blood count abnormal', 'Swelling', 'Skin discolouration', 'Non-small cell lung cancer', 'Neoplasm malignant', 'Metastases to lymph nodes', 'Melaena', 'Lethargy', 'Hypophagia', 'Hypertensive crisis', 'Hyperglycaemia', 'Haematuria', 'Full blood count decreased', 'Flatulence', 'Embolism', 'Drug intolerance', 'Contusion', 'Burning sensation', 'Arthritis', 'Skin lesion', 'Rheumatoid arthritis', 'Rash generalised', 'Proteinuria', 'Papillary thyroid cancer', 'Palpitations', 'Oxygen saturation decreased', 'Oedema', 'Non-Hodgkin^s lymphoma recurrent', 'Musculoskeletal stiffness', 'Musculoskeletal discomfort', 'Influenza like illness', 'Impaired healing', 'Hypoxia', 'Hyponatraemia', 'Hypocalcaemia', 'Herpes zoster', 'Dysphonia', 'Drug effect decreased', 'Disturbance in attention', 'Disseminated intravascular coagulation', 'C-reactive protein increased', 'Bronchitis', 'Arthropathy', 'Agitation', 'Wrong technique in product usage process', 'White blood cell count increased', 'Visual impairment', 'Upper respiratory tract infection', 'Transient ischaemic attack', 'Transaminases increased', 'Therapy cessation', 'Therapeutic response decreased', 'Red blood cell count decreased', 'Rectal haemorrhage', 'Rectal cancer', 'Rash pruritic', 'Psychotic behaviour', 'Pneumonitis', 'Peritonitis', 'Night sweats', 'Nervous system disorder', 'Nail disorder', 'Mobility decreased', 'Memory impairment', 'Intestinal obstruction', 'International normalised ratio increased', 'Immune system disorder', 'Hepatotoxicity', 'Haematemesis', 'Fluid retention', 'Ejection fraction decreased', 'Dry eye', 'Drug effect incomplete', 'Discomfort', 'Chronic obstructive pulmonary disease', 'Cardiac arrest', 'Breast cancer stage IV', 'Blood glucose increased', 'Blood bilirubin increased', 'Blister', 'Amnesia', 'Suicidal ideation', 'Subclavian vein thrombosis', 'Skin toxicity', 'Renal disorder', 'Pollakiuria', 'Pneumonia aspiration', 'Platelet disorder', 'Neutrophil count increased', 'Neoplasm progression', 'Musculoskeletal chest pain', 'Multi-organ failure', 'Metastases to peritoneum', 'Mental status changes', 'Lung infection', 'Lung disorder', 'Internal haemorrhage', 'Incorrect route of drug administration', 'Hydronephrosis', 'Hip fracture', 'Hepatic failure', 'Hepatic enzyme increased', 'Hallucination', 'Haematochezia', 'Gastrooesophageal reflux disease', 'Gastrointestinal disorder', 'Dysuria', 'Dysentery', 'Drug clearance decreased', 'Disorientation', 'Dermatitis acneiform', 'Depressed mood', 'Cardiomyopathy', 'Cardio-respiratory arrest', 'Bone disorder', 'Blood urine present', 'Blood potassium decreased', 'Blindness', 'Altered state of consciousness', 'Adverse drug reaction', 'Wheezing', 'Viral infection', 'Tumour marker increased', 'Stress', 'Staphylococcal infection', 'Speech disorder', 'Sleep disorder', 'Skin ulcer', 'Skin reaction', 'Skin disorder', 'Sinusitis', 'Rib fracture', 'Respiratory distress', 'Renal cancer metastatic', 'Recurrent cancer', 'Rash macular', 'Pulmonary fibrosis', 'Product quality issue', 'Pneumothorax', 'Photophobia', 'Performance status decreased', 'Paronychia', 'Pain in jaw', 'Oral discomfort', 'Neck pain', 'Mouth ulceration', 'Lip swelling', 'Injection site pain', 'Injection site haemorrhage', 'Influenza', 'Ill-defined disorder', 'Ileus', 'Hypoalbuminaemia', 'Hypercalcaemia', 'Hyperbilirubinaemia', 'Hepatomegaly', 'Hepatic cirrhosis', 'Haemorrhoids', 'Haemoglobin abnormal', 'Haematotoxicity', 'Haematocrit decreased', 'Gastrointestinal perforation', 'Gamma-glutamyltransferase increased', 'Eye discharge', 'Epilepsy', 'Dyspnoea exertional', 'Disease recurrence', 'Diabetes mellitus', 'Clostridium difficile infection', 'Cerebral haemorrhage', 'Cardiac disorder', 'Cancer pain', 'Breast mass', 'Breast cancer recurrent', 'Body height decreased', 'Aphthous ulcer', 'Acute respiratory failure', 'Acne', 'Vertigo', 'Venoocclusive liver disease', 'Uterine cancer', 'Transient global amnesia', 'Throat cancer', 'Thirst', 'Tachypnoea', 'Swelling face', 'Small cell lung cancer', 'Sluggishness', 'Shock', 'Rhinorrhoea', 'Rhabdomyolysis', 'Pulmonary mass', 'Psoriasis', 'Posterior reversible encephalopathy syndrome', 'Post procedural infection', 'Polyneuropathy', 'Pneumocystis jirovecii pneumonia', 'Pain of skin', 'Oral disorder', 'Oral candidiasis', 'Oesophagitis', 'Ocular hyperaemia', 'No adverse event', 'Nasal congestion', 'Movement disorder', 'Metastases to spine', 'Lymphopenia', 'Lymphadenopathy', 'Lower respiratory tract infection', 'Local swelling', 'Left ventricular dysfunction', 'Irritability', 'Intracardiac thrombus', 'Intestinal perforation', 'Intervertebral disc degeneration', 'Intentional product use issue', 'Infusion site pain', 'Inflammation', 'Hypothyroidism', 'Hypersomnia', 'Hemiparesis', 'Gingival pain', 'Gastrointestinal toxicity', 'Gastritis', 'Feeling cold', 'Eye swelling', 'Eye irritation', 'Exposed bone in jaw', 'Expired product administered', 'Encephalopathy', 'Emotional distress', 'Eating disorder', 'Dysarthria', 'Drug hypersensitivity', 'Drug administration error', 'Dermatitis', 'Depressed level of consciousness', 'Cytopenia', 'Colitis', 'Circulatory collapse', 'Cholangitis', 'Cardiac valve disease', 'Breast enlargement', 'Brain neoplasm', 'Body temperature increased', 'Blood test abnormal', 'Blood pressure abnormal', 'Blood cholesterol increased', 'Bedridden', 'Atelectasis', 'Application site reaction', 'Apnoea', 'Angioedema', 'Ageusia', 'Acute myeloid leukaemia', 'Abasia', 'Wrist fracture', 'White blood cell disorder', 'Vena cava thrombosis', 'VIIth nerve paralysis', 'Urinary retention', 'Unresponsive to stimuli', 'Tumour lysis syndrome', 'Treatment noncompliance', 'Tooth fracture', 'Tooth disorder', 'Tinnitus', 'Thrombophlebitis', 'Terminal state', 'Surgery', 'Stress cardiomyopathy', 'Stomach mass', 'Spinal cord paralysis', 'Spinal cord infarction', 'Spinal cord compression', 'Spinal column stenosis', 'Soft tissue infection', 'Sneezing', 'Small intestinal perforation', 'Skin fissures', 'Sinus congestion', 'Sinus bradycardia', 'Shock haemorrhagic', 'Salivary gland cancer', 'Road traffic accident', 'Respiratory tract infection', 'Respiratory rate increased', 'Rash erythematous', 'Pulmonary oedema', 'Pulmonary congestion', 'Product size issue', 'Product adhesion issue', 'Pneumonia cytomegaloviral', 'Pharyngeal oedema', 'Pharyngeal haemorrhage', 'Peripheral sensory neuropathy', 'Pericardial effusion', 'Pancreatic carcinoma metastatic', 'Pallor', 'Ovarian cancer recurrent', 'Ovarian cancer', 'Osteosarcoma', 'Osteoporosis', 'Osteomyelitis', 'Oesophageal ulcer', 'Non-small cell lung cancer stage IIIB', 'Non-small cell lung cancer metastatic', 'Nodule', 'Nephropathy', 'Neoplasm', 'Myopathy', 'Mouth haemorrhage', 'Monoplegia', 'Migraine', 'Metastatic neoplasm', 'Metastases to pelvis', 'Metabolic acidosis', 'Mental disorder', 'Medication error', 'Malnutrition', 'Malignant pleural effusion', 'Malignant melanoma', 'Lymphocyte count decreased', 'Liver injury', 'Leukoencephalopathy', 'Lacrimation increased', 'Laboratory test abnormal', 'Knee arthroplasty', 'Injection site swelling', 'Injection site pruritus', 'Injection site mass', 'Injection site extravasation', 'Injection site bruising', 'Infusion site scar', 'Infusion site phlebitis', 'Infusion site inflammation', 'Increased appetite', 'Incorrect drug administration duration', 'Ileus paralytic', 'Hypophosphataemia', 'Hypoglycaemia', 'Hypoaesthesia oral', 'Hypoacusis', 'Hyperthyroidism', 'Hypersensitivity vasculitis', 'Hyperkalaemia', 'Hepatitis cholestatic', 'Hepatitis C', 'Hepatic lesion', 'Heart rate decreased', 'Head injury', 'Hair texture abnormal', 'Haemorrhagic stroke', 'Haemorrhagic diathesis', 'Glossodynia', 'Glaucoma', 'Gingivitis', 'Gastric ulcer', 'Gastric disorder', 'Feeling jittery', 'Feeding disorder', 'Fear', 'Facial bones fracture', 'Eye disorder', 'Erythema multiforme', 'Eructation', 'Embolism venous', 'Electrocardiogram QT prolonged', 'Drug withdrawal syndrome', 'Drug resistance', 'Device failure', 'Decubitus ulcer', 'Crying', 'Coronary artery disease', 'Coordination abnormal', 'Colon cancer metastatic', 'Cognitive disorder', 'Choking sensation', 'Cataract operation', 'Bronchospasm', 'Breast pain', 'Breast cancer female', 'Bone neoplasm', 'Bone lesion', 'Blood sodium decreased', 'Blood pressure systolic increased', 'Blood potassium increased', 'Blood lactate dehydrogenase increased', 'Blood glucose decreased', 'Asthma', 'Arthropod bite', 'Aphasia', 'Anaphylactic shock', 'Anal cancer', 'Agranulocytosis', 'Activities of daily living impaired', 'Abdominal pain lower', 'Wound secretion', 'Wound', 'Withdrawal syndrome', 'Weight bearing difficulty', 'Vitreous floaters', 'Ventricular fibrillation', 'Ventricular extrasystoles', 'Vaginal infection', 'Vaginal haemorrhage', 'Vaginal cancer', 'Uterine haemorrhage', 'Urosepsis', 'Urinary tract pain', 'Urinary incontinence', 'Urinary hesitation', 'Urethral obstruction', 'Tumour necrosis', 'Tumour haemorrhage', 'Tubulointerstitial nephritis', 'Tuberculosis', 'Transfusion', 'Tracheal fistula', 'Tooth loss', 'Tooth infection', 'Tooth extraction', 'Tongue ulceration', 'Thyroiditis', 'Thyroid neoplasm', 'Thyroid disorder', 'Throat irritation', 'Therapeutic response unexpected', 'Testis cancer', 'Tendon rupture', 'Syringe issue', 'Subcutaneous abscess', 'Squamous cell carcinoma', 'Spinal pain', 'Social problem', 'Small intestinal obstruction', 'Small cell lung cancer metastatic', 'Sinus headache', 'Sinus disorder', 'Sensation of foreign body', 'Sebaceous carcinoma', 'Sciatica', 'Rheumatic disorder', 'Retinal toxicity', 'Retching', 'Restlessness', 'Restless legs syndrome', 'Resting tremor', 'Respiratory arrest', 'Renal tubular necrosis', 'Renal colic', 'Red blood cell sedimentation rate increased', 'Pulmonary toxicity', 'Pulmonary thrombosis', 'Pulmonary alveolar haemorrhage', 'Prostatitis', 'Procedural pain', 'Presyncope', 'Premature baby', 'Pregnancy', 'Precancerous skin lesion', 'Pre-existing condition improved', 'Post procedural sepsis', 'Portal vein thrombosis', 'Portal hypertension', 'Polyuria', 'Pneumatosis intestinalis', 'Platelet count abnormal', 'Plasma cell myeloma', 'Pigmentation disorder', 'Photosensitivity reaction', 'Phlebitis', 'Periodontitis', 'Pelvic pain', 'Pathological fracture', 'Pancreatitis', 'Ovarian cancer stage III', 'Osteopenia', 'Osteonecrosis', 'Orthostatic hypotension', 'Oral mucosa erosion', 'Oncologic complication', 'Odynophagia', 'Obesity', 'Nystagmus', 'Non-cardiac chest pain', 'Nightmare', 'Neutrophil count abnormal', 'Neurological decompensation', 'Neuralgia', 'Nervousness', 'Necrotising fasciitis', 'Necrosis', 'Myocardial ischaemia', 'Muscle atrophy', 'Multiple sclerosis relapse', 'Multiple organ dysfunction syndrome', 'Metastases to adrenals', 'Menorrhagia', 'Mean platelet volume decreased', 'Mass', 'Mania', 'Lymphoma', 'Lymphocyte count abnormal', 'Lung neoplasm surgery', 'Lung infiltration', 'Lower gastrointestinal haemorrhage', 'Loss of personal independence in daily activities', 'Localised oedema', 'Localised infection', 'Lip pain', 'Lip disorder', 'Ligament sprain', 'Leukocytosis', 'Laryngeal cancer', 'Large intestine polyp', 'Laceration', 'Kidney infection', 'Joint injury', 'Jaw disorder', 'Ischaemic stroke', 'Ischaemic limb pain', 'Irritable bowel syndrome', 'Intra-abdominal pressure increased', 'Intestinal dilatation', 'Intercepted drug dispensing error', 'Injection site nodule', 'Injection site erythema', 'Infusion site exfoliation', 'Infusion site erythema', 'Infusion site discolouration', 'Inappropriate antidiuretic hormone secretion', 'Impaired driving ability', 'Hypogeusia', 'Hypertransaminasaemia', 'Hyperphosphataemia', 'Hyperlipidaemia', 'Hyperaesthesia', 'Hospice care', 'Herpes virus infection', 'Hepatorenal syndrome', 'Hepatocellular injury', 'Hepatocellular carcinoma', 'Hepatitis', 'Hepatic pain', 'Hepatic neoplasm', 'Hepatic enzyme abnormal', 'Heart rate irregular', 'Head discomfort', 'Hair colour changes', 'Haemorrhage urinary tract', 'Haemorrhage subcutaneous', 'Haemorrhage intracranial', 'Haemoptysis', 'Haematoma', 'Haemangioma', 'Granuloma', 'Granulocytopenia', 'Glomerular filtration rate decreased', 'Gingival swelling', 'Gastrointestinal obstruction', 'Gastrointestinal inflammation', 'Gastrointestinal infection', 'Gastrointestinal hypomotility', 'Gastric infection', 'Gastric haemorrhage', 'Gallbladder disorder', 'Gallbladder cancer', 'Frequent bowel movements', 'Flank pain', 'Fistula', 'Fibromyalgia', 'Facial nerve disorder', 'Face oedema', 'Eyelid ptosis', 'Eyelid oedema', 'Eye pruritus', 'Eye pain', 'Exposure via direct contact', 'Exposure during pregnancy', 'Erysipelas', 'Erectile dysfunction', 'Epigastric discomfort', 'Enterocutaneous fistula', 'Enteritis', 'Endometrial cancer stage I', 'Endometrial cancer', 'Embolic stroke', 'Eczema', 'Ecchymosis', 'Eastern Cooperative Oncology Group performance status worsened', 'Ear pain', 'Dysstasia', 'Duodenal ulcer haemorrhage', 'Dry throat', 'Drug dispensing error', 'Drowning', 'Diverticulitis', 'Disease complication', 'Diplopia', 'Diarrhoea haemorrhagic', 'Diabetes mellitus inadequate control', 'Device issue', 'Dermatitis allergic', 'Depressive symptom', 'Decreased immune responsiveness', 'Cystitis haemorrhagic', 'Cyst', 'Crohn^s disease', 'Creatinine renal clearance abnormal', 'Coronary artery stenosis', 'Conjunctivitis', 'Conjunctival hyperaemia', 'Computerised tomogram abnormal', 'Completed suicide', 'Colorectal cancer metastatic', 'Colon cancer stage I', 'Colitis ulcerative', 'Coagulopathy', 'Clostridium difficile colitis', 'Chronic myeloid leukaemia', 'Chromaturia', 'Cholestasis', 'Cholelithiasis', 'Cholecystectomy', 'Choking', 'Chest injury', 'Cervix disorder', 'Cervix carcinoma', 'Cerebral thrombosis', 'Cerebral ischaemia', 'Cerebral infarction', 'Central nervous system lesion', 'Cataract', 'Cardiotoxicity', 'Carbohydrate antigen 125 increased', 'Cancer surgery', 'Breast inflammation', 'Bradycardia', 'Bone swelling', 'Bone density decreased', 'Blood triglycerides increased', 'Blood thyroid stimulating hormone abnormal', 'Blood pressure fluctuation', 'Blood glucose abnormal', 'Blood disorder', 'Blood calcium increased', 'Blood alkaline phosphatase abnormal', 'Bladder neoplasm', 'Bladder disorder', 'Bile duct stenosis', 'Bile duct cancer', 'Benign prostatic hyperplasia', 'Basal cell carcinoma', 'Balance disorder', 'Back disorder', 'Autonomic neuropathy', 'Atrial flutter', 'Aspiration', 'Asphyxia', 'Aspartate aminotransferase abnormal', 'Arthritis infective', 'Aphonia', 'Aortic stenosis', 'Aortic dissection', 'Anuria', 'Angina pectoris', 'Anger', 'Anastomotic leak', 'Anaphylactic reaction', 'Anal infection', 'Anal abscess', 'Anaemia of malignant disease', 'Ammonia increased', 'Acute respiratory distress syndrome', 'Acute lung injury', 'Acute hepatic failure', 'Abscess', 'Yersinia bacteraemia', 'Yellow skin', 'X-ray', 'Wrong drug administered', 'Wound dehiscence', 'Wound complication', 'White blood cell count abnormal', 'Wernicke^s encephalopathy', 'Weight fluctuation', 'Waist circumference increased', 'Vulvovaginitis', 'Vulvovaginal discomfort', 'Vulvar dysplasia', 'Vulval cancer recurrent', 'Volvulus', 'Vocal cord disorder', 'Vitiligo', 'Vitamin B12 deficiency', 'Viral upper respiratory tract infection', 'Viral test positive', 'Ventricular tachycardia', 'Ventricular dyssynchrony', 'Venous thrombosis', 'Venous stenosis', 'Venous occlusion', 'Vein rupture', 'Vein disorder', 'Vein discolouration', 'Vasculitis', 'Vascular rupture', 'Vascular occlusion', 'Vascular malformation', 'Vascular encephalopathy', 'Varices oesophageal', 'Varicella', 'Vaginal inflammation', 'Vaginal cyst', 'Uterine spasm', 'Uterine perforation', 'Uterine leiomyoma', 'Uterine disorder', 'Urinary tract discomfort', 'Urge incontinence', 'Ureteric obstruction', 'Ureteral disorder', 'Upper limb fracture', 'Upper gastrointestinal haemorrhage', 'Unevaluable event', 'Underweight', 'Ulcerative keratitis', 'Ulcer haemorrhage', 'Ulcer', 'Tumour rupture', 'Tumour perforation', 'Tumour marker decreased', 'Tumour invasion', 'Tumour flare', 'Tubo-ovarian abscess', 'Troponin increased', 'Treatment failure', 'Traumatic fracture', 'Transurethral prostatectomy', 'Tracheobronchitis', 'Toxic shock syndrome staphylococcal', 'Toxic shock syndrome', 'Toxic nodular goitre', 'Torsade de pointes', 'Tooth abscess', 'Tonsillitis', 'Tonsil cancer', 'Tongue neoplasm malignant stage unspecified', 'Tongue injury', 'Tongue disorder', 'Tongue coated', 'Tongue cancer recurrent', 'Tongue blistering', 'Toe operation', 'Tinea infection', 'Tick-borne viral encephalitis', 'Thyroxine free abnormal', 'Thyroidectomy', 'Thyroid mass', 'Thyroid cancer metastatic', 'Thrombocytosis', 'Throat tightness', 'Therapy change', 'Testicular swelling', 'Tendonitis', 'Tendon disorder', 'Temporal lobe epilepsy', 'T-lymphocyte count decreased', 'Systemic lupus erythematosus', 'Systemic inflammatory response syndrome', 'Swollen tongue', 'Supraventricular tachycardia', 'Sunburn', 'Suicide attempt', 'Substance-induced psychotic disorder', 'Subileus', 'Strabismus', 'Stevens-Johnson syndrome', 'Stenosis', 'Status epilepticus', 'Squamous cell carcinoma of the vulva', 'Squamous cell carcinoma of skin', 'Splenic rupture', 'Splenic haematoma', 'Spinal osteoarthritis', 'Spinal deformity', 'Spinal compression fracture', 'Spinal column injury', 'Spider naevus', 'Small cell carcinoma', 'Sleep talking', 'Skull fracture', 'Skin wound', 'Skin mass', 'Skin irritation', 'Skin infection', 'Skin hyperpigmentation', 'Skin haemorrhage', 'Skin fragility', 'Skin abrasion', 'Skeletal injury', 'Silent myocardial infarction', 'Shoulder arthroplasty', 'Sexual dysfunction', 'Sensory loss', 'Sense of oppression', 'Self injurious behaviour', 'Sedation', 'Secondary progressive multiple sclerosis', 'Secondary hypertension', 'Scrotal swelling', 'Scrotal haematocoele', 'Screaming', 'Scoliosis', 'Scar', 'Salt craving', 'Salpingo-oophorectomy', 'Salpingitis', 'Rotavirus infection', 'Rotator cuff syndrome', 'Rhinitis allergic', 'Rhinalgia', 'Rheumatoid factor increased', 'Rheumatic fever', 'Retroperitoneal haematoma', 'Retroperitoneal cancer', 'Retinogram abnormal', 'Retinal vein thrombosis', 'Retinal oedema', 'Retinal disorder', 'Retinal detachment', 'Respiratory tract infection viral', 'Respiratory tract congestion', 'Respiratory disorder', 'Respiratory depression', 'Renal tuberculosis', 'Renal salt-wasting syndrome', 'Renal mass', 'Renal injury', 'Renal haemorrhage', 'Renal function test abnormal', 'Renal cyst', 'Renal cell carcinoma', 'Renal cancer stage IV', 'Reiter^s syndrome', 'Red cell distribution width increased', 'Rectosigmoid cancer', 'Rectal stenosis', 'Rectal fissure', 'Rebound effect', 'Rash vesicular', 'Rash pustular', 'Rash papular', 'Rash maculo-papular', 'Rapid eye movements sleep abnormal', 'Rales', 'Radiotherapy', 'Radiculopathy', 'Radiation skin injury', 'Radiation pneumonitis', 'Radiation oesophagitis', 'Pyuria', 'Purulent discharge', 'Pupillary light reflex tests abnormal', 'Pupil fixed', 'Pulse absent', 'Pulse abnormal', 'Pulmonary hypertension', 'Pulmonary haemorrhage', 'Pulmonary artery thrombosis', 'Pulmonary arterial hypertension', 'Psychotic disorder', 'Psychomotor hyperactivity', 'Pseudomembranous colitis', 'Protein urine', 'Protein total increased', 'Protein total decreased', 'Prostatic specific antigen abnormal', 'Prostatectomy', 'Prostate infection', 'Propionibacterium infection', 'Product preparation error', 'Product odour abnormal', 'Product name confusion', 'Product label issue', 'Product difficult to swallow', 'Product colour issue', 'Product closure removal difficult', 'Proctitis', 'Proctalgia', 'Procedural haemorrhage', 'Prescribed underdose', 'Prescribed overdose', 'Prerenal failure', 'Premature ageing', 'Precancerous cells present', 'Postoperative wound infection', 'Postmenopausal haemorrhage', 'Post procedural hypothyroidism', 'Post procedural haematuria', 'Post procedural complication', 'Portal venous gas', 'Poor venous access', 'Poor quality sleep', 'Polyp', 'Polydipsia', 'Polycythaemia', 'Polyarthritis', 'Pneumonia streptococcal', 'Pneumonia adenoviral', 'Pleuritic pain', 'Pleural fistula', 'Platelet count increased', 'Plantar fasciitis', 'Plantar erythema', 'Physical disability', 'Photopsia', 'Phimosis', 'Philadelphia chromosome positive', 'Pharyngitis streptococcal', 'Pharyngeal operation', 'Petechiae', 'Peritonitis bacterial', 'Peritoneal neoplasm', 'Peritoneal dialysis complication', 'Peristalsis visible', 'Peripheral venous disease', 'Peripheral motor neuropathy', 'Peripheral ischaemia', 'Peripheral coldness', 'Peripheral arterial occlusive disease', 'Periorbital oedema', 'Pericarditis', 'Penile oedema', 'Pelvic venous thrombosis', 'Pelvic fracture', 'Paresis', 'Paranoia', 'Paranasal sinus discomfort', 'Paraesthesia oral', 'Papilloedema', 'Panic reaction', 'Pancreatitis haemorrhagic', 'Pancreatitis chronic', 'Pancreatitis acute', 'Pancreatic neoplasm', 'Pancreatic insufficiency', 'Pancreatic carcinoma', 'Palliative care', 'Painful respiration', 'Overweight', 'Overdose', 'Ovarian neoplasm', 'Ototoxicity', 'Osteosclerosis', 'Osteolysis', 'Orthostatic intolerance', 'Oropharyngeal swelling', 'Oropharyngeal candidiasis', 'Oropharyngeal cancer', 'Orgasm abnormal', 'Organ failure', 'Orchitis', 'Oral mucosal eruption', 'Oral mucosal blistering', 'Oral herpes', 'Optical coherence tomography abnormal', 'Optic neuropathy', 'Ophthalmic herpes zoster', 'Onycholysis', 'Onychoclasis', 'Onychalgia', 'Oestrogen receptor positive breast cancer', 'Oesophageal varices haemorrhage', 'Oesophageal stenosis', 'Oesophageal dilatation', 'Oedema mouth', 'Ocular vascular disorder', 'Ocular discomfort', 'Normochromic normocytic anaemia', 'Nonspecific reaction', 'Non-small cell lung cancer stage IV', 'Non-alcoholic steatohepatitis', 'Nocturnal dyspnoea', 'Neuroleptic malignant syndrome', 'Neuroendocrine carcinoma of the skin', 'Neuroblastoma recurrent', 'Neuritis', 'Nephrosclerosis', 'Nephrolithiasis', 'Neoplasm recurrence', 'Necrotising retinitis', 'Necrobiosis lipoidica diabeticorum', 'Neck mass', 'Nasal ulcer', 'Nasal polyps', 'Nasal dryness', 'Nasal discomfort', 'Nail pigmentation', 'Nail infection', 'Nail growth abnormal', 'Nail discolouration', 'Nail bed bleeding', 'Myocarditis', 'Myocardial necrosis marker increased', 'Mycobacterium tuberculosis complex test positive', 'Mycobacterium avium complex infection', 'Musculoskeletal disorder', 'Muscle strain', 'Muscle spasticity', 'Muscle rigidity', 'Multiple sclerosis', 'Multiple gated acquisition scan abnormal', 'Multiple fractures', 'Mouth swelling', 'Motor dysfunction', 'Mood swings', 'Mood altered', 'Monoparesis', 'Monocyte count increased', 'Mixed dementia', 'Micturition urgency', 'Microbiology test abnormal', 'Microangiopathic haemolytic anaemia', 'Metastases to thyroid', 'Metastases to stomach', 'Metastases to spleen', 'Metastases to small intestine', 'Metastases to pituitary gland', 'Metastases to pancreas', 'Metastases to ovary', 'Metastases to meninges', 'Metastases to chest wall', 'Metastases to abdominal cavity', 'Metamorphopsia', 'Metabolic encephalopathy', 'Mental impairment', 'Mental fatigue', 'Meningitis cryptococcal', 'Meningitis', 'Megacolon', 'Medication residue present', 'Measles', 'Mean cell volume increased', 'Mean cell haemoglobin increased', 'Maternal exposure during pregnancy', 'Maternal exposure before pregnancy', 'Mammogram abnormal', 'Malignant respiratory tract neoplasm', 'Malignant ascites', 'Malabsorption', 'Macular oedema', 'Lymphoma transformation', 'Lymphangitis', 'Lymph node calcification', 'Lyme disease', 'Lung consolidation', 'Lumbar vertebral fracture', 'Lower respiratory tract inflammation', 'Low birth weight baby', 'Loose tooth', 'Long QT syndrome', 'Localised intraabdominal fluid collection', 'Living in residential institution', 'Liver function test increased', 'Lipase increased', 'Lip infection', 'Lip and/or oral cavity cancer recurrent', 'Lip and/or oral cavity cancer', 'Ligament pain', 'Libido decreased', 'Leiomyoma', 'Leg amputation', 'Left ventricular hypertrophy', 'Laziness', 'Laryngospasm', 'Laryngitis', 'Laryngeal oedema', 'Large intestinal obstruction', 'Language disorder', 'Kyphosis', 'Klebsiella infection', 'Kidney transplant rejection', 'Kidney fibrosis', 'Kidney duplex', 'Juvenile chronic myelomonocytic leukaemia', 'Joint stiffness', 'Joint dislocation', 'Joint crepitation', 'Jaw operation', 'Jaw fracture', 'Jaundice cholestatic', 'Ischaemic hepatitis', 'Ischaemic cerebral infarction', 'Ischaemic cardiomyopathy', 'Iron deficiency anaemia', 'Iron deficiency', 'Investigation abnormal', 'Intracranial aneurysm', 'Intestinal prolapse', 'Intestinal operation', 'Intestinal mass', 'Intestinal fistula', 'Intervertebral disc protrusion', 'Intervertebral disc compression', 'Intervertebral disc annular tear', 'International normalised ratio fluctuation', 'Intercepted medication error', 'Intentional underdose', 'Injury', 'Injection site urticaria', 'Injection site reaction', 'Injection site necrosis', 'Injection site injury', 'Injection site discomfort', 'Injection site discolouration', 'Inhibitory drug interaction', 'Infusion site ulcer', 'Infusion site mass', 'Infarction', 'Induration', 'Increased tendency to bruise', 'Incorrect drug administration rate', 'Incarcerated incisional hernia', 'Inappropriate schedule of product administration', 'Inadequate analgesia', 'Implantable defibrillator insertion', 'Impaired gastric emptying', 'Immunodeficiency', 'Immobile', 'Ileostomy closure', 'Hypovolaemic shock', 'Hypovolaemia', 'Hyporeflexia', 'Hypoproteinaemia', 'Hypopituitarism', 'Hypopharyngeal cancer', 'Hypertriglyceridaemia', 'Hypertrichosis', 'Hyperthermia', 'Hypertensive heart disease', 'Hypertensive encephalopathy', 'Hyperplasia', 'Hyperkeratosis', 'Hypercreatininaemia', 'Humerus fracture', 'Hodgkin^s disease', 'Histiocytosis haematophagic', 'Hiccups', 'Hiatus hernia', 'Hepatitis fulminant', 'Hepatitis acute', 'Hepatic steatosis', 'Hepatic mass', 'Hepatic cancer stage IV', 'Hepatic atrophy', 'Hemianopia homonymous', 'Hemianopia', 'Helicobacter infection', 'Heat exhaustion', 'Head and neck cancer stage IV', 'Hangover', 'Hand fracture', 'Haemothorax', 'Haemorrhoidal haemorrhage', 'Haemorrhagic necrotic pancreatitis', 'Haemolytic anaemia', 'Haemoglobin increased', 'HER-2 positive breast cancer', 'Gynaecomastia', 'Groin infection', 'Granulocyte count decreased', 'Gout', 'Goitre', 'Glycosylated haemoglobin increased', 'Glomerulonephropathy', 'Glomerulonephritis rapidly progressive', 'Glomerulonephritis', 'Globulins increased', 'Gingivitis ulcerative', 'Gingival disorder', 'Gingival cancer', 'Gingival bleeding', 'Generalised oedema', 'General symptom', 'General physical condition abnormal', 'Gene mutation identification test positive', 'Gastrointestinal ulcer haemorrhage', 'Gastrointestinal stromal tumour', 'Gastrointestinal stromal cancer', 'Gastrointestinal stoma complication', 'Gastrointestinal oedema', 'Gastrointestinal necrosis', 'Gastrointestinal dysplasia', 'Gastrointestinal carcinoma', 'Gastroenteritis clostridial', 'Gastroenteritis', 'Gastritis haemorrhagic', 'Gastric ulcer perforation', 'Gastric perforation', 'Gastric operation', 'Gastric cancer stage IV', 'Gamma-glutamyltransferase abnormal', 'Gallbladder pain', 'Gallbladder operation', 'Gait inability', 'Furuncle', 'Fungal infection', 'Frustration', 'Formication', 'Foot deformity', 'Food poisoning', 'Food aversion', 'Folliculitis', 'Focal segmental glomerulosclerosis', 'Fluid overload', 'Fluid intake reduced', 'Fibrin degradation products increased', 'Femur fracture', 'Femoral neck fracture', 'Female genital tract fistula', 'Feeling of body temperature change', 'Febrile infection', 'Febrile bone marrow aplasia', 'Fatty liver alcoholic', 'Fat tissue decreased', 'Fallopian tube cancer', 'Failure to thrive', 'Faeces soft', 'Faeces discoloured', 'Faecaloma', 'Faecal volume increased', 'Faecal incontinence', 'Facial paralysis', 'Facial pain', 'Eyelid rash', 'Eyelid irritation', 'Eyelid function disorder', 'Eye movement disorder', 'Eye inflammation', 'Eye infection', 'Extremity necrosis', 'Extrapyramidal disorder', 'Extradural haematoma', 'Extra dose administered', 'Expulsion of medication', 'Exposure to extreme temperature', 'Exostosis', 'Excessive granulation tissue', 'Euphoric mood', 'Essential hypertension', 'Escherichia bacteraemia', 'Eschar', 'Erythema of eyelid', 'Erosive oesophagitis', 'Epidural haemorrhage', 'Eosinophilia', 'Eosinophil count increased', 'Eosinophil count decreased', 'Enterocolitis infectious', 'Enterocolitis', 'Endoscopy', 'Endometrial cancer recurrent', 'Endometrial atrophy', 'Encephalitis viral', 'Emphysema', 'Emotional disorder', 'Electrolyte imbalance', 'Electrocardiogram abnormal', 'Ejection fraction', 'Echocardiogram abnormal', 'Ear neoplasm malignant', 'Ear infection', 'Ear disorder', 'Ear discomfort', 'Dysphemia', 'Dyslipidaemia', 'Dyskinesia', 'Dysgraphia', 'Duodenal ulcer', 'Duodenal perforation', 'Dry gangrene', 'Dry age-related macular degeneration', 'Drug-induced liver injury', 'Drug tolerance', 'Drug prescribing error', 'Drug monitoring procedure not performed', 'Drug effect delayed', 'Drug administered at inappropriate site', 'Dizziness postural', 'Diverticular perforation', 'Disseminated tuberculosis', 'Disseminated Bacillus Calmette-Guerin infection', 'Disability', 'Dihydropyrimidine dehydrogenase deficiency', 'Diabetic neuropathy', 'Device use error', 'Device related infection', 'Device occlusion', 'Device leakage', 'Device infusion issue', 'Device dislocation', 'Dermatitis contact', 'Dermatitis bullous', 'Demyelination', 'Dementia', 'Decreased interest', 'Deafness', 'Cystitis radiation', 'Cystitis noninfective', 'Cystitis escherichia', 'Cystic fibrosis', 'Cyclic neutropenia', 'Cyanosis', 'Cutaneous vasculitis', 'Cutaneous symptom', 'Crystal deposit intestine', 'Corneal disorder', 'Contraindicated drug administered', 'Connective tissue disorder', 'Congestive cardiomyopathy', 'Concomitant disease progression', 'Computerised tomogram thorax abnormal', 'Complication of device removal', 'Complication associated with device', 'Communication disorder', 'Coma', 'Colostomy', 'Colorectal cancer', 'Colonoscopy', 'Colon neoplasm', 'Colectomy', 'Cold sweat', 'Coital bleeding', 'Coagulation test abnormal', 'Citrobacter sepsis', 'Circadian rhythm sleep disorder', 'Chronic sinusitis', 'Chronic kidney disease', 'Chorea', 'Chondropathy', 'Chondrocalcinosis pyrophosphate', 'Cholecystitis acute', 'Chest X-ray abnormal', 'Chemotherapy', 'Change of bowel habit', 'Cervix cancer metastatic', 'Cervicobrachial syndrome', 'Cerebrospinal fluid circulation disorder', 'Cerebral artery thrombosis', 'Cerebral artery occlusion', 'Cerebellar syndrome', 'Cerebellar ataxia', 'Cauda equina syndrome', 'Catheter site extravasation', 'Catheter placement', 'Catatonia', 'Carpal tunnel syndrome', 'Cardiovascular insufficiency', 'Cardiovascular disorder', 'Cardiomegaly', 'Cardiac tamponade', 'Cardiac pacemaker insertion', 'Cardiac operation', 'Cardiac neoplasm unspecified', 'Cardiac aneurysm', 'Carcinogenicity', 'Carcinoembryonic antigen increased', 'Carbohydrate antigen 27.29 increased', 'Carbohydrate antigen 19-9 increased', 'Capillary fragility', 'Capillary disorder', 'Candida sepsis', 'Cancer in remission', 'Calciphylaxis', 'Caesarean section', 'Cachexia', 'C-reactive protein abnormal', 'Bursitis', 'Burns third degree', 'Bundle branch block right', 'Bronchiolitis', 'Breast tenderness', 'Breast disorder', 'Breast discharge', 'Breast cyst', 'Breast cellulitis', 'Breast cancer stage III', 'Breast cancer in situ', 'Brain oedema', 'Brain injury', 'Brain abscess', 'Bradyphrenia', 'Bowel movement irregularity', 'Borderline glaucoma', 'Bone loss', 'Blood urine', 'Blood urea increased', 'Blood thyroid stimulating hormone increased', 'Blood testosterone decreased', 'Blood test', 'Blood smear test abnormal', 'Blood parathyroid hormone increased', 'Blood iron decreased', 'Blood creatine phosphokinase increased', 'Blood chloride decreased', 'Blood carbon monoxide increased', 'Blood calcitonin decreased', 'Blood bilirubin decreased', 'Blood albumin decreased', 'Blindness unilateral', 'Bladder sphincter atony', 'Bladder spasm', 'Bladder irritation', 'Bladder irrigation', 'Bladder instillation procedure', 'Bladder dilatation', 'Bladder cancer recurrent', 'Bipolar II disorder', 'Biopsy lung', 'Biopsy', 'Biliary tract disorder', 'Bile duct stone', 'Bile duct cancer stage IV', 'Bicytopenia', 'Benign neoplasm of thyroid gland', 'Bacterial test positive', 'Bacterial infection', 'Bacteraemia', 'Back injury', 'Babesiosis', 'BRAF gene mutation', 'Azoospermia', 'Axillary vein thrombosis', 'Axillary pain', 'Autoimmune hepatitis', 'Autoimmune haemolytic anaemia', 'Atypical mycobacterial infection', 'Atrioventricular block second degree', 'Atrioventricular block', 'Ataxia telangiectasia', 'Ataxia', 'Aspiration pleural cavity', 'Artery dissection', 'Arteriovenous fistula', 'Arteriosclerosis coronary artery', 'Arteriosclerosis', 'Arterial spasm', 'Arterial occlusive disease', 'Arterial haemorrhage', 'Arrhythmia', 'Application site ulcer', 'Application site scar', 'Application site pruritus', 'Appendicitis', 'Apathy', 'Aorto-oesophageal fistula', 'Aortic aneurysm', 'Anticoagulation drug level increased', 'Anticoagulation drug level abnormal', 'Anorectal disorder', 'Anorectal discomfort', 'Angular cheilitis', 'Angioplasty', 'Angina unstable', 'Anal sphincter atony', 'Anal inflammation', 'Anal incontinence', 'Anal haemorrhage', 'Alpha hydroxybutyrate dehydrogenase increased', 'Allodynia', 'Alanine aminotransferase abnormal', 'Aggression', 'Affect lability', 'Adrenocorticotropic hormone deficiency', 'Adenoviral conjunctivitis', 'Adenosquamous cell lung cancer', 'Adenoma benign', 'Adenocarcinoma pancreas', 'Adenocarcinoma of salivary gland', 'Adenocarcinoma of colon', 'Adenocarcinoma gastric', 'Adenocarcinoma', 'Acute pulmonary oedema', 'Acute interstitial pneumonitis', 'Acute coronary syndrome', 'Acquired immunodeficiency syndrome', 'Accidental exposure to product', 'Accident', 'Abscess oral', 'Abscess limb', 'Abnormal behaviour', 'Abdominal wall abscess', 'Abdominal tenderness', 'Abdominal mass', 'Abdominal lymphadenopathy')\n"
     ]
    }
   ],
   "source": [
    "print('The sample contains reports of '+str(len(reaction_list_sorted_desc))+' reactions (excluding \"Unknown\").')\n",
    "print('The listed reactions, in descenting order of frequency of appearences are:')\n",
    "print(reaction_list_sorted_desc)"
   ]
  },
  {
   "cell_type": "markdown",
   "metadata": {},
   "source": [
    "## Simple visualizations:"
   ]
  },
  {
   "cell_type": "markdown",
   "metadata": {},
   "source": [
    "Let us now produce some simple single variable visualizations:"
   ]
  },
  {
   "cell_type": "code",
   "execution_count": 233,
   "metadata": {},
   "outputs": [
    {
     "data": {
      "image/png": "[encoded data removed]",
      "text/plain": [
       "<Figure size 720x504 with 1 Axes>"
      ]
     },
     "metadata": {
      "needs_background": "light"
     },
     "output_type": "display_data"
    }
   ],
   "source": [
    "#Serious vs. not serious\n",
    "plt.title(\"Percentage of serious vs. non-serious reported reactions\")\n",
    "df_plot = pd.Series(df[\"serious\"]).value_counts()/len(df[\"serious\"])*100\n",
    "df_plot.plot(kind='barh')\n",
    "plt.ylabel('Seriousness')\n",
    "plt.xlabel('Reports (%)')\n",
    "plt.gcf().set_size_inches(10, 7)"
   ]
  },
  {
   "cell_type": "markdown",
   "metadata": {},
   "source": [
    "It appears that reports of serious reactions are about 4 times as frequent as those of not serious ones. \n",
    "\n",
    "Naturally, we would expect serious reactions to drugs to not be more frequent than not serious ones. Why is this not reflected in our sample?\n",
    "\n",
    "There are several posibilities, e.g.:\n",
    "\n",
    "1) The above expectation is true in general but not for (at least most types of) cancer. Remember that the subset of reports examined here is limited to cases related to cancer which is a life-threatening disease. It might be the case that:\n",
    "\n",
    "a) Cancer-related therapies are more likely to yield serious adverse reactions than the average drug.\n",
    "\n",
    "b) Cancer-related therapies are less likely to cure cancer than the average drug. The reactions we observe might not necessarily be due to the drugs but rather due to the  natural progression of the disease.\n",
    "\n",
    "2) The OpenFDA reaction reports are biased towards serious cases as they are more likely to be reported (sampling bias).\n",
    "\n",
    "Ideally we should consult domain experts when trying to understand the sources of bias in our data. At any rate, we should be careful when drawing conclusions for the general population from a specific data sample."
   ]
  },
  {
   "cell_type": "code",
   "execution_count": 234,
   "metadata": {},
   "outputs": [
    {
     "data": {
      "image/png": "[encoded data removed]",
      "text/plain": [
       "<Figure size 720x504 with 1 Axes>"
      ]
     },
     "metadata": {
      "needs_background": "light"
     },
     "output_type": "display_data"
    }
   ],
   "source": [
    "#Gender\n",
    "plt.title(\"Percentage of reported reactions by patient's gender\")\n",
    "df_plot = pd.Series(df[\"patient_sex\"]).value_counts()/len(df[\"patient_sex\"])*100\n",
    "df_plot.plot(kind='barh')\n",
    "plt.ylabel('Patient Gender')\n",
    "plt.xlabel('Reports (%)')\n",
    "plt.gcf().set_size_inches(10, 7)"
   ]
  },
  {
   "cell_type": "markdown",
   "metadata": {},
   "source": [
    "About 10% of the reports concern patients of unknown gender (even after our imputation attempt).\n",
    "\n",
    "It appears that more reaction reports are filed for female patients.\n",
    "\n",
    "There could also be multiple interpretations of this, e.g.:\n",
    "\n",
    "1) Female patients are more likely to receive cancer treatment.\n",
    "<br>\n",
    "2) Female patients are more likely to experience adverse reactions to cancer treatments.\n",
    "<br>\n",
    "3) Female patients are more likely to report adverse reactions given they experience them.\n",
    "\n",
    "Again, consulting with domain experts and cross-correlating the data with other sources would be necessary before drawing any conclusions."
   ]
  },
  {
   "cell_type": "code",
   "execution_count": 236,
   "metadata": {},
   "outputs": [
    {
     "data": {
      "image/png": "[encoded data removed]",
      "text/plain": [
       "<Figure size 720x504 with 1 Axes>"
      ]
     },
     "metadata": {
      "needs_background": "light"
     },
     "output_type": "display_data"
    }
   ],
   "source": [
    "#Weight\n",
    "exclude_unknown = 1 #exclude 'Unknown'(most common value, encoded as '0')\n",
    "\n",
    "if exclude_unknown == 0:\n",
    "    plt.title(\"Frequency of reported reactions by patient's weight\")\n",
    "    df[\"patient_weight\"].hist(bins=100)\n",
    "else:\n",
    "    plt.title(\"Frequency of reported reactions by patient's weight (excluding unknown)\")\n",
    "    df_onset_known = df[df[\"patient_weight\"]>0]\n",
    "    df_onset_known[\"patient_weight\"].hist(bins=100)\n",
    "plt.xlabel('Patient Weight (kg)')\n",
    "plt.ylabel('Reports (Frequency in sample of '+str(df.shape[0])+')')\n",
    "plt.gcf().set_size_inches(10, 7)"
   ]
  },
  {
   "cell_type": "markdown",
   "metadata": {},
   "source": [
    "The distribution of patrient weights looks sensible. There are some outliers but their values are plausible."
   ]
  },
  {
   "cell_type": "code",
   "execution_count": 237,
   "metadata": {},
   "outputs": [
    {
     "data": {
      "image/png": "[encoded data removed]",
      "text/plain": [
       "<Figure size 720x504 with 1 Axes>"
      ]
     },
     "metadata": {
      "needs_background": "light"
     },
     "output_type": "display_data"
    }
   ],
   "source": [
    "#Onset Age\n",
    "exclude_unknown = 1 #exclude 'Unknown'(most common value, encoded as '-1')\n",
    "\n",
    "if exclude_unknown == 0:\n",
    "    plt.title(\"Frequency of reported reactions by patient's onset age\")\n",
    "    df[\"patient_onset_age\"].hist(bins=100)\n",
    "else:\n",
    "    plt.title(\"Frequency of reported reactions by patient's onset age (excluding unknown)\")\n",
    "    df_onset_known = df[df[\"patient_onset_age\"]>-1]\n",
    "    df_onset_known[\"patient_onset_age\"].hist(bins=100)\n",
    "plt.xlabel('Onset Age (yrs)')\n",
    "plt.ylabel('Reports (Frequency in sample of '+str(df.shape[0])+')')\n",
    "plt.gcf().set_size_inches(10, 7)"
   ]
  },
  {
   "cell_type": "markdown",
   "metadata": {},
   "source": [
    "The distribution of patrients' ages at the onset of the event also looks sensible, spanning a reasonable range of values."
   ]
  },
  {
   "cell_type": "code",
   "execution_count": 238,
   "metadata": {},
   "outputs": [
    {
     "data": {
      "image/png": "[encoded data removed]",
      "text/plain": [
       "<Figure size 720x504 with 1 Axes>"
      ]
     },
     "metadata": {
      "needs_background": "light"
     },
     "output_type": "display_data"
    }
   ],
   "source": [
    "#Age Group\n",
    "exclude_unknown = 1 #exclude 'Unknown'(most common value)\n",
    "\n",
    "if exclude_unknown == 0:\n",
    "    plt.title(\"Frequency of reported reactions by patient's age group\")\n",
    "    df[\"patient_age_group\"].hist(bins=100)\n",
    "else:\n",
    "    plt.title(\"Frequency of reported reactions by patient's age group (excluding unknown)\")\n",
    "    df_age_group_known = df[df[\"patient_age_group\"]!='Unknown']\n",
    "    df_age_group_known[\"patient_age_group\"].hist(bins=100)\n",
    "plt.xlabel('Age Group')\n",
    "plt.ylabel('Reports (Frequency in sample of '+str(df.shape[0])+')')\n",
    "plt.gcf().set_size_inches(10, 7)"
   ]
  },
  {
   "cell_type": "markdown",
   "metadata": {},
   "source": [
    "Interestingly, most reports concern adults and elderly. This is not surprising, as most cancers affect these age groups and the data concern reports for cancer medications. \n",
    "\n",
    "About 5% of the reports with known patient's age group concern children. Indeed, although rare, some types of cancer e.g. acute lymphoblastic leukaemia, occur most commonly (85%) in children under 5yrs old [1]. In the patient onset age histogram above, we do observe some onset ages in this range.\n",
    "\n",
    "[1] Source: NHS (https://www.nhs.uk/conditions/acute-lymphoblastic-leukaemia/)"
   ]
  },
  {
   "cell_type": "code",
   "execution_count": 239,
   "metadata": {},
   "outputs": [
    {
     "data": {
      "image/png": "[encoded data removed]",
      "text/plain": [
       "<Figure size 1080x576 with 1 Axes>"
      ]
     },
     "metadata": {
      "needs_background": "light"
     },
     "output_type": "display_data"
    }
   ],
   "source": [
    "#Number of reactions\n",
    "plt.title(\"Percentage of reports by number of reactions\")\n",
    "df_plot = pd.Series(df[\"patient_num_reactions\"]).value_counts()/len(df[\"patient_num_reactions\"])*100\n",
    "df_plot.plot(kind='bar')\n",
    "plt.xlabel('Number of Reactions')\n",
    "plt.ylabel('Reports (%)')\n",
    "plt.gcf().set_size_inches(15, 8)"
   ]
  },
  {
   "cell_type": "markdown",
   "metadata": {},
   "source": [
    "Most patients report experiencing 1-10 reactions. But there are some rare extreme values of up to 40 reactions listed. We only kept up to the first 5 listed reactions, along with their outcomes for further exploration."
   ]
  },
  {
   "cell_type": "code",
   "execution_count": 152,
   "metadata": {},
   "outputs": [
    {
     "name": "stdout",
     "output_type": "stream",
     "text": [
      "Out of the 73 countries listed in the reports, these 25 account for 90.04% of the total reports in the data.\n"
     ]
    },
    {
     "data": {
      "image/png": "[encoded data removed]",
      "text/plain": [
       "<Figure size 1080x576 with 1 Axes>"
      ]
     },
     "metadata": {
      "needs_background": "light"
     },
     "output_type": "display_data"
    }
   ],
   "source": [
    "#Most common countries -- show top K\n",
    "K = 25 #User defined; integer 1 to len(country_list_sorted_desc)\n",
    "\n",
    "if remove_unknown == 1:\n",
    "    plt.title(\"Percentage of reports by country of occurence in (Top-\"+str(K)+\" most common countries, excluding 'Unknown')\")\n",
    "else:\n",
    "    plt.title(\"Percentage of reports by country of occurence in (Top-\"+str(K)+\" most common countries)\")\n",
    "plt.xticks(fontsize=10, rotation=45)\n",
    "plt.bar(country_list_sorted_desc[:K], country_counts_sorted_desc[:K])\n",
    "plt.xlabel('Country')\n",
    "plt.ylabel('Reports (%)')\n",
    "plt.gcf().set_size_inches(15, 8)\n",
    "\n",
    "print('Out of the '+str(len(country_list_sorted_desc))+' countries listed in the reports, these '+str(K)+' account for '+str(np.sum(country_counts_sorted_desc[:K]))+'% of the total reports in the data.')"
   ]
  },
  {
   "cell_type": "markdown",
   "metadata": {},
   "source": [
    "Not surprisingly, most reports originate from the US. The data are, after all, from the United States Food and Drug Administration. It is possible that most relevant reports occuring in the US make their way to the OpenFDA dataset.\n",
    "\n",
    "The other countries that produce many reports are either countries with a large population (eg. India, China, Brasil) or countries with close political ties to the US (Japan, Canada, Australia, Colombia, Korea, European counties). In the latter case, it is possible that the relevant authorities for adverse reaction reports in these countries are closely affiliated with the FDA.\n",
    "\n",
    "However, even populous countries like Russia, many African countries & many Asian countries do not make the list of top-25 countries by frequency of reports. Possibly because the relevant authority for adverse reaction reports in these countries is not the FDA (or affiliated with it).\n",
    "\n",
    "The above is a clear indication that the sample of reports in OpenFDA is biased in terms of the country of origin of reports.\n",
    "\n",
    "To try to alleviate the effect of this bias, ideally we would collect information from other relevant authorities besides the FDA, to have a more characteristic sample of patients from different countries.\n",
    "\n",
    "The majority of cancers, some 90–95% of cases, are due to genetic mutations from environmental and lifestyle factors. The remaining 5–10% are due to inherited genetics[1]. As all these factors are highly country-specific, it is crucial when analysing, interpreting or modelling cancer-related data to have a sample spanning different countries.\n",
    "\n",
    "[1] Source: Anand P, Kunnumakkara AB, Sundaram C, Harikumar KB, Tharakan ST, Lai OS, Sung B, Aggarwal BB. \"Cancer is a preventable disease that requires major lifestyle changes\". Pharmaceutical Research. 25 (9): 2097–116"
   ]
  },
  {
   "cell_type": "code",
   "execution_count": 151,
   "metadata": {},
   "outputs": [
    {
     "name": "stdout",
     "output_type": "stream",
     "text": [
      "Out of the 73 countries listed in the reports, these 25 only account for 0.74% of the total reports in the data.\n"
     ]
    },
    {
     "data": {
      "image/png": "[encoded data removed]",
      "text/plain": [
       "<Figure size 1080x576 with 1 Axes>"
      ]
     },
     "metadata": {
      "needs_background": "light"
     },
     "output_type": "display_data"
    }
   ],
   "source": [
    "#Least common countries --Show top K\n",
    "K = 25 #User defined; integer 1 to len(country_list_sorted_desc)\n",
    "\n",
    "if remove_unknown == 1:\n",
    "    plt.title(\"Percentage of reports by country of occurence in (Top-\"+str(K)+\" least common countries, excluding 'Unknown')\")\n",
    "else:\n",
    "    plt.title(\"Percentage of reports by country of occurence in (Top-\"+str(K)+\" least common countries)\")\n",
    "plt.xticks(fontsize=10, rotation=45)\n",
    "plt.bar(country_list_sorted_desc[-K:], country_counts_sorted_desc[-K:])\n",
    "plt.xlabel('Country')\n",
    "plt.ylabel('Reports (%)')\n",
    "plt.gcf().set_size_inches(15, 8)\n",
    "\n",
    "print('Out of the '+str(len(country_list_sorted_desc))+' countries listed in the reports, these '+str(K)+' only account for '+str(np.sum(country_counts_sorted_desc[-K:]))+'% of the total reports in the data.')"
   ]
  },
  {
   "cell_type": "markdown",
   "metadata": {},
   "source": [
    "Continuing our observations above, the countries with the lowest frequency of appearence in the dataset are either countries with small populations or countries in which the main relevant authority for adverse reaction reports is not the FDA (or affiliated with it)."
   ]
  },
  {
   "cell_type": "code",
   "execution_count": 240,
   "metadata": {},
   "outputs": [
    {
     "name": "stdout",
     "output_type": "stream",
     "text": [
      "Out of the 445 drugs listed in the reports, these 10 account for 23.34% of the total reports in the data.\n"
     ]
    },
    {
     "data": {
      "image/png": "[encoded data removed]",
      "text/plain": [
       "<Figure size 1080x576 with 1 Axes>"
      ]
     },
     "metadata": {
      "needs_background": "light"
     },
     "output_type": "display_data"
    }
   ],
   "source": [
    "#Most common drugs --Show top K\n",
    "K = 10 #User defined; integer 1 to len(drug_list_sorted_desc)\n",
    "\n",
    "if exclude_unknown == 1:\n",
    "    plt.title(\"Percentage of reports per drug (generic name) implicated (Top-\"+str(K)+\" most common)\")\n",
    "else:\n",
    "    plt.title(\"Percentage of reports per drug (generic name) implicated (Top-\"+str(K)+\" most common, excluding 'Unknown')\")\n",
    "plt.bar(drug_list_sorted_desc[:K], drug_counts_sorted_desc[:K])\n",
    "plt.xticks(fontsize=10, rotation=70)  \n",
    "plt.xlabel('Drug')\n",
    "plt.ylabel('Reports (%)')\n",
    "plt.gcf().set_size_inches(15, 8)\n",
    "\n",
    "print('Out of the '+str(len(drug_list_sorted_desc))+' drugs listed in the reports, these '+str(K)+' account for '+str(np.sum(drug_counts_sorted_desc[:K]))+'% of the total reports in the data.')"
   ]
  },
  {
   "cell_type": "markdown",
   "metadata": {},
   "source": [
    "The listed drugs are indeed treatments administered to cancer patients. Note that although hundrends of drugs appear in our sample, these few account for a very large fraction of the adverse effect reports.\n",
    "\n",
    "This might imply any of the following:\n",
    "\n",
    "1) Patients are more likely to receive these drugs.\n",
    "<br>\n",
    "2) These drugs cause disproportionally more adverse reactions than others, if taken.\n",
    "<br>\n",
    "3) The reactions observed are due to natural disease progression. These drugs are administered to patients with more aggressive cancer cases. \n",
    "<br>\n",
    "4) The reactions observed are due to natural disease progression. These drugs are not very suceessful at slowing it down.\n",
    "\n",
    "A proper investigation of these hypothesis would require consulting with domain experts and cross-correlating the data with other sources."
   ]
  },
  {
   "cell_type": "code",
   "execution_count": 242,
   "metadata": {},
   "outputs": [
    {
     "name": "stdout",
     "output_type": "stream",
     "text": [
      "Out of the 445 drugs listed in the reports, these 10 account for 0.19999999999999998% of the total reports in the data.\n"
     ]
    },
    {
     "data": {
      "image/png": "[encoded data removed]",
      "text/plain": [
       "<Figure size 1080x576 with 1 Axes>"
      ]
     },
     "metadata": {
      "needs_background": "light"
     },
     "output_type": "display_data"
    }
   ],
   "source": [
    "#Least common drugs --Show top K\n",
    "K = 10 #User defined; integer 1 to len(drug_list_sorted_desc)\n",
    "\n",
    "plt.title(\"Percentage of reports per drug (generic name) implicated (Top-\"+str(K)+\" least common)\")\n",
    "plt.xticks(fontsize=10, rotation=70)\n",
    "drug_list_sorted_desc_truncated = [elem[:25] for elem in drug_list_sorted_desc[-K:]] #Some names are long; truncate for plot\n",
    "plt.bar(drug_list_sorted_desc_truncated, drug_counts_sorted_desc[-K:])\n",
    "plt.xlabel('Drug')\n",
    "plt.ylabel('Reports (%)')\n",
    "plt.gcf().set_size_inches(15, 8)\n",
    "\n",
    "print('Out of the '+str(len(drug_list_sorted_desc))+' drugs listed in the reports, these '+str(K)+' account for '+str(np.sum(drug_counts_sorted_desc[-K:]))+'% of the total reports in the data.')"
   ]
  },
  {
   "cell_type": "markdown",
   "metadata": {},
   "source": [
    "These drugs also appear to be used in cancer treatments. "
   ]
  },
  {
   "cell_type": "code",
   "execution_count": 241,
   "metadata": {},
   "outputs": [
    {
     "name": "stdout",
     "output_type": "stream",
     "text": [
      "Out of the 1673 reactions listed in the reports, these 10 account for 25.639999999999997% of the total reports in the data.\n"
     ]
    },
    {
     "data": {
      "image/png": "[encoded data removed]",
      "text/plain": [
       "<Figure size 1080x576 with 1 Axes>"
      ]
     },
     "metadata": {
      "needs_background": "light"
     },
     "output_type": "display_data"
    }
   ],
   "source": [
    "#Most common reactions --Show top K\n",
    "K = 10 #User defined; integer 1 to len(reaction_list_sorted_desc)\n",
    "\n",
    "plt.title(\"Percentage of reactions reported (Top-\"+str(K)+\" most common)\")\n",
    "plt.xticks(fontsize=10, rotation=45)\n",
    "plt.bar(reaction_list_sorted_desc[:K], reaction_counts_sorted_desc[:K])\n",
    "plt.xlabel('Reaction')\n",
    "plt.ylabel('Reports (%)')\n",
    "plt.gcf().set_size_inches(15, 8)\n",
    "\n",
    "print('Out of the '+str(len(reaction_list_sorted_desc))+' reactions listed in the reports, these '+str(K)+' account for '+str(np.sum(reaction_counts_sorted_desc[:K]))+'% of the total reports in the data.')"
   ]
  },
  {
   "cell_type": "markdown",
   "metadata": {},
   "source": [
    "Note that although hundrends of reactions appear in our sample, these few account for a very large fraction of the adverse effect reports.\n",
    "\n",
    "The listed reactions (e.g. fatigue, vomiting, diarrhoea, nausea, decreased appetite) are common among patients receiving cancer treatments. They might be due to the main drug reported or other aspects of the treatment they receive.\n",
    "\n",
    "These, as well as some other reactions like \"Death\", \"Disease Progression\", \"Breast Cancer\" or \"Malignant Neoplasm Progression\" could be results of natural disease progression and not so much of the drug administered or the overall treatment.\n",
    "\n",
    "Note again that some of these e.g. \"Disease Progression\", \"Breast Cancer\" or \"Malignant Neoplasm Progression\" might refer to the same result under different names"
   ]
  },
  {
   "cell_type": "code",
   "execution_count": 243,
   "metadata": {},
   "outputs": [
    {
     "name": "stdout",
     "output_type": "stream",
     "text": [
      "Out of the 1673 reactions listed in the reports, these 10 account for 0.19999999999999998% of the total reports in the data.\n"
     ]
    },
    {
     "data": {
      "image/png": "[encoded data removed]",
      "text/plain": [
       "<Figure size 1080x576 with 1 Axes>"
      ]
     },
     "metadata": {
      "needs_background": "light"
     },
     "output_type": "display_data"
    }
   ],
   "source": [
    "#Least common reactions --Show top K\n",
    "K = 10 #User defined; integer 1 to len(reaction_list_sorted_desc)\n",
    "\n",
    "plt.title(\"Percentage of reactions reported (Top-\"+str(K)+\" least common)\")\n",
    "plt.xticks(fontsize=10, rotation=80)\n",
    "plt.bar(reaction_list_sorted_desc[-K:], reaction_counts_sorted_desc[-K:])\n",
    "plt.xlabel('Reaction')\n",
    "plt.ylabel('Reports (Frequency in sample of'+str(df.shape[0])+')')\n",
    "plt.gcf().set_size_inches(15, 8)\n",
    "\n",
    "print('Out of the '+str(len(reaction_list_sorted_desc))+' reactions listed in the reports, these '+str(K)+' account for '+str(np.sum(reaction_counts_sorted_desc[-K:]))+'% of the total reports in the data.')"
   ]
  },
  {
   "cell_type": "markdown",
   "metadata": {},
   "source": [
    "The least commonly listed reactions include some more vague descriptions like \"Abnormal Behaviour\", \"Accident\". Some of these (e.g. \"Accidental exposure to product\") do not even appear to be actual side-effects to the drug itself, but rather an explanation of the patient's contact with the drug."
   ]
  },
  {
   "cell_type": "markdown",
   "metadata": {},
   "source": [
    "## Inspecting some empirical probabilities\n",
    "\n",
    "Let us now investigate in some more depth the empirical distribution of the sample. We will calculate a set of empirical probabilities for each variable based on the report sample.\n",
    "\n",
    "Some of these, we already inspected in the histograms above. Here we shall provide some  numbers for all these and quickly move on to conditional probabilities involving combinations of variables."
   ]
  },
  {
   "cell_type": "markdown",
   "metadata": {},
   "source": [
    "### Probabilities involving single variables (also covered by histograms above)"
   ]
  },
  {
   "cell_type": "code",
   "execution_count": 79,
   "metadata": {},
   "outputs": [
    {
     "name": "stdout",
     "output_type": "stream",
     "text": [
      "Probability of serious reaction\n",
      "P(Serious) = 0.7982\n",
      "P(Not Serious) = 0.20179999999999998\n"
     ]
    }
   ],
   "source": [
    "#Probability of serious reaction \n",
    "P_serious = df[df.serious == 'Serious'].shape[0] / df.shape[0]\n",
    "\n",
    "print(\"Probability of serious reaction\")\n",
    "print('P(Serious) = '+str(P_serious))\n",
    "print('P(Not Serious) = '+str(1 - P_serious)) "
   ]
  },
  {
   "cell_type": "code",
   "execution_count": 162,
   "metadata": {},
   "outputs": [
    {
     "name": "stdout",
     "output_type": "stream",
     "text": [
      "Probability of patient's gender (excluding unknown)\n",
      "P(Gender = Female) = 0.5208\n",
      "P(Gender = Male) = 0.384\n"
     ]
    }
   ],
   "source": [
    "#Probability of each gender: \n",
    "P_male = df[df.patient_sex == 'Male'].shape[0] / df.shape[0]\n",
    "P_female = df[df.patient_sex == 'Female'].shape[0] / df.shape[0]\n",
    "\n",
    "print(\"Probability of patient's gender (excluding unknown)\")\n",
    "print('P(Gender = Female) = '+str(P_female))    \n",
    "print('P(Gender = Male) = '+str(P_male)) "
   ]
  },
  {
   "cell_type": "code",
   "execution_count": 164,
   "metadata": {},
   "outputs": [
    {
     "name": "stdout",
     "output_type": "stream",
     "text": [
      "Probability of each country (excluding unknown)\n",
      "Countries ordered by frequency of reports.\n",
      "P(Country = US) = 0.4486\n",
      "P(Country = JP) = 0.102\n",
      "P(Country = CA) = 0.0414\n",
      "P(Country = IT) = 0.0398\n",
      "P(Country = FR) = 0.0388\n",
      "P(Country = DE) = 0.038\n",
      "P(Country = GB) = 0.037\n",
      "P(Country = NL) = 0.033\n",
      "P(Country = BR) = 0.0138\n",
      "P(Country = CO) = 0.0116\n"
     ]
    }
   ],
   "source": [
    "#Probability of country (K most common countries):\n",
    "K=10 #User defined; integer 1 to len(country_list_sorted_desc)\n",
    "\n",
    "P_country = np.zeros((K, 1))\n",
    "for k in range(K):\n",
    "    P_country[k] = df[df.occurcountry == country_list_sorted_desc[k]].shape[0] / df.shape[0]\n",
    "\n",
    "print(\"Probability of each country (excluding unknown)\")\n",
    "print(\"Countries ordered by frequency of reports.\")\n",
    "indices_sorted = np.flip(np.argsort(P_country.ravel()))\n",
    "for i in range(len(P_country)):\n",
    "    print('P(Country = '+country_list_sorted_desc[indices_sorted[i]]+') = '+str(P_country[indices_sorted[i]].item()))   "
   ]
  },
  {
   "cell_type": "code",
   "execution_count": 165,
   "metadata": {},
   "outputs": [
    {
     "name": "stdout",
     "output_type": "stream",
     "text": [
      "Probability of each drug (excluding unknown)\n",
      "Drugs ordered by frequency of reports.\n",
      "P(Drug = PALBOCICLIB) = 0.038\n",
      "P(Drug = TRASTUZUMAB) = 0.0358\n",
      "P(Drug = ENZALUTAMIDE) = 0.0298\n",
      "P(Drug = PANITUMUMAB) = 0.0232\n",
      "P(Drug = ABIRATERONE ACETATE) = 0.022\n",
      "P(Drug = EVEROLIMUS) = 0.0216\n",
      "P(Drug = BEVACIZUMAB) = 0.0198\n",
      "P(Drug = LEUPROLIDE ACETATE) = 0.0148\n",
      "P(Drug = CAPECITABINE) = 0.0144\n",
      "P(Drug = LETROZOLE) = 0.014\n"
     ]
    }
   ],
   "source": [
    "#Probability of drug (K most common drugs):\n",
    "K=10 #User defined; integer 1 to len(drug_list_sorted_desc)\n",
    "\n",
    "P_drug = np.zeros((K, 1))\n",
    "for k in range(K):\n",
    "    P_drug[k] = df[df.patient_drug == drug_list_sorted_desc[k]].shape[0] / df.shape[0]\n",
    " \n",
    "print(\"Probability of each drug (excluding unknown)\")\n",
    "print(\"Drugs ordered by frequency of reports.\")\n",
    "indices_sorted = np.flip(np.argsort(P_drug.ravel()))\n",
    "for i in range(len(P_drug)):\n",
    "    print('P(Drug = '+drug_list_sorted_desc[indices_sorted[i]]+') = '+str(P_drug[indices_sorted[i]].item()))   "
   ]
  },
  {
   "cell_type": "code",
   "execution_count": 168,
   "metadata": {},
   "outputs": [
    {
     "name": "stdout",
     "output_type": "stream",
     "text": [
      "Probability of each reaction (excluding unknown)\n",
      "Reactions ordered by frequency of reports.\n",
      "P(Reaction = Diarrhoea) = 0.0372\n",
      "P(Reaction = Fatigue) = 0.0366\n",
      "P(Reaction = Nausea) = 0.0348\n",
      "P(Reaction = Disease progression) = 0.0246\n",
      "P(Reaction = Death) = 0.0234\n",
      "P(Reaction = Vomiting) = 0.0212\n",
      "P(Reaction = Decreased appetite) = 0.0194\n",
      "P(Reaction = Breast cancer) = 0.0192\n",
      "P(Reaction = Malignant neoplasm progression) = 0.019\n",
      "P(Reaction = Dyspnoea) = 0.0188\n"
     ]
    }
   ],
   "source": [
    "#Probability of reaction (K most common reactions):\n",
    "K = 10 #User defined; integer 1 to len(reaction_list_sorted_desc)\n",
    "\n",
    "P_reaction = np.zeros((K, 1))\n",
    "for k in range(K):\n",
    "    P_reaction[k] = df[((df.patient_reaction_1 == reaction_list_sorted_desc[k]) | (df.patient_reaction_2 == reaction_list_sorted_desc[k]) | (df.patient_reaction_3 == reaction_list_sorted_desc[k]) | (df.patient_reaction_4 == reaction_list_sorted_desc[k]) | (df.patient_reaction_5 == reaction_list_sorted_desc[k]))].shape[0] / df.shape[0]   \n",
    "\n",
    "print(\"Probability of each reaction (excluding unknown)\")\n",
    "print(\"Reactions ordered by frequency of reports.\")\n",
    "indices_sorted = np.flip(np.argsort(P_reaction.ravel()))\n",
    "for i in range(len(P_reaction)):\n",
    "    print('P(Reaction = '+reaction_list_sorted_desc[indices_sorted[i]]+') = '+str(P_reaction[indices_sorted[i]].item()))   "
   ]
  },
  {
   "cell_type": "markdown",
   "metadata": {},
   "source": [
    "### Conditional probabilities involving pairs of variables (not covered by histograms)"
   ]
  },
  {
   "cell_type": "markdown",
   "metadata": {},
   "source": [
    "Let us now investigate some conditional probabilities $P(A=a|B=b)$. That is, the probability that variable $A$ assumes value $a$ given another variable $B$ assumes value $b$."
   ]
  },
  {
   "cell_type": "code",
   "execution_count": 77,
   "metadata": {},
   "outputs": [
    {
     "name": "stdout",
     "output_type": "stream",
     "text": [
      "Probability of serious reaction given patient's gender; unknown excluded:\n",
      "P(Serious | Gender = Female) = 0.7588325652841782\n",
      "P(Serious | Gender = Male) = 0.8453125\n"
     ]
    }
   ],
   "source": [
    "#Probability of serious reaction given patient's gender:\n",
    "P_serious_given_female = df[(df.serious == 'Serious') & (df.patient_sex == 'Female')].shape[0] / df[df.patient_sex == 'Female'].shape[0]\n",
    "P_serious_given_male = df[(df.serious == 'Serious') & (df.patient_sex == 'Male')].shape[0] / df[df.patient_sex == 'Male'].shape[0]\n",
    "#P_serious_given_unknown_gender = df[(df.serious == 'Serious') & (df.patient_sex == 'Unknown')].shape[0] / df[df.patient_sex == 'Unknown'].shape[0]\n",
    "\n",
    "print(\"Probability of serious reaction given patient's gender; unknown excluded:\")\n",
    "print('P(Serious | Gender = Female) = '+str(P_serious_given_female))   \n",
    "print('P(Serious | Gender = Male) = '+str(P_serious_given_male))   "
   ]
  },
  {
   "cell_type": "markdown",
   "metadata": {},
   "source": [
    "It appears that given that the patient is male, it is more likely that the reported reaction will be serious. There are several possible explanations for this e.g.:\n",
    "\n",
    "1) Female patients are more likely to report less serious reactions if they experience them, compared to male patients.\n",
    "<br>\n",
    "2) Male patients are more likely to experience serious reactions (either due to the treatment or to natural disease progression), compared to female patients.\n",
    "\n",
    "Further collaboration with domain experts and cross-reference to data from other sources would be needed to investigate these hypotheses."
   ]
  },
  {
   "cell_type": "code",
   "execution_count": 78,
   "metadata": {},
   "outputs": [
    {
     "name": "stdout",
     "output_type": "stream",
     "text": [
      "Probability of serious reaction given patient's age group (only most prevalent)\n",
      "P(Serious | Age Group = Child) = 1.0\n",
      "P(Serious | Age Group = Adult) = 0.7952380952380952\n",
      "P(Serious | Age Group = Elderly) = 0.8325471698113207\n"
     ]
    }
   ],
   "source": [
    "#Probability of serious reaction given patient's age group (3 most common groups, excluding 'Unknown'):\n",
    "P_serious_given_elderly = df[(df.serious == 'Serious') & (df.patient_age_group == 'Elderly')].shape[0] / df[df.patient_age_group == 'Elderly'].shape[0]\n",
    "P_serious_given_adult = df[(df.serious == 'Serious') & (df.patient_age_group == 'Adult')].shape[0] / df[df.patient_age_group == 'Adult'].shape[0]\n",
    "P_serious_given_child = df[(df.serious == 'Serious') & (df.patient_age_group == 'Child')].shape[0] / df[df.patient_age_group == 'Child'].shape[0]\n",
    "\n",
    "print(\"Probability of serious reaction given patient's age group (only most prevalent)\")\n",
    "print('P(Serious | Age Group = Child) = '+str(P_serious_given_child))   \n",
    "print('P(Serious | Age Group = Adult) = '+str(P_serious_given_adult)) \n",
    "print('P(Serious | Age Group = Elderly) = '+str(P_serious_given_elderly)) "
   ]
  },
  {
   "cell_type": "markdown",
   "metadata": {},
   "source": [
    "It appears that given that the patient is an adult, it is less likely that the reported reaction will be serious (compared to children and elderly patients). Moreover, if the patient is a child, the probability is very high that the reaction is serious (in the dataset examined it is certain!).\n",
    "\n",
    "There are several possible explanations for this e.g.:\n",
    "\n",
    "1) Adults are more likely to report less serious reactions if they experience them, compared to other age groups.\n",
    "<br>\n",
    "2) Adults are less likely to experience serious reactions (either due to the treatment or to natural disease progression), compared to children or adults.\n",
    "\n",
    "Further collaboration with domain experts and cross-reference to data from other sources would be needed to investigate these hypotheses."
   ]
  },
  {
   "cell_type": "code",
   "execution_count": 173,
   "metadata": {},
   "outputs": [
    {
     "name": "stdout",
     "output_type": "stream",
     "text": [
      "Probability of serious reaction given country\n",
      "The countries listed are the 25 most frequent (excluding 'Unknown'), ordered by frequency.\n",
      "P(Serious | Country = US) = 0.6152474364690147\n",
      "P(Serious | Country = TW) = 0.8947368421052632\n",
      "P(Serious | Country = CN) = 0.9464285714285714\n",
      "P(Serious | Country = CZ) = 0.9642857142857143\n",
      "P(Serious | Country = JP) = 0.9725490196078431\n",
      "P(Serious | Country = AU) = 0.98\n",
      "P(Serious | Country = CA) = 0.9806763285024155\n",
      "P(Serious | Country = NL) = 0.9939393939393939\n",
      "P(Serious | Country = DE) = 0.9947368421052631\n",
      "P(Serious | Country = IT) = 0.9949748743718593\n",
      "P(Serious | Country = GB) = 1.0\n",
      "P(Serious | Country = IL) = 1.0\n",
      "P(Serious | Country = GR) = 1.0\n",
      "P(Serious | Country = AR) = 1.0\n",
      "P(Serious | Country = AT) = 1.0\n",
      "P(Serious | Country = CH) = 1.0\n",
      "P(Serious | Country = BE) = 1.0\n",
      "P(Serious | Country = ES) = 1.0\n",
      "P(Serious | Country = DK) = 1.0\n",
      "P(Serious | Country = IN) = 1.0\n",
      "P(Serious | Country = FR) = 1.0\n",
      "P(Serious | Country = CO) = 1.0\n",
      "P(Serious | Country = BR) = 1.0\n",
      "P(Serious | Country = KR) = 1.0\n",
      "P(Serious | Country = SE) = 1.0\n"
     ]
    }
   ],
   "source": [
    "#Probability of serious reaction given country of occurence (K most common countries):\n",
    "K=25 #User defined; integer 1 to len(country_list_sorted_desc)\n",
    "\n",
    "P_serious_given_country = np.zeros((K, 1))\n",
    "for k in range(K):\n",
    "    P_serious_given_country[k] = df[(df.serious == 'Serious') & (df.occurcountry == country_list_sorted_desc[k])].shape[0] / df[df.occurcountry == country_list_sorted_desc[k]].shape[0]\n",
    "\n",
    "print(\"Probability of serious reaction given country\")\n",
    "print(\"The countries listed are the \"+str(K)+\" most frequent (excluding 'Unknown'), ordered by frequency.\")\n",
    "indices_sorted = np.argsort(P_serious_given_country.ravel())\n",
    "for i in range(len(P_serious_given_country)):\n",
    "    print('P(Serious | Country = '+country_list_sorted_desc[indices_sorted[i]]+') = '+str(P_serious_given_country[indices_sorted[i]].item()))   "
   ]
  },
  {
   "cell_type": "markdown",
   "metadata": {},
   "source": [
    "Again we see evidence of country-related bias in terms of the OpenFDA reports. But we also learn something new about the form of this bias:\n",
    "\n",
    "Only serious reactions are reported for many countries. In fact, for most of the countries in this list, if a report appears in OpenFDA it is almost certainly serious. This is not the case for the US, however.\n",
    "\n",
    "A likely explanation is that even not serious reaction cases are reported to OpenFDA from the US (e.g. by patients' doctors & local hospitals). A naive assumption is thus that $P(Serious | Country = US) = 0.615$ is -although possibly still biased- closer to the true $P(Serious)$ in the population than the estimate for the later we get from this dataset ($=0.798$)."
   ]
  },
  {
   "cell_type": "code",
   "execution_count": 171,
   "metadata": {},
   "outputs": [
    {
     "name": "stdout",
     "output_type": "stream",
     "text": [
      "Probability of serious reaction given drug (generic name)\n",
      "The drugs listed are the 10 most frequent in the reports (excluding 'Unknown').\n",
      "P(Serious | Drug = BEVACIZUMAB) = 1.0\n",
      "P(Serious | Drug = ENZALUTAMIDE) = 0.9664429530201343\n",
      "P(Serious | Drug = LEUPROLIDE ACETATE) = 0.8918918918918919\n",
      "P(Serious | Drug = CAPECITABINE) = 0.8888888888888888\n",
      "P(Serious | Drug = ABIRATERONE ACETATE) = 0.7363636363636363\n",
      "P(Serious | Drug = EVEROLIMUS) = 0.6944444444444444\n",
      "P(Serious | Drug = LETROZOLE) = 0.5428571428571428\n",
      "P(Serious | Drug = TRASTUZUMAB) = 0.4972067039106145\n",
      "P(Serious | Drug = PALBOCICLIB) = 0.4263157894736842\n",
      "P(Serious | Drug = PANITUMUMAB) = 0.29310344827586204\n"
     ]
    }
   ],
   "source": [
    "#Probability of serious reaction given drug (K most common drugs):\n",
    "K=10 #User defined; integer 1 to len(drug_list_sorted_desc)\n",
    "\n",
    "P_serious_given_drug = np.zeros((K, 1))\n",
    "for k in range(K):\n",
    "    P_serious_given_drug[k] = df[(df.serious == 'Serious') & (df.patient_drug == drug_list_sorted_desc[k])].shape[0] / df[df.patient_drug == drug_list_sorted_desc[k]].shape[0]\n",
    "\n",
    "print(\"Probability of serious reaction given drug (generic name)\")\n",
    "print(\"The drugs listed are the \"+str(K)+\" most frequent in the reports (excluding 'Unknown').\")\n",
    "indices_sorted = np.flip(np.argsort(P_serious_given_drug.ravel()))\n",
    "for i in range(len(P_serious_given_drug)):\n",
    "    print('P(Serious | Drug = '+drug_list_sorted_desc[indices_sorted[i]]+') = '+str(P_serious_given_drug[indices_sorted[i]].item()))   "
   ]
  },
  {
   "cell_type": "markdown",
   "metadata": {},
   "source": [
    "Again the probabilities are illuminating. Some drugs' reports are almost exclusively accompanied with a serious reaction. For instance, the drug BEVACIZUMAB is only associated with serious reports. A simple Wikipedia search confirms that indeed the drug is associated with severe side effects[1].\n",
    "\n",
    "There is definitely information here about (i) either the severity of the cancer type for which the drug is administered or (ii) the severity of the adverse effect the drugs carry.\n",
    "\n",
    "A proper further investigation of this would require collaboration with domain experts and data from other sources.\n",
    "\n",
    "[1] Source: Wikipedia (https://en.wikipedia.org/wiki/Bevacizumab#Adverse_effects)"
   ]
  },
  {
   "cell_type": "markdown",
   "metadata": {},
   "source": [
    "Next, we will calculate conditional probabilities for \n",
    "\n",
    "1) Each reaction given each drug\n",
    "<br>\n",
    "2) Each reaction given country of occurence\n",
    "<br>\n",
    "3) Each drug given country of occurence\n",
    "<br>\n",
    "4) Each reaction given some other reaction\n",
    "\n",
    "We shall not list these exhaustively, but rather print heat maps showing that indeed some values of these conditional probability tables are much higher than others. We will then select these highest values to showcase them."
   ]
  },
  {
   "cell_type": "code",
   "execution_count": 177,
   "metadata": {},
   "outputs": [
    {
     "data": {
      "image/png": "[encoded data removed]",
      "text/plain": [
       "<Figure size 720x504 with 1 Axes>"
      ]
     },
     "metadata": {
      "needs_background": "light"
     },
     "output_type": "display_data"
    }
   ],
   "source": [
    "#Probability of specific reaction given drug (J most common reactions, K most common drugs):\n",
    "J = 10 #User defined; integer 1 to len(reaction_list_sorted_desc)\n",
    "K = 25 #User defined; integer 1 to len(drug_list_sorted_desc)\n",
    "\n",
    "P_reaction_given_drug = np.zeros((J, K))\n",
    "for j in range(J):\n",
    "    for k in range(K):\n",
    "        P_reaction_given_drug[j,k] = df[((df.patient_reaction_1 == reaction_list_sorted_desc[j]) | (df.patient_reaction_2 == reaction_list_sorted_desc[j]) | (df.patient_reaction_3 == reaction_list_sorted_desc[j]) | (df.patient_reaction_4 == reaction_list_sorted_desc[j]) | (df.patient_reaction_5 == reaction_list_sorted_desc[j])) & (df.patient_drug == drug_list_sorted_desc[k])].shape[0] / df[df.patient_drug == drug_list_sorted_desc[k]].shape[0]\n",
    "\n",
    "plt.title(\"Probability of specific reaction given drug (J most common reactions, K most common drugs)\")\n",
    "plt.ylabel('Reaction (index)')\n",
    "plt.xlabel('Drug (index)')\n",
    "plt.imshow(P_reaction_given_drug) \n",
    "plt.gcf().set_size_inches(10, 7)"
   ]
  },
  {
   "cell_type": "markdown",
   "metadata": {},
   "source": [
    "Indeed we see that certain reactions are a lot more likely than others (lighter areas) given that the patient is reporting being treated by certain drugs. Yet other reactions are very unlikely given certain drugs (darker areas).\n",
    "\n",
    "We will now provide a list of the M most probable reactions given certain drugs. "
   ]
  },
  {
   "cell_type": "code",
   "execution_count": 196,
   "metadata": {},
   "outputs": [
    {
     "name": "stdout",
     "output_type": "stream",
     "text": [
      "Most common reactions given drug:\n",
      "Patients taking drug 'PALBOCICLIB' tend to exhibit reaction 'Pyrexia' w.p. 0.21311475409836064\n",
      "Patients taking drug 'TRASTUZUMAB' tend to exhibit reaction 'Disease progression' w.p. 0.15517241379310345\n",
      "Patients taking drug 'ABIRATERONE ACETATE' tend to exhibit reaction 'Nausea' w.p. 0.1476510067114094\n",
      "Patients taking drug 'ENZALUTAMIDE' tend to exhibit reaction 'Disease progression' w.p. 0.12931034482758622\n",
      "Patients taking drug 'PALBOCICLIB' tend to exhibit reaction 'Disease progression' w.p. 0.12931034482758622\n",
      "Patients taking drug 'PANITUMUMAB' tend to exhibit reaction 'Diarrhoea' w.p. 0.12105263157894737\n",
      "Patients taking drug 'ABIRATERONE ACETATE' tend to exhibit reaction 'Malaise' w.p. 0.11666666666666667\n",
      "Patients taking drug 'PANITUMUMAB' tend to exhibit reaction 'Malaise' w.p. 0.11666666666666667\n",
      "Patients taking drug 'PANITUMUMAB' tend to exhibit reaction 'Neutropenia' w.p. 0.11320754716981132\n",
      "Patients taking drug 'EVEROLIMUS' tend to exhibit reaction 'Disease progression' w.p. 0.11206896551724138\n"
     ]
    }
   ],
   "source": [
    "#Most common reactions per drug (show M most common)\n",
    "M = 10 #User defined; integer 1 to J*K\n",
    "\n",
    "# Convert it into a 1D array\n",
    "P_1d = P_reaction_given_drug.flatten()\n",
    "# Find the indices in the 1D array\n",
    "idx_1d = np.flip(P_1d.argsort()[-M:])\n",
    "# Convert the idx_1d back into indices arrays for each dimension\n",
    "x_idx, y_idx = np.unravel_index(idx_1d, P_reaction_given_drug.shape)\n",
    "print(\"Most common reactions given drug:\")\n",
    "for x, y, in zip(x_idx, y_idx):\n",
    "    print(\"Patients taking drug '\"+drug_list_sorted_desc[x]+ \"' tend to exhibit reaction '\" +reaction_list_sorted_desc[y]+ \"' w.p. \"+str(P_reaction_given_drug[x][y]))"
   ]
  },
  {
   "cell_type": "code",
   "execution_count": 178,
   "metadata": {},
   "outputs": [
    {
     "data": {
      "image/png": "[encoded data removed]",
      "text/plain": [
       "<Figure size 720x504 with 1 Axes>"
      ]
     },
     "metadata": {
      "needs_background": "light"
     },
     "output_type": "display_data"
    }
   ],
   "source": [
    "#Probability of specific reaction given country of occurence (J most common reactions, K most common countries)\n",
    "J = 10 #User defined; integer 1 to len(reaction_list_sorted_desc)\n",
    "K = 25 #User defined; integer 1 to len(country_list_sorted_desc)\n",
    "\n",
    "P_reaction_given_country = np.zeros((J, K))\n",
    "for j in range(J):\n",
    "    for k in range(K):\n",
    "        P_reaction_given_country[j,k] = df[((df.patient_reaction_1 == reaction_list_sorted_desc[j]) | (df.patient_reaction_2 == reaction_list_sorted_desc[j]) | (df.patient_reaction_3 == reaction_list_sorted_desc[j]) | (df.patient_reaction_4 == reaction_list_sorted_desc[j]) | (df.patient_reaction_5 == reaction_list_sorted_desc[j])) & (df.occurcountry == country_list_sorted_desc[k])].shape[0] / df[df.occurcountry == country_list_sorted_desc[k]].shape[0]\n",
    "\n",
    "plt.title(\"Probability of specific reaction given country of occurence (J most common reactions, K most common countries)\")\n",
    "plt.ylabel('Reaction (index)')\n",
    "plt.xlabel('Country (index)')\n",
    "plt.imshow(P_reaction_given_country) \n",
    "plt.gcf().set_size_inches(10, 7)"
   ]
  },
  {
   "cell_type": "markdown",
   "metadata": {},
   "source": [
    "Indeed we see that certain reactions are a lot more likely than others (lighter areas) given specific reported countries of occurence. Yet other reactions are very unlikely given certain countries (darker areas).\n",
    "\n",
    "We will now list the M most common reactions for a given country:"
   ]
  },
  {
   "cell_type": "code",
   "execution_count": 198,
   "metadata": {},
   "outputs": [
    {
     "name": "stdout",
     "output_type": "stream",
     "text": [
      "Most common reactions given country\n",
      "Reports from 'DE' tend to include reaction 'White blood cell count decreased' w.p. 0.2631578947368421\n",
      "Reports from 'CA' tend to include reaction 'White blood cell count decreased' w.p. 0.21052631578947367\n",
      "Reports from 'BR' tend to include reaction 'Drug ineffective' w.p. 0.20833333333333334\n",
      "Reports from 'CA' tend to include reaction 'Stomatitis' w.p. 0.16666666666666666\n",
      "Reports from 'IT' tend to include reaction 'Neutropenia' w.p. 0.16\n",
      "Reports from 'FR' tend to include reaction 'Off label use' w.p. 0.12\n",
      "Reports from 'GB' tend to include reaction 'Rash' w.p. 0.11538461538461539\n",
      "Reports from 'JP' tend to include reaction 'Stomatitis' w.p. 0.1111111111111111\n",
      "Reports from 'CA' tend to include reaction 'Asthenia' w.p. 0.10714285714285714\n",
      "Reports from 'JP' tend to include reaction 'White blood cell count decreased' w.p. 0.10526315789473684\n"
     ]
    }
   ],
   "source": [
    "#Most common reactions per country (show M most common)\n",
    "M = 10 #User defined; integer 1 to J*K\n",
    "# Convert it into a 1D array\n",
    "P_1d = P_reaction_given_country.flatten()\n",
    "# Find the indices in the 1D array\n",
    "idx_1d = np.flip(P_1d.argsort()[-M:])\n",
    "# Convert the idx_1d back into indices arrays for each dimension\n",
    "x_idx, y_idx = np.unravel_index(idx_1d, P_reaction_given_country.shape)\n",
    "print(\"Most common reactions given country\")\n",
    "for x, y, in zip(x_idx, y_idx):\n",
    "    print(\"Reports from '\"+country_list_sorted_desc[x]+ \"' tend to include reaction '\" +reaction_list_sorted_desc[y]+ \"' w.p. \"+str(P_reaction_given_country[x][y]))"
   ]
  },
  {
   "cell_type": "code",
   "execution_count": 179,
   "metadata": {},
   "outputs": [
    {
     "data": {
      "image/png": "[encoded data removed]",
      "text/plain": [
       "<Figure size 720x504 with 1 Axes>"
      ]
     },
     "metadata": {
      "needs_background": "light"
     },
     "output_type": "display_data"
    }
   ],
   "source": [
    "#Probability of specific drug given country of occurence (J most common drugs, K most common countries)\n",
    "J = 10 #User defined; integer 1 to len(drug_list_sorted_desc)\n",
    "K = 25 #User defined; integer 1 to len(country_list_sorted_desc)\n",
    "\n",
    "P_drug_given_country = np.zeros((J, K))\n",
    "for j in range(J):\n",
    "    for k in range(K):\n",
    "        P_drug_given_country[j,k] = df[(df.patient_drug == drug_list_sorted_desc[j]) & (df.occurcountry == country_list_sorted_desc[k])].shape[0] / df[df.occurcountry == country_list_sorted_desc[k]].shape[0]\n",
    "\n",
    "plt.title(\"Probability of specific drug given country of occurence (J most common drug, K most common countries)\")\n",
    "plt.ylabel('Drug (index)')\n",
    "plt.xlabel('Country (index)')\n",
    "plt.imshow(P_drug_given_country) \n",
    "plt.gcf().set_size_inches(10, 7)"
   ]
  },
  {
   "cell_type": "markdown",
   "metadata": {},
   "source": [
    "Indeed we see that certain drugs are a lot more likely than others (lighter areas) given specific reported countries of occurence. Yet other drugs are very unlikely given certain countries (darker areas).\n",
    "\n",
    "We will now provide a list of the M most probable drugs given specific countries:"
   ]
  },
  {
   "cell_type": "code",
   "execution_count": 197,
   "metadata": {},
   "outputs": [
    {
     "name": "stdout",
     "output_type": "stream",
     "text": [
      "Most common drugs given country:\n",
      "Reports from 'DE' tend to include drug 'PACLITAXEL' w.p. 0.20833333333333334\n",
      "Reports from 'NL' tend to include drug 'DENOSUMAB' w.p. 0.2\n",
      "Reports from 'IT' tend to include drug 'LETROZOLE' w.p. 0.1896551724137931\n",
      "Reports from 'NL' tend to include drug 'LEUPROLIDE ACETATE' w.p. 0.14545454545454545\n",
      "Reports from 'BR' tend to include drug 'NIVOLUMAB' w.p. 0.14285714285714285\n",
      "Reports from 'GB' tend to include drug 'SUNITINIB MALATE' w.p. 0.12\n",
      "Reports from 'CA' tend to include drug 'OXALIPLATIN' w.p. 0.1111111111111111\n",
      "Reports from 'NL' tend to include drug 'ENZALUTAMIDE' w.p. 0.1111111111111111\n",
      "Reports from 'GB' tend to include drug 'OXALIPLATIN' w.p. 0.1111111111111111\n",
      "Reports from 'JP' tend to include drug 'EXEMESTANE' w.p. 0.1\n"
     ]
    }
   ],
   "source": [
    "#Most common drugs per country (show M most common)\n",
    "M = 10 #User defined; integer 1 to J*K\n",
    "\n",
    "# Convert it into a 1D array\n",
    "P_1d = P_drug_given_country.flatten()\n",
    "# Find the indices in the 1D array\n",
    "idx_1d = np.flip(P_1d.argsort()[-M:])\n",
    "# Convert the idx_1d back into indices arrays for each dimension\n",
    "x_idx, y_idx = np.unravel_index(idx_1d, P_drug_given_country.shape)\n",
    "print(\"Most common drugs given country:\")\n",
    "for x, y, in zip(x_idx, y_idx):\n",
    "    print(\"Reports from '\"+country_list_sorted_desc[x]+ \"' tend to include drug '\" +drug_list_sorted_desc[y]+ \"' w.p. \"+str(P_drug_given_country[x][y]))"
   ]
  },
  {
   "cell_type": "code",
   "execution_count": 182,
   "metadata": {},
   "outputs": [
    {
     "data": {
      "image/png": "[encoded data removed]",
      "text/plain": [
       "<Figure size 720x504 with 1 Axes>"
      ]
     },
     "metadata": {
      "needs_background": "light"
     },
     "output_type": "display_data"
    }
   ],
   "source": [
    "#Probability of having one reaction given another: (K most common reactions)\n",
    "K = 10 #User defined; integer 1 to len(reaction_list_sorted_desc)\n",
    "\n",
    "J = K\n",
    "P_reaction_given_reaction = np.zeros((J, K))\n",
    "for j in range(J):\n",
    "    for k in range(K):\n",
    "        P_reaction_given_reaction[j,k] = df[((df.patient_reaction_1 == reaction_list_sorted_desc[j]) | (df.patient_reaction_2 == reaction_list_sorted_desc[j]) | (df.patient_reaction_3 == reaction_list_sorted_desc[j]) | (df.patient_reaction_4 == reaction_list_sorted_desc[j]) | (df.patient_reaction_5 == reaction_list_sorted_desc[j])) & (((df.patient_reaction_1 == reaction_list_sorted_desc[k]) | (df.patient_reaction_2 == reaction_list_sorted_desc[k]) | (df.patient_reaction_3 == reaction_list_sorted_desc[k]) | (df.patient_reaction_4 == reaction_list_sorted_desc[k]) | (df.patient_reaction_5 == reaction_list_sorted_desc[k])))].shape[0] / df[((df.patient_reaction_1 == reaction_list_sorted_desc[k]) | (df.patient_reaction_2 == reaction_list_sorted_desc[k]) | (df.patient_reaction_3 == reaction_list_sorted_desc[k]) | (df.patient_reaction_4 == reaction_list_sorted_desc[k]) | (df.patient_reaction_5 == reaction_list_sorted_desc[k]))].shape[0]\n",
    "\n",
    "#Subtract diagonal (obviously P(reaction = i|reaction = i)=1 for all i)\n",
    "P_reaction_given_reaction_no_diag = P_reaction_given_reaction - np.identity(P_reaction_given_reaction.shape[0])    \n",
    "        \n",
    "plt.title(\"Probability of reaction B, given reaction A (K most common reactions, diagonal subtracted)\")\n",
    "plt.ylabel('Reaction B (index)')\n",
    "plt.xlabel('Reaction A (index)')\n",
    "plt.imshow(P_reaction_given_reaction_no_diag) \n",
    "plt.gcf().set_size_inches(10, 7)"
   ]
  },
  {
   "cell_type": "markdown",
   "metadata": {},
   "source": [
    "We have subtracted the main diagonal as it is naturally equal to 1 for all reactions.\n",
    "\n",
    "Indeed we see that certain reactions are a lot more likely than others (lighter areas) given certain other reactions.\n",
    "\n",
    "Note that the table is close to symmetric, yet not exactly! This is sensible as this is a conditional probability table, not a joint probability table.\n",
    "\n",
    "Reactions like \"Nausea\" and \"Vomiting\" are expected to be often experienced together, so their joint probability $P(Reaction A = Nausea, Reaction B = Vomiting)$ should be high. Yet, their conditional probabilities $P(Reaction B = Nausea | Reaction A = Vomiting)$ and $P(Reaction B = Vomiting | Reaction A = Nausea)$ can differ arbitrarily.\n",
    "\n",
    "Since there is also a causal path: \"Nausea\" -- > \"Vomiting\" we might expect the probability $P(Reaction B = Vomiting | Reaction A = Nausea)$ to be higher than $P(Reaction B = Nausea | Reaction A = Vomiting)$."
   ]
  },
  {
   "cell_type": "markdown",
   "metadata": {},
   "source": [
    "Let us now print the M highest values from the conditional probability table:"
   ]
  },
  {
   "cell_type": "code",
   "execution_count": 193,
   "metadata": {},
   "outputs": [
    {
     "name": "stdout",
     "output_type": "stream",
     "text": [
      "Most common reactions given another one:\n",
      "Patients with reaction 'Nausea' also tend to have reaction 'Vomiting' w.p. 0.37735849056603776\n",
      "Patients with reaction 'Diarrhoea' also tend to have reaction 'Vomiting' w.p. 0.2358490566037736\n",
      "Patients with reaction 'Vomiting' also tend to have reaction 'Nausea' w.p. 0.22988505747126436\n",
      "Patients with reaction 'Fatigue' also tend to have reaction 'Decreased appetite' w.p. 0.15463917525773196\n",
      "Patients with reaction 'Diarrhoea' also tend to have reaction 'Nausea' w.p. 0.14942528735632185\n",
      "Patients with reaction 'Nausea' also tend to have reaction 'Diarrhoea' w.p. 0.13978494623655913\n",
      "Patients with reaction 'Vomiting' also tend to have reaction 'Diarrhoea' w.p. 0.13440860215053763\n",
      "Patients with reaction 'Diarrhoea' also tend to have reaction 'Decreased appetite' w.p. 0.1134020618556701\n",
      "Patients with reaction 'Diarrhoea' also tend to have reaction 'Fatigue' w.p. 0.1092896174863388\n",
      "Patients with reaction 'Fatigue' also tend to have reaction 'Diarrhoea' w.p. 0.10752688172043011\n"
     ]
    }
   ],
   "source": [
    "#Most commonly coinciding reactions (show M most common)\n",
    "M = 10 ##User defined; integer 1 to K^2\n",
    "# Convert it into a 1D array\n",
    "P_1d = P_reaction_given_reaction_no_diag.flatten()\n",
    "# Find the indices in the 1D array\n",
    "idx_1d = np.flip(P_1d.argsort()[-M:])\n",
    "# Convert the idx_1d back into indices arrays for each dimension\n",
    "x_idx, y_idx = np.unravel_index(idx_1d, P_reaction_given_reaction_no_diag.shape)\n",
    "print(\"Most common reactions given another one:\")\n",
    "for x, y, in zip(x_idx, y_idx):\n",
    "    print(\"Patients with reaction '\"+reaction_list_sorted_desc[x]+ \"' also tend to have reaction '\" +reaction_list_sorted_desc[y]+ \"' w.p. \"+str(P_reaction_given_reaction[x][y]))"
   ]
  },
  {
   "cell_type": "markdown",
   "metadata": {},
   "source": [
    "The results make sense to anyone that has experienced these reactions.\n",
    "\n",
    "Note that our hypothesis above regarding $P(Reaction B = Vomiting | Reaction A = Nausea)$ being higher than $P(Reaction B = Nausea | Reaction A = Vomiting)$ is validated.\n",
    "\n",
    "Similar cases can be made for other reaction combinations."
   ]
  },
  {
   "cell_type": "code",
   "execution_count": 183,
   "metadata": {},
   "outputs": [
    {
     "name": "stdout",
     "output_type": "stream",
     "text": [
      "Probability of serious reaction given its type;\n",
      "P(Serious | Reaction = Malignant neoplasm progression) = 1.0\n",
      "P(Serious | Reaction = Death) = 1.0\n",
      "P(Serious | Reaction = Breast cancer) = 0.9166666666666666\n",
      "P(Serious | Reaction = Dyspnoea) = 0.8829787234042553\n",
      "P(Serious | Reaction = Decreased appetite) = 0.7835051546391752\n",
      "P(Serious | Reaction = Vomiting) = 0.7452830188679245\n",
      "P(Serious | Reaction = Nausea) = 0.7068965517241379\n",
      "P(Serious | Reaction = Diarrhoea) = 0.6451612903225806\n",
      "P(Serious | Reaction = Disease progression) = 0.6422764227642277\n",
      "P(Serious | Reaction = Fatigue) = 0.6120218579234973\n"
     ]
    }
   ],
   "source": [
    "#Probability of having a serious reaction given its type (K most common reactions):\n",
    "K = 10 # #User defined; integer 1 to len(reaction_list_sorted_desc)\n",
    "\n",
    "P_serious_given_reaction = np.zeros((K, 1))\n",
    "for k in range(K):\n",
    "    P_serious_given_reaction[k] = df[(df.serious == 'Serious') & (((df.patient_reaction_1 == reaction_list_sorted_desc[k]) | (df.patient_reaction_2 == reaction_list_sorted_desc[k]) | (df.patient_reaction_3 == reaction_list_sorted_desc[k]) | (df.patient_reaction_4 == reaction_list_sorted_desc[k]) | (df.patient_reaction_5 == reaction_list_sorted_desc[k])))].shape[0] / df[((df.patient_reaction_1 == reaction_list_sorted_desc[k]) | (df.patient_reaction_2 == reaction_list_sorted_desc[k]) | (df.patient_reaction_3 == reaction_list_sorted_desc[k]) | (df.patient_reaction_4 == reaction_list_sorted_desc[k]) | (df.patient_reaction_5 == reaction_list_sorted_desc[k]))].shape[0]\n",
    "\n",
    "print(\"Probability of serious reaction given its type;\")\n",
    "indices_sorted = np.flip(np.argsort(P_serious_given_reaction.ravel()))\n",
    "for i in range(len(P_serious_given_reaction)):\n",
    "    print('P(Serious | Reaction = '+reaction_list_sorted_desc[indices_sorted[i]]+') = '+str(P_serious_given_reaction[indices_sorted[i]].item()))   "
   ]
  },
  {
   "cell_type": "markdown",
   "metadata": {},
   "source": [
    "Disregarding the obvious reaction \"Death\" which is certainly serious, we see that many other reactions with serious outcomes are those that do not slow down the disease progression. It might be that the drugs are simply ineffective in these cases, rather than causally contributing to an adverse reaction."
   ]
  },
  {
   "cell_type": "code",
   "execution_count": 185,
   "metadata": {},
   "outputs": [
    {
     "name": "stdout",
     "output_type": "stream",
     "text": [
      "Probability of country given patient's gender (most common countries regardless of gender)\n",
      "Female patients:\n",
      "P(Country = US | Gender = Female) = 0.4807987711213518\n",
      "P(Country = JP | Gender = Female) = 0.07872503840245776\n",
      "P(Country = GB | Gender = Female) = 0.043394777265745005\n",
      "P(Country = FR | Gender = Female) = 0.03955453149001536\n",
      "P(Country = DE | Gender = Female) = 0.03763440860215054\n",
      "P(Country = IT | Gender = Female) = 0.03763440860215054\n",
      "P(Country = CA | Gender = Female) = 0.03456221198156682\n",
      "P(Country = BR | Gender = Female) = 0.018433179723502304\n",
      "P(Country = CO | Gender = Female) = 0.013440860215053764\n",
      "P(Country = NL | Gender = Female) = 0.013056835637480798\n",
      "Male Patients:\n",
      "P(Country = US | Gender = Male) = 0.41354166666666664\n",
      "P(Country = JP | Gender = Male) = 0.13020833333333334\n",
      "P(Country = DE | Gender = Male) = 0.04635416666666667\n",
      "P(Country = NL | Gender = Male) = 0.04375\n",
      "P(Country = CA | Gender = Male) = 0.043229166666666666\n",
      "P(Country = IT | Gender = Male) = 0.03697916666666667\n",
      "P(Country = FR | Gender = Male) = 0.03229166666666667\n",
      "P(Country = GB | Gender = Male) = 0.028645833333333332\n",
      "P(Country = CO | Gender = Male) = 0.011979166666666667\n",
      "P(Country = BR | Gender = Male) = 0.0109375\n"
     ]
    }
   ],
   "source": [
    "#Probability of specific country given gender (K most common countries):\n",
    "K = 10 #User defined; integer 1 to len(country_list_sorted_desc)\n",
    "\n",
    "P_country_given_male = np.zeros((K, 1)) \n",
    "P_country_given_female = np.zeros((K, 1)) \n",
    "for k in range(K):\n",
    "    P_country_given_male[k] = df[(df.occurcountry == country_list_sorted_desc[k]) & (df.patient_sex == 'Male')].shape[0] / df[df.patient_sex == 'Male'].shape[0]\n",
    "    P_country_given_female[k] = df[(df.occurcountry == country_list_sorted_desc[k]) & (df.patient_sex == 'Female')].shape[0] / df[df.patient_sex == 'Female'].shape[0]\n",
    "\n",
    "print(\"Probability of country given patient's gender (most common countries regardless of gender)\")\n",
    "print(\"Female patients:\")\n",
    "indices_sorted_f = np.flip(np.argsort(P_country_given_female.ravel()))\n",
    "for i in range(len(P_country_given_female)):\n",
    "    print('P(Country = '+country_list_sorted_desc[indices_sorted_f[i]]+' | Gender = Female) = '+str(P_country_given_female[indices_sorted_f[i]].item()))   \n",
    "print(\"Male Patients:\")\n",
    "indices_sorted_m = np.flip(np.argsort(P_country_given_male.ravel()))\n",
    "for i in range(len(P_country_given_male)):\n",
    "    print('P(Country = '+country_list_sorted_desc[indices_sorted_m[i]]+' | Gender = Male) = '+str(P_country_given_male[indices_sorted_m[i]].item()))   "
   ]
  },
  {
   "cell_type": "markdown",
   "metadata": {},
   "source": [
    "Quite a large percentage of male patients appear to be from Japan. \n",
    "\n",
    "We saw earlier that in our sample males account for a minority of reports with  $P(Gender = Male) = 0.384$. We also saw that reports from Japan are quite frequent, with $P(Country = JP) = 0.102$ and that $P(Country = JP | Gender = Male) = 0.130$.\n",
    "\n",
    "A simple application of the Bayes Rule would give us:\n",
    "\n",
    "$P(Gender = Male | Country = JP) =  \\frac{P(Country = JP | Gender = Male)\\times P(Gender = Male)}{P(Country = JP)} = \\frac {0.130 \\times 0.384}{0.102} = 0.489$.\n",
    "\n",
    "i.e. Japanese male patients are considerably more represented in the sample than the global $P(Gender = Male) = 0.384$. This is just an example of analysis we can perform given such conditional probabilities."
   ]
  },
  {
   "cell_type": "code",
   "execution_count": 186,
   "metadata": {},
   "outputs": [
    {
     "name": "stdout",
     "output_type": "stream",
     "text": [
      "Probability of drug given patient's gender (for most common drugs regardless of gender)\n",
      "Female patients:\n",
      "P(Drug = PALBOCICLIB | Gender = Female) = 0.0695084485407066\n",
      "P(Drug = TRASTUZUMAB | Gender = Female) = 0.05414746543778802\n",
      "P(Drug = EVEROLIMUS | Gender = Female) = 0.03533026113671275\n",
      "P(Drug = LETROZOLE | Gender = Female) = 0.02534562211981567\n",
      "P(Drug = BEVACIZUMAB | Gender = Female) = 0.02304147465437788\n",
      "P(Drug = PANITUMUMAB | Gender = Female) = 0.019969278033794162\n",
      "P(Drug = CAPECITABINE | Gender = Female) = 0.015360983102918587\n",
      "P(Drug = LEUPROLIDE ACETATE | Gender = Female) = 0.002304147465437788\n",
      "P(Drug = ABIRATERONE ACETATE | Gender = Female) = 0.0\n",
      "P(Drug = ENZALUTAMIDE | Gender = Female) = 0.0\n",
      "Male Patients:\n",
      "P(Drug = TRASTUZUMAB | Gender = Male) = 0.004166666666666667\n",
      "P(Drug = PALBOCICLIB | Gender = Male) = 0.0015625\n",
      "P(Drug = ENZALUTAMIDE | Gender = Male) = 0.07708333333333334\n",
      "P(Drug = ABIRATERONE ACETATE | Gender = Male) = 0.05572916666666667\n",
      "P(Drug = BEVACIZUMAB | Gender = Male) = 0.0140625\n",
      "P(Drug = EVEROLIMUS | Gender = Male) = 0.007291666666666667\n",
      "P(Drug = LETROZOLE | Gender = Male) = 0.0\n",
      "P(Drug = CAPECITABINE | Gender = Male) = 0.013541666666666667\n",
      "P(Drug = PANITUMUMAB | Gender = Male) = 0.030729166666666665\n",
      "P(Drug = LEUPROLIDE ACETATE | Gender = Male) = 0.028645833333333332\n"
     ]
    }
   ],
   "source": [
    "#Probability of specific drug given gender (K most common drugs):\n",
    "K = 10 #User defined; integer 1 to len(drug_list_sorted_desc)\n",
    "\n",
    "P_drug_given_male = np.zeros((K, 1)) \n",
    "P_drug_given_female = np.zeros((K, 1)) \n",
    "for k in range(K):\n",
    "    P_drug_given_male[k] = df[(df.patient_drug == drug_list_sorted_desc[k]) & (df.patient_sex == 'Male')].shape[0] / df[df.patient_sex == 'Male'].shape[0]\n",
    "    P_drug_given_female[k] = df[(df.patient_drug == drug_list_sorted_desc[k]) & (df.patient_sex == 'Female')].shape[0] / df[df.patient_sex == 'Female'].shape[0]\n",
    "\n",
    "print(\"Probability of drug given patient's gender (for most common drugs regardless of gender)\")\n",
    "print(\"Female patients:\")\n",
    "indices_sorted_f = np.flip(np.argsort(P_drug_given_female.ravel()))\n",
    "for i in range(len(P_drug_given_female)):\n",
    "    print('P(Drug = '+drug_list_sorted_desc[indices_sorted_f[i]]+' | Gender = Female) = '+str(P_drug_given_female[indices_sorted_f[i]].item()))   \n",
    "print(\"Male Patients:\")\n",
    "indices_sorted_m = np.flip(np.argsort(P_reaction_given_male.ravel()))\n",
    "for i in range(len(P_drug_given_male)):\n",
    "    print('P(Drug = '+drug_list_sorted_desc[indices_sorted_m[i]]+' | Gender = Male) = '+str(P_drug_given_male[indices_sorted_m[i]].item()))   "
   ]
  },
  {
   "cell_type": "markdown",
   "metadata": {},
   "source": [
    "No female patient in the sample received the drugs \"ABIRATERONE ACETATE\" or \"ENZALUTAMIDE\". This is not surprising as these are both prostate cancer drugs[1,2]\n",
    "\n",
    "Similarly, no male patient received the drug \"LETROZOLE\". Again, this is sensible as it is a medicine used for treating breast cancer, mainly prescribed for women who have been through menopause[3].\n",
    "\n",
    "[1] Source: Wikipedia (https://en.wikipedia.org/wiki/Abiraterone_acetate)\n",
    "<br>\n",
    "[2] Source: Wikipedia (https://en.wikipedia.org/wiki/Enzalutamide)\n",
    "<br>\n",
    "[3] Source: NHS (https://www.nhs.uk/medicines/letrozole/)"
   ]
  },
  {
   "cell_type": "code",
   "execution_count": 92,
   "metadata": {},
   "outputs": [
    {
     "name": "stdout",
     "output_type": "stream",
     "text": [
      "Probability of reaction given patient's gender (most common reactions regardless of gender)\n",
      "Female patients:\n",
      "P(Reaction = Nausea | Gender = Female) = 0.04109062980030722\n",
      "P(Reaction = Fatigue | Gender = Female) = 0.04032258064516129\n",
      "P(Reaction = Diarrhoea | Gender = Female) = 0.03917050691244239\n",
      "P(Reaction = Breast cancer | Gender = Female) = 0.03494623655913978\n",
      "P(Reaction = Disease progression | Gender = Female) = 0.026113671274961597\n",
      "P(Reaction = Vomiting | Gender = Female) = 0.024193548387096774\n",
      "P(Reaction = Malignant neoplasm progression | Gender = Female) = 0.02304147465437788\n",
      "P(Reaction = Dyspnoea | Gender = Female) = 0.02227342549923195\n",
      "P(Reaction = Death | Gender = Female) = 0.016129032258064516\n",
      "P(Reaction = Decreased appetite | Gender = Female) = 0.014976958525345621\n",
      "Male Patients:\n",
      "P(Reaction = Fatigue | Gender = Male) = 0.03802083333333333\n",
      "P(Reaction = Diarrhoea | Gender = Male) = 0.036458333333333336\n",
      "P(Reaction = Nausea | Gender = Male) = 0.030208333333333334\n",
      "P(Reaction = Death | Gender = Male) = 0.029166666666666667\n",
      "P(Reaction = Decreased appetite | Gender = Male) = 0.027083333333333334\n",
      "P(Reaction = Vomiting | Gender = Male) = 0.019791666666666666\n",
      "P(Reaction = Dyspnoea | Gender = Male) = 0.017708333333333333\n",
      "P(Reaction = Malignant neoplasm progression | Gender = Male) = 0.0171875\n",
      "P(Reaction = Disease progression | Gender = Male) = 0.014583333333333334\n",
      "P(Reaction = Breast cancer | Gender = Male) = 0.0015625\n"
     ]
    }
   ],
   "source": [
    "#Probability of specific reaction given gender (K most common reactions):\n",
    "K = 10 #User defined; integer 1 to len(reaction_list_sorted_desc)\n",
    "\n",
    "P_reaction_given_male = np.zeros((K, 1)) \n",
    "P_reaction_given_female = np.zeros((K, 1)) \n",
    "for k in range(K):\n",
    "    P_reaction_given_male[k] = df[((df.patient_reaction_1 == reaction_list_sorted_desc[k]) | (df.patient_reaction_2 == reaction_list_sorted_desc[k]) | (df.patient_reaction_3 == reaction_list_sorted_desc[k]) | (df.patient_reaction_4 == reaction_list_sorted_desc[k]) | (df.patient_reaction_5 == reaction_list_sorted_desc[k])) & (df.patient_sex == 'Male')].shape[0] / df[df.patient_sex == 'Male'].shape[0]\n",
    "    P_reaction_given_female[k] = df[((df.patient_reaction_1 == reaction_list_sorted_desc[k]) | (df.patient_reaction_2 == reaction_list_sorted_desc[k]) | (df.patient_reaction_3 == reaction_list_sorted_desc[k]) | (df.patient_reaction_4 == reaction_list_sorted_desc[k]) | (df.patient_reaction_5 == reaction_list_sorted_desc[k])) & (df.patient_sex == 'Female')].shape[0] / df[df.patient_sex == 'Female'].shape[0]\n",
    "\n",
    "print(\"Probability of reaction given patient's gender (most common reactions regardless of gender)\")\n",
    "print(\"Female patients:\")\n",
    "indices_sorted_f = np.flip(np.argsort(P_reaction_given_female.ravel()))\n",
    "for i in range(len(P_reaction_given_female)):\n",
    "    print('P(Reaction = '+reaction_list_sorted_desc[indices_sorted_f[i]]+' | Gender = Female) = '+str(P_reaction_given_female[indices_sorted_f[i]].item()))   \n",
    "print(\"Male Patients:\")\n",
    "indices_sorted_m = np.flip(np.argsort(P_reaction_given_male.ravel()))\n",
    "for i in range(len(P_reaction_given_male)):\n",
    "    print('P(Reaction = '+reaction_list_sorted_desc[indices_sorted_m[i]]+' | Gender = Male) = '+str(P_reaction_given_male[indices_sorted_m[i]].item()))   "
   ]
  },
  {
   "cell_type": "markdown",
   "metadata": {},
   "source": [
    "Naturally, incidence of breast cancer among male patients is far lower than among female patients. \n",
    "\n",
    "We can make some other interesting observations too. For instance, male patients appear more likely to die from the reaction (based on our sample at least):"
   ]
  },
  {
   "cell_type": "code",
   "execution_count": 191,
   "metadata": {},
   "outputs": [
    {
     "name": "stdout",
     "output_type": "stream",
     "text": [
      "The relative odds ratio for death of males compared to females is: 1.832618025751073\n"
     ]
    }
   ],
   "source": [
    "P_death_given_male = 0.029166666666666667\n",
    "P_death_given_female = 0.016129032258064516\n",
    "OR_death_male = P_death_given_male / (1-P_death_given_male)\n",
    "OR_death_female =  P_death_given_female / (1-P_death_given_female)\n",
    "Rel_OR_death_male_to_female = OR_death_male/OR_death_female\n",
    "\n",
    "print('The relative odds ratio for death of males compared to females is: '+str(Rel_OR_death_male_to_female))"
   ]
  },
  {
   "cell_type": "code",
   "execution_count": 192,
   "metadata": {},
   "outputs": [
    {
     "name": "stdout",
     "output_type": "stream",
     "text": [
      "Most common outcome for each reaction (among known)\n",
      "For reaction \"Diarrhoea\" most common outcome is \"Recovered/resolved\" with probability: 0.25654450261780104\n",
      "For reaction \"Fatigue\" most common outcome is \"Not recovered/not resolved\" with probability: 0.24193548387096775\n",
      "For reaction \"Nausea\" most common outcome is \"Recovered/resolved\" with probability: 0.2571428571428571\n",
      "For reaction \"Disease progression\" most common outcome is \"Fatal\" with probability: 0.21138211382113822\n",
      "For reaction \"Death\" most common outcome is \"Fatal\" with probability: 1.0\n",
      "For reaction \"Vomiting\" most common outcome is \"Recovered/resolved\" with probability: 0.29906542056074764\n",
      "For reaction \"Decreased appetite\" most common outcome is \"Not recovered/not resolved\" with probability: 0.1836734693877551\n",
      "For reaction \"Breast cancer\" most common outcome is \"Not recovered/not resolved\" with probability: 0.14583333333333334\n",
      "For reaction \"Malignant neoplasm progression\" most common outcome is \"Fatal\" with probability: 0.3263157894736842\n",
      "For reaction \"Dyspnoea\" most common outcome is \"Recovered/resolved\" with probability: 0.18085106382978725\n"
     ]
    }
   ],
   "source": [
    "#Probability of outcome given reaction (K most common reactions):\n",
    "K = 10 #User defined; integer 1 to len(reaction_list_sorted_desc)\n",
    "\n",
    "all_reactions = df[\"patient_reaction_1\"].append(df[\"patient_reaction_2\"]).append(df[\"patient_reaction_3\"]).append(df[\"patient_reaction_4\"]).append(df[\"patient_reaction_5\"]).to_numpy()\n",
    "all_outcomes = df[\"patient_reaction_outcome_1\"].append(df[\"patient_reaction_outcome_2\"]).append(df[\"patient_reaction_outcome_3\"]).append(df[\"patient_reaction_outcome_4\"]).append(df[\"patient_reaction_outcome_5\"]).to_numpy()\n",
    "J = 6 # outcomes are encoded 1-6 (do not modify to consider all)\n",
    "P_outcome_given_reaction = np.zeros((J, K))\n",
    "for j in range(J):\n",
    "    for k in range(K):\n",
    "        P_outcome_given_reaction[j,k] = np.count_nonzero((all_outcomes == j+1) & (all_reactions == reaction_list_sorted_desc[k])) / np.count_nonzero(all_reactions == reaction_list_sorted_desc[k])\n",
    "\n",
    "outcome_legend =  [\"Recovered/resolved\", \"Recovering/resolving\",\n",
    "                   \"Not recovered/not resolved\",\n",
    "                   \"Recovered/resolved with sequelae\", \"Fatal\", \"Unknown\"]\n",
    "\n",
    "print('Most common outcome for each reaction (among known)')\n",
    "for i in range(P_outcome_given_reaction.shape[1]):\n",
    "    indices_sorted = np.flip(np.argsort(P_outcome_given_reaction[:,i].ravel()))\n",
    "    most_common = indices_sorted[0]\n",
    "    if outcome_legend[most_common] == \"Unknown\":\n",
    "        most_common = indices_sorted[1]\n",
    "    print('For reaction \"'+reaction_list_sorted_desc[i]+'\" most common outcome is \"'+outcome_legend[most_common]+'\" with probability: '+str(P_outcome_given_reaction[most_common, i].item()))   "
   ]
  },
  {
   "cell_type": "markdown",
   "metadata": {},
   "source": [
    "Some reactions are not as life-threatening or long-lasting as others  (e.g. \"Diarrhoea\", \"Nausea\", \"Vomiting\", \"Dyspnoea\") and most commonly the patient recovers. Others like \"Disease progression\" or \"Malignant neoplasm progression\" and -naturally- \"Death\" are typically fatal.\n",
    "\n",
    "Interestingly, \"Decreased appetite\" seems to not be resolved  in most cases."
   ]
  },
  {
   "cell_type": "markdown",
   "metadata": {},
   "source": [
    "This concludes our exploratory data analysis part. In the next part we shall define a supervised learning task using the OpenFDA reports sample we downloaded and demonstrate  an exaple of how to solve it."
   ]
  },
  {
   "cell_type": "markdown",
   "metadata": {},
   "source": [
    "## Part 2: Supervised task - Seriousness prediction"
   ]
  },
  {
   "cell_type": "markdown",
   "metadata": {},
   "source": [
    "For the remainder of this report we shall address the problem of predicting whether a report is concerning a serious or not serious reaction using the OpenFDA dataset we downloaded.\n",
    "\n",
    "We first (2.a) perform feature selection on this task, assessing the informativeness of each feature w.r.t. the target (Seriousness) using different information-theoretic feature selection methods. \n",
    "\n",
    "We then (2.b) construct a classifier (the code allows for multiple options) evaluate its performance and discuss the intricacies of data preprocessing, handling the imbalanced data and calibrating the probabilistic estimates of the classifier."
   ]
  },
  {
   "cell_type": "markdown",
   "metadata": {},
   "source": [
    "### 2.a Feature Selection"
   ]
  },
  {
   "cell_type": "markdown",
   "metadata": {},
   "source": [
    "#### Setting up the prediction task"
   ]
  },
  {
   "cell_type": "markdown",
   "metadata": {},
   "source": [
    "We must first define the target of the prediction task and the features we will use to predict it. \n",
    "\n",
    "The target is the binary variable 'serious', i.e. whether the reaction is classified as\n",
    "\n",
    "1) 'Serious': The adverse event resulted in death, a life threatening condition, hospitalization, disability, congenital anomaly, or other serious condition, or\n",
    "<br>\n",
    "2) 'Not Serious': The adverse event did not result in any of the above\n",
    "\n",
    "The features cannot include the patient's reactions (as some like \"Death\" are a clear, indication of the target) or their outcome (as some like \"Fatal\" are a clear indication of the target). We only include as features variables that are knowable before a report is filed (thus we also exclude the number of reactions expressed by the patient).\n"
   ]
  },
  {
   "cell_type": "code",
   "execution_count": 203,
   "metadata": {},
   "outputs": [],
   "source": [
    "#Setup prediction task; define features and target(s)\n",
    "\n",
    "# Variables to not use as features. This includes the target(s) or other variables that are to not be considered knowable in advance:\n",
    "# e.g. do not use reactions, their number and their outcomes \n",
    "excluded_variables = ['serious', 'patient_num_reactions', 'patient_reaction_1', 'patient_reaction_2',  'patient_reaction_3', 'patient_reaction_4', 'patient_reaction_5', 'patient_reaction_outcome_1', 'patient_reaction_outcome_2',  'patient_reaction_outcome_3', 'patient_reaction_outcome_4', 'patient_reaction_outcome_5']\n",
    "\n",
    "#Use variables of interest (except for target) to form feature array:\n",
    "df_X = df.drop(labels = excluded_variables, axis=1) \n",
    "X_sup = df_X.to_numpy() #Convert feature table to numpy array for next steps\n",
    "\n",
    "# Use seriousness as the prediction target; encode as '1': Serious, '0': Not Serious\n",
    "y = df[\"serious\"].replace(['Not Serious', 'Serious'], [0, 1]).to_numpy().ravel()\n",
    "\n",
    "full_feature_list = list(df_X.columns) # Keep names of all features used\n",
    "continuous_feature_list = [\"patient_onset_age\", \"patient_weight\"] #Manually specify continuous features\n",
    "continuous_feature_list = [\"patient_onset_age\", \"patient_weight\"] #specify continuous features\n",
    "continuous_features = np.where(df_X.columns.isin(continuous_feature_list))[0] #find their indices"
   ]
  },
  {
   "cell_type": "markdown",
   "metadata": {},
   "source": [
    "#### Preprocessing data for feature selection"
   ]
  },
  {
   "cell_type": "markdown",
   "metadata": {},
   "source": [
    "The information-theoretic feature selection methods we will apply operate on discrete data; we first need to discretize the continuous features before including them in the feature selection step. Standardizing the data (subtracting mean & dividing by the standard deviation) is optional here:"
   ]
  },
  {
   "cell_type": "code",
   "execution_count": 204,
   "metadata": {},
   "outputs": [
    {
     "name": "stderr",
     "output_type": "stream",
     "text": [
      "/opt/anaconda3/lib/python3.7/site-packages/sklearn/preprocessing/_discretization.py:202: UserWarning: Bins whose width are too small (i.e., <= 1e-8) in feature 0 are removed. Consider decreasing the number of bins.\n",
      "  'decreasing the number of bins.' % jj)\n",
      "/opt/anaconda3/lib/python3.7/site-packages/sklearn/preprocessing/_discretization.py:202: UserWarning: Bins whose width are too small (i.e., <= 1e-8) in feature 0 are removed. Consider decreasing the number of bins.\n",
      "  'decreasing the number of bins.' % jj)\n"
     ]
    }
   ],
   "source": [
    "#Ideally, all steps should use only training data to learn transformations, then apply them to test data too; here omitted for convenience\n",
    "\n",
    "#1. Standarize continuous features (subtract training mean, divide by training st.dev):\n",
    "for i in range(len(continuous_features)):\n",
    "    scaler = preprocessing.StandardScaler().fit(X_sup[:,continuous_features[i]].reshape(-1, 1))\n",
    "    X_sup[:,continuous_features[i]] = scaler.transform(X_sup[:,continuous_features[i]].reshape(-1, 1)).ravel()\n",
    "\n",
    "#2. Discretize continuous features (to be used for Feature Selection step only)\n",
    "discretization_bins = 10    \n",
    "discretizer = preprocessing.KBinsDiscretizer(n_bins=discretization_bins, encode='ordinal')\n",
    "for i in range(len(continuous_features)):\n",
    "    X_sup[:,continuous_features[i]] = discretizer.fit_transform(X_sup[:,continuous_features[i]].reshape(-1, 1)).ravel()"
   ]
  },
  {
   "cell_type": "markdown",
   "metadata": {},
   "source": [
    "Now perform a training / test split.\n",
    "\n",
    "Ideally this should have been performed before the preprocessing step but we do this for convenience knowing that some test set information might have leaked into the training data."
   ]
  },
  {
   "cell_type": "code",
   "execution_count": 206,
   "metadata": {},
   "outputs": [],
   "source": [
    "##Perform a train/test split:  \n",
    "X_train, X_test, y_train, y_test = train_test_split(X_sup, y, test_size=0.3)"
   ]
  },
  {
   "cell_type": "markdown",
   "metadata": {},
   "source": [
    "Now perform feature selection using different information-theoretic feature selection methods to produce a ranking of all the features used. \n",
    "\n",
    "All methods used here (MIM, JMI, CMIM, MRMR, DISR) are 'filter methods', i.e. assign a score to each feature directly based on the mutual information between (individual or combinations of) features and the target and -for some of them- the mutual information between features. For more details on the methods, the reaader is directed to [1].\n",
    "\n",
    "[1] Source: G.Brown, A.Pocock, M.Lujan, M.-J.Zhao, \"Conditional Likelihood Maximisation: A Unifying Framework for Information Theoretic Feature Selection\", Journal of Machine Learning Research, vol 13, pages 27-66 (2012)"
   ]
  },
  {
   "cell_type": "code",
   "execution_count": 207,
   "metadata": {},
   "outputs": [],
   "source": [
    "#Select features using scikit-feature, under various information-theoretic criteria\n",
    "#indices_features_ranked_{criterion}: Ranking of indices from most to least important feature under {criterion}\n",
    "#J_{criterion}: Value of features from most to least important under {criterion}\n",
    "#MIfy_{criterion}: Cumulative value of features from most to least important under {criterion}\n",
    "\n",
    "K_top = X_train.shape[1] #Produce ranking of top K_top features (here: use all)\n",
    "\n",
    "from skfeature.function.information_theoretical_based import MIM\n",
    "indices_features_ranked_MIM, J_MIM, MIfy_MIM = MIM.mim(X_train, y_train, n_selected_features=K_top)\n",
    "J_MIM_normalized = J_MIM / np.nanmax(J_MIM)\n",
    "MIfy_MIM_normalized = MIfy_MIM / np.nanmax(MIfy_MIM)\n",
    "\n",
    "#---------------------------------------------\n",
    "\n",
    "from skfeature.function.information_theoretical_based import CMIM\n",
    "\n",
    "indices_features_ranked_CMIM, J_CMIM, MIfy_CMIM = CMIM.cmim(X_train, y_train, n_selected_features=K_top)\n",
    "J_CMIM_normalized = J_CMIM / np.nanmax(J_CMIM)\n",
    "MIfy_CMIM_normalized = MIfy_CMIM / np.nanmax(MIfy_CMIM)\n",
    "\n",
    "#---------------------------------------------\n",
    "\n",
    "from skfeature.function.information_theoretical_based import JMI\n",
    "\n",
    "indices_features_ranked_JMI, J_JMI, MIfy_JMI = JMI.jmi(X_train, y_train, n_selected_features=K_top)\n",
    "J_JMI_normalized = J_JMI / np.nanmax(J_JMI)\n",
    "MIfy_JMI_normalized = MIfy_JMI / np.nanmax(MIfy_JMI)\n",
    "\n",
    "#---------------------------------------------\n",
    "\n",
    "from skfeature.function.information_theoretical_based import MRMR\n",
    "\n",
    "indices_features_ranked_MRMR, J_MRMR, MIfy_MRMR = MRMR.mrmr(X_train, y_train, n_selected_features=K_top)\n",
    "J_MRMR_normalized = J_MRMR / np.nanmax(J_MRMR)\n",
    "MIfy_MRMR_normalized = MIfy_MRMR / np.nanmax(MIfy_MRMR)\n",
    "\n",
    "#---------------------------------------------\n",
    "\n",
    "from skfeature.function.information_theoretical_based import DISR\n",
    "\n",
    "indices_features_ranked_DISR, J_DISR, MIfy_DISR = DISR.disr(X_train, y_train, n_selected_features=K_top)\n",
    "J_DISR_normalized = J_DISR / np.nanmax(J_DISR)\n",
    "MIfy_DISR_normalized = MIfy_DISR / np.nanmax(MIfy_DISR)"
   ]
  },
  {
   "cell_type": "markdown",
   "metadata": {},
   "source": [
    "Now produce the ranking of features (from most to least important) induced by each method:"
   ]
  },
  {
   "cell_type": "code",
   "execution_count": 212,
   "metadata": {},
   "outputs": [
    {
     "name": "stdout",
     "output_type": "stream",
     "text": [
      "Ranking of features (from most to least important) induced by each method:\n",
      " MIM  MRMR  DISR  JMI  CMIM\n",
      "   5     5     5    5     5\n",
      "   4     1     4    4     4\n",
      "   0     3     1    2     2\n",
      "   2     0     3    0     0\n",
      "   1     4     0    1     1\n",
      "   3     2     2    3     3\n",
      "Feature legend:\n",
      "0 : patient_sex\n",
      "1 : patient_weight\n",
      "2 : patient_onset_age\n",
      "3 : patient_age_group\n",
      "4 : occurcountry\n",
      "5 : patient_drug\n"
     ]
    }
   ],
   "source": [
    "\n",
    "indices_features_ranked_all = np.vstack([indices_features_ranked_MIM.T,\n",
    "                                         indices_features_ranked_MRMR.T,\n",
    "                                         indices_features_ranked_DISR.T,\n",
    "                                         indices_features_ranked_JMI.T,\n",
    "                                         indices_features_ranked_CMIM.T]).T\n",
    "\n",
    "#Print feature rankings using feature names (might be too wide for screen):\n",
    "#df_feature_selection = pd.DataFrame(data=indices_features_ranked_all, columns = [\"MIM\", \"MRMR\", \"DISR\", \"JMI\", \"CMIM\"])\n",
    "#df_feature_selection = df_feature_selection.replace(list(np.arange(len(full_feature_list))), full_feature_list)\n",
    "#print(df_feature_selection)\n",
    "\n",
    "#Print feature rankings using feature indices and legend:\n",
    "print('Ranking of features (from most to least important) induced by each method:')\n",
    "df_feature_selection = pd.DataFrame(data=indices_features_ranked_all, columns = [\"MIM\", \"MRMR\", \"DISR\", \"JMI\", \"CMIM\"])\n",
    "print(df_feature_selection.to_string(index=False))\n",
    "print('Feature legend:')\n",
    "for i in range(len(full_feature_list)):\n",
    "    print(str(i)+' : '+full_feature_list[i])\n",
    "    "
   ]
  },
  {
   "cell_type": "markdown",
   "metadata": {},
   "source": [
    "The drug appears to be the most important indicator of the seriousness of the reaction. It is followed by the country, the patient's age at the onset of the event, the patient's weight and their gender. \n",
    "\n",
    "We can relate some of these findings to our exploratory analysis in Part 1. We saw that many drugs are highly associated with seriousness. We also saw that the country can be very indicative of the seriousness as most reports not occuring in the US tend to be serious."
   ]
  },
  {
   "cell_type": "markdown",
   "metadata": {},
   "source": [
    "We can use feature selection to refine the features we provide to learning algorithms for training predictive models. In this example, we will use all features to train a classifier to predict the seriousness of the reaction."
   ]
  },
  {
   "cell_type": "markdown",
   "metadata": {},
   "source": [
    "### 2.b Training a classifier to predict seriousness of reaction "
   ]
  },
  {
   "cell_type": "markdown",
   "metadata": {},
   "source": [
    "#### Setting up the prediction task\n",
    "\n",
    "As per 2.a above."
   ]
  },
  {
   "cell_type": "code",
   "execution_count": 214,
   "metadata": {},
   "outputs": [],
   "source": [
    "#Setup prediction task; define features and target(s)\n",
    "\n",
    "# Variables to not use as features. This includes the target(s) or other variables that are to not be considered knowable in advance:\n",
    "# e.g. do not use reactions, their number and their outcomes \n",
    "excluded_variables = ['serious', 'patient_num_reactions', 'patient_reaction_1', 'patient_reaction_2',  'patient_reaction_3', 'patient_reaction_4', 'patient_reaction_5', 'patient_reaction_outcome_1', 'patient_reaction_outcome_2',  'patient_reaction_outcome_3', 'patient_reaction_outcome_4', 'patient_reaction_outcome_5']\n",
    "\n",
    "#Use variables of interest (except for target) to form feature array:\n",
    "df_X = df.drop(labels = excluded_variables, axis=1) \n",
    "X_sup = df_X.to_numpy() #Convert feature table to numpy array for next steps\n",
    "\n",
    "# Use seriousness as the prediction target; encode as '1': Serious, '0': Not Serious\n",
    "y = df[\"serious\"].replace(['Not Serious', 'Serious'], [0, 1]).to_numpy().ravel()\n",
    "    \n",
    "#Preprocessing \n",
    "full_feature_list = list(df_X.columns) # Keep names of all features used\n",
    "continuous_feature_list = [\"patient_onset_age\", \"patient_weight\"] #Manually specify continuous features\n",
    "continuous_feature_list = [\"patient_onset_age\", \"patient_weight\"] #specify continuous features\n",
    "continuous_features = np.where(df_X.columns.isin(continuous_feature_list))[0] #find their indices"
   ]
  },
  {
   "cell_type": "markdown",
   "metadata": {},
   "source": [
    "#### Preprocessing data for feature selection"
   ]
  },
  {
   "cell_type": "markdown",
   "metadata": {},
   "source": [
    "We standardize the continuous features (subtracting mean & dividing by the standard deviation) so that they are at the same scale. This is important for distance-based learning algorithms (e.g. K-NN) or for gradient based optimisation (e.g. for Deep Neural Networks, where it can prevent numerical issues arising from having gradients at different scales).\n",
    "\n",
    "We also encode categorical features to numerical using one-hot encoding."
   ]
  },
  {
   "cell_type": "code",
   "execution_count": 217,
   "metadata": {},
   "outputs": [],
   "source": [
    "#Standarize continuous features (subtract training mean, divide by training st.dev):\n",
    "for i in range(len(continuous_features)):\n",
    "    scaler = preprocessing.StandardScaler().fit(X_sup[:,continuous_features[i]].reshape(-1, 1))\n",
    "    X_sup[:,continuous_features[i]] = scaler.transform(X_sup[:,continuous_features[i]].reshape(-1, 1)).ravel()\n",
    "    \n",
    "    #Encode categorical features using one-hot encoding (not to be used for Feature Selection):\n",
    "enc = preprocessing.OneHotEncoder()\n",
    "X_sup = enc.fit_transform(X_sup) "
   ]
  },
  {
   "cell_type": "markdown",
   "metadata": {},
   "source": [
    "#### Training & evaluating the classifier"
   ]
  },
  {
   "cell_type": "markdown",
   "metadata": {},
   "source": [
    "We are now ready to build a model to predict whether a report will correspond to a serious event or not, given some of the patient's characteristics.\n",
    "\n",
    "The code below will perform 'N_runs' different train/test splits of the dataset, train a model (the model family & learning algorithm are specified by the variable 'clf', where some options are already provided), on the training set and evaluate its predictions under 4 different regimes (see 'Regimes'), using various appropriate exaluation measures (see 'Evaluation measures').\n",
    "\n",
    "Ensembles of 10 gradient boosted trees of maximum depth = 10, produced the good results and we propose using these as 'clf'.*\n",
    "\n",
    "Note that most cases in our data are serious. This means the dataset is imbalanced. The user can choose to train the model using an upsampled minority class sample to counter the imbalance by setting 'upsample_minority = 1'.\n",
    "\n",
    "Alternatively given a good estimate for the probability that a given example $x$ belongs to the positive class, $\\hat{p}(y = 1|x)$, a way to counter the class imbalance is to simply shift the classification threshold from $0.5$ to an appropriate $t$ and assign an example to class $1$ if $\\hat{p}(y = 1|x) > t$. In our case $t$ would be chosen as the fraction of examples in the training set that is positive.\n",
    "\n",
    "#### Regimes\n",
    "\n",
    "As we will see, threshold shifting alone does not improve the classification results. This is due to an often overlooked side of classification that is especially important when dealing with cost-sensitive/imbalanced problems like this one: the probabilistic calibration of\n",
    "classifiers. Even classifiers that are good for classification might be producing scores which are poor when used as probability estimates. Gradient Boosting is particularly susceptible to this phenomenon as it tends to produce probability estimates that tend to extremes (0 or 1). The solution is to calibrate the classifier, i.e. to learn a transformation of its scores to match the corresponding empirical probabilities in the training data [1]. For each trained model, we produce 3 additional ones with a shifted decision threshold: one without any calibration, one calibrated via isotonic regression and one calibrated via logistic calibration (a.k.a. Platt scaling). \n",
    "These are the 4 regimes we reffered to.\n",
    "\n",
    "*The hyperparameter optimization was minimal & performed on the test set itself. This is not good practice. Given more time, I would split the data into a training, validation & test sets, perform hyperparameter optimization & model selection based on the validation set (ideally the two on seperate validation set subsets) and evaluate the final model on the test set.\n",
    "\n",
    "[1] Source: N. Nikolaou et al. “Cost-sensitive boosting algorithms: Do we really need them?” In: Machine Learning 104.2 (2016), pp. 359–384."
   ]
  },
  {
   "cell_type": "code",
   "execution_count": 253,
   "metadata": {},
   "outputs": [],
   "source": [
    "#User-specified parameters\n",
    "N_runs = 5# Number of different train/test splits to run to evaluate classifier\n",
    "upsample_minority = 1 #Indicates whether to train with an upsampled minority class sample to counter the imbalance\n",
    "#Model family choses (below are just some that work well):\n",
    "#Decision Tree classifier (hyperparameter: maximal depth) -- Good choice as it is interpretable & readily admits mixed categorical & numerical \n",
    "#clf = tree.DecisionTreeClassifier(max_depth = 10)\n",
    "#Bagging Ensemble classifier of n_estimators, each being a 'base_estimator' model (here: Decision Tree Classifier (hyperparameter: maximal depth))\n",
    "#clf = ensemble.BaggingClassifier(n_estimators = 10, base_estimator = tree.DecisionTreeClassifier(max_depth = 10))\n",
    "#Boosting Ensemble classifier of n_estimators, each being a Decision Tree Classifier (hyperparameter: maximal depth)\n",
    "clf = ensemble.GradientBoostingClassifier(n_estimators = 10, max_depth = 10)\n",
    "#Random Forest Ensemble classifier of n_estimators, each being an unpruned Decision Tree Classifier\n",
    "#clf = ensemble.RandomForestClassifier(n_estimators = 10)\n",
    "#k-Nearest Neighbour classifier (here k = 5)\n",
    "#clf = neighbors.KNeighborsClassifier(n_neighbors=5)\n",
    "    \n",
    "#Vectors to store evaluation measure per model per run:\n",
    "accuracy_vector = np.zeros((N_runs, 4))# 0 for raw classifier, 1 for threshold-shifted, 2 for isotonically calibrated scores, 3 for Platt-calibrated scores\n",
    "precision_vector = np.zeros((N_runs, 4))\n",
    "recall_vector = np.zeros((N_runs, 4))\n",
    "auc_vector = np.zeros((N_runs, 4))\n",
    "f1score_vector = np.zeros((N_runs, 4))\n",
    "cohens_kappa_vector = np.zeros((N_runs, 4))\n",
    "jaccard_vector = np.zeros((N_runs, 4))\n",
    "brier_vector = np.zeros((N_runs, 4))\n",
    "expected_accuracy_vector = np.zeros((N_runs, 1)) \n",
    "\n",
    "for run in range(N_runs):\n",
    "\n",
    "    ##Perform a train/test split:  \n",
    "    X_train, X_test, y_train, y_test = train_test_split(X_sup, y, test_size=0.3)    \n",
    "    \n",
    "    if upsample_minority == 1: #Note:this is redundant if threshold shifting is applied\n",
    "        #Upsample minority class (Serious=1):\n",
    "        X_train = X_train.toarray()\n",
    "        X_test = X_test.toarray()\n",
    "        # Indices of examples from each class\n",
    "        i_class0 = np.where(y_train == 0)[0]\n",
    "        i_class1 = np.where(y_train == 1)[0]\n",
    "        # Number of examples in each class\n",
    "        n_class0 = len(i_class0)\n",
    "        n_class1 = len(i_class1)\n",
    "        # For every example in class 1, randomly sample from class 0 with replacement\n",
    "        i_class0_upsampled = np.random.choice(i_class0, size=n_class1, replace=True)\n",
    "        # Join together class 0's upsampled target vector with class 1's target vector\n",
    "        y_train = np.concatenate((y_train[i_class0_upsampled], y_train[i_class1]))\n",
    "        #As above, for the features:\n",
    "        X_train = np.concatenate((X_train[i_class0_upsampled,:], X_train[i_class1,:]))\n",
    "        #Upsampled training set needs to be shuffled again:\n",
    "        X_train, y_train = shuffle(X_train, y_train)    \n",
    "    \n",
    "    #Train the classifier on the training data:\n",
    "    clf.fit(X_train, y_train)\n",
    "    \n",
    "    #Predict the label of the test data:\n",
    "    pred_y_test = clf.predict(X_test)\n",
    "    #Raw score assigned by model for positive class (Serious = 1) on test data:\n",
    "    prob_pos_test = clf.predict_proba(X_test)[:,1]\n",
    "    \n",
    "    #Evaluation:\n",
    "    error = metrics.zero_one_loss(y_test, pred_y_test) #error rate\n",
    "    conf_mat = metrics.confusion_matrix(y_test, pred_y_test) #confusion matrix\n",
    "    tn, fp, fn, tp = conf_mat.ravel() #save confusion matrix entries to compute measures below\n",
    "    precision = tp/(tp+fp) # -- Higher means more predicted Serious reactions are indeed Serious \n",
    "    recall = tp/(tp+fn) # -- Higher means real Serious reactions are better predicted as such \n",
    "    f1score = 2*(precision*recall)/(precision+recall) # -- Higher means overall better combined precision & recall\n",
    "    jaccard = tp/(tp+fp+fn) # -- Higher means fewer falsely predicted or missed Serious reactions\n",
    "    exp_accuracy = ((tn+fp)*(tn+fn)+(fn+tp)*(fp+tp)) / (tn+tp+fn+fp)**2 #will be used for cohen's kappa\n",
    "    cohens_kappa = ((1-error) - exp_accuracy) / (1 - exp_accuracy) #-- Higher means more correct Serious/Not Serious predictions w.r.t. expected accuracy\n",
    "    fpr, tpr, thresholds = metrics.roc_curve(y_test, pred_y_test) #will be used for auc\n",
    "    auc = metrics.auc(fpr, tpr) #Area under the ROC curve -- Higher means more correct Serious/Not Serious predictions\n",
    "    brier = metrics.brier_score_loss(y_test, prob_pos_test) #Brier Score, measures quality of probability estimates -- Lower means better probability estimates for p(y=Serious|X)\n",
    "    \n",
    "    #---Shifting Decision Threshold to Account for Imbalance--- Note: redundant if training dataset was balanced\n",
    "    \n",
    "    #Predictions with a shifted decision threshold (using raw scores) to account for class imbalance:\n",
    "    imbalance_tr = sum(y_train)/len(y_train) #estimate class imbalance (\"prior\" of Serious=1) in training dataset\n",
    "    threshold = 1 - imbalance_tr\n",
    "    pred_y_test_ts = np.zeros(len(pred_y_test))\n",
    "    pred_y_test_ts[np.where(prob_pos_test > threshold)] = 1\n",
    "    \n",
    "    #Evaluation on predictions with a shifted decision threshold:\n",
    "    error_ts = metrics.zero_one_loss(y_test, pred_y_test_ts) \n",
    "    conf_mat_ts = metrics.confusion_matrix(y_test,pred_y_test_ts) \n",
    "    tn, fp, fn, tp = conf_mat_ts.ravel()\n",
    "    precision_ts = tp/(tp+fp)\n",
    "    recall_ts = tp/(tp+fn)\n",
    "    f1score_ts = 2*(precision_ts*recall_ts)/(precision_ts+recall_ts)\n",
    "    jaccard_ts = tp/(tp+fp+fn)\n",
    "    exp_accuracy_ts = ((tn+fp)*(tn+fn)+(fn+tp)*(fp+tp)) / (tn+tp+fn+fp)**2\n",
    "    cohens_kappa_ts = ((1-error_ts) - exp_accuracy) / (1 - exp_accuracy)\n",
    "    fpr, tpr, thresholds = metrics.roc_curve(y_test, pred_y_test_ts)\n",
    "    auc_ts = metrics.auc(fpr, tpr)\n",
    "    brier_ts = metrics.brier_score_loss(y_test, pred_y_test_ts)\n",
    "    \n",
    "    #---Classifier Calibration---\n",
    "    \n",
    "    #Calibrating classifier predictions:\n",
    "    #...with isotonic regression \n",
    "    clf_isotonic = CalibratedClassifierCV(clf, cv=5, method='isotonic')\n",
    "    clf_isotonic.fit(X_train, y_train)\n",
    "    prob_pos_cal_iso = clf_isotonic.predict_proba(X_test)[:, 1]\n",
    "    #...with Platt/logistic calibration \n",
    "    clf_sigmoid = CalibratedClassifierCV(clf, cv=5, method='sigmoid')\n",
    "    clf_sigmoid.fit(X_train, y_train)\n",
    "    prob_pos_cal_sig = clf_sigmoid.predict_proba(X_test)[:, 1]\n",
    "    \n",
    "    #Getting predictions from calibrated models:\n",
    "    pred_y_test_ts_cal_iso = np.zeros(len(pred_y_test))\n",
    "    pred_y_test_ts_cal_iso[np.where(prob_pos_cal_iso > threshold)] = 1\n",
    "    \n",
    "    pred_y_test_ts_cal_sig = np.zeros(len(pred_y_test))\n",
    "    pred_y_test_ts_cal_sig[np.where(prob_pos_cal_sig > threshold)] = 1\n",
    "    \n",
    "    #Evaluation on calibrated predictions with a shifted decision threshold:\n",
    "    error_ts_cal_iso = metrics.zero_one_loss(y_test, pred_y_test_ts_cal_iso) \n",
    "    conf_mat_ts_cal_iso = metrics.confusion_matrix(y_test,pred_y_test_ts_cal_iso)\n",
    "    tn, fp, fn, tp = conf_mat_ts_cal_iso.ravel()\n",
    "    precision_ts_cal_iso = tp/(tp+fp)\n",
    "    recall_ts_cal_iso = tp/(tp+fn)\n",
    "    f1score_ts_cal_iso = 2*(precision_ts_cal_iso*recall_ts_cal_iso)/(precision_ts_cal_iso+recall_ts_cal_iso)\n",
    "    jaccard_ts_cal_iso = tp/(tp+fp+fn)\n",
    "    exp_accuracy_ts_cal_iso = ((tn+fp)*(tn+fn)+(fn+tp)*(fp+tp)) / (tn+tp+fn+fp)**2\n",
    "    cohens_kappa_ts_cal_iso = ((1-error_ts_cal_iso) - exp_accuracy_ts_cal_iso) / (1 - exp_accuracy_ts_cal_iso)\n",
    "    fpr, tpr, thresholds = metrics.roc_curve(y_test, pred_y_test_ts_cal_iso)\n",
    "    auc_ts_cal_iso = metrics.auc(fpr, tpr)\n",
    "    brier_ts_cal_iso = metrics.brier_score_loss(y_test, prob_pos_cal_iso)\n",
    "    \n",
    "    error_ts_cal_sig = metrics.zero_one_loss(y_test, pred_y_test_ts_cal_sig)\n",
    "    conf_mat_ts_cal_sig = metrics.confusion_matrix(y_test,pred_y_test_ts_cal_sig) \n",
    "    tn, fp, fn, tp = conf_mat_ts_cal_sig.ravel()\n",
    "    precision_ts_cal_sig = tp/(tp+fp)\n",
    "    recall_ts_cal_sig = tp/(tp+fn)\n",
    "    f1score_ts_cal_sig = 2*(precision_ts*recall_ts_cal_sig)/(precision_ts_cal_sig+recall_ts_cal_sig)\n",
    "    jaccard_ts_cal_sig = tp/(tp+fp+fn)\n",
    "    exp_accuracy_ts_cal_sig = ((tn+fp)*(tn+fn)+(fn+tp)*(fp+tp)) / (tn+tp+fn+fp)**2\n",
    "    cohens_kappa_ts_cal_sig = ((1-error_ts_cal_sig) - exp_accuracy_ts_cal_sig) / (1 - exp_accuracy_ts_cal_sig)\n",
    "    fpr, tpr, thresholds = metrics.roc_curve(y_test, pred_y_test_ts_cal_sig)\n",
    "    auc_ts_cal_sig = metrics.auc(fpr, tpr)\n",
    "    brier_ts_cal_sig = metrics.brier_score_loss(y_test, prob_pos_cal_sig)\n",
    "\n",
    "    #Calculate average and std of evaluation measures on test set for all 4 variants of model for this run:  \n",
    "    accuracy_vector[run, :] = [1-error, 1-error_ts, 1-error_ts_cal_iso, 1-error_ts_cal_sig]\n",
    "    precision_vector[run, :] = [precision, precision_ts, precision_ts_cal_iso, precision_ts_cal_sig]\n",
    "    recall_vector[run, :] = [recall, recall_ts, recall_ts_cal_iso, recall_ts_cal_sig]\n",
    "    auc_vector[run, :] = [auc, auc_ts, auc_ts_cal_iso, auc_ts_cal_sig]\n",
    "    f1score_vector[run, :] = [f1score, f1score_ts, f1score_ts_cal_iso, f1score_ts_cal_sig]\n",
    "    cohens_kappa_vector[run, :] = [cohens_kappa, cohens_kappa_ts, cohens_kappa_ts_cal_iso, cohens_kappa_ts_cal_sig]\n",
    "    jaccard_vector[run, :] = [jaccard, jaccard_ts, jaccard_ts_cal_iso, jaccard_ts_cal_sig]\n",
    "    brier_vector[run, :] = [brier, brier_ts, brier_ts_cal_iso, brier_ts_cal_sig]\n",
    "    expected_accuracy_vector [run] = exp_accuracy\n",
    "    \n",
    "#Calculate average and std of evaluation measures on test set for all 4 variants of model across runs:    \n",
    "avg_accuracy_vector = np.nanmean(accuracy_vector, axis = 0)\n",
    "std_accuracy_vector = np.nanstd(accuracy_vector, axis = 0)\n",
    "avg_precision_vector = np.nanmean(precision_vector, axis = 0)\n",
    "std_precision_vector = np.nanstd(precision_vector, axis = 0)\n",
    "avg_recall_vector = np.nanmean(recall_vector, axis = 0)\n",
    "std_recall_vector = np.nanstd(recall_vector, axis = 0)\n",
    "avg_auc_vector = np.nanmean(auc_vector, axis = 0)\n",
    "std_auc_vector = np.nanstd(auc_vector, axis = 0)  \n",
    "avg_f1score_vector = np.nanmean(f1score_vector, axis = 0)\n",
    "std_f1score_vector = np.nanstd(f1score_vector, axis = 0)\n",
    "avg_cohens_kappa_vector = np.nanmean(cohens_kappa_vector, axis = 0)\n",
    "std_cohens_kappa_vector = np.nanstd(cohens_kappa_vector, axis = 0)\n",
    "avg_jaccard_vector = np.nanmean(jaccard_vector, axis = 0)\n",
    "std_jaccard_vector = np.nanstd(jaccard_vector, axis = 0)\n",
    "avg_brier_vector = np.nanmean(brier_vector, axis = 0)\n",
    "std_brier_vector = np.nanstd(brier_vector, axis = 0)\n",
    "\n",
    "avg_expected_accuracy_vector = np.nanmean(expected_accuracy_vector, axis = 0)\n",
    "std_expected_accuracy_vector = np.nanstd(expected_accuracy_vector, axis = 0)"
   ]
  },
  {
   "cell_type": "markdown",
   "metadata": {},
   "source": [
    "#### Evaluation measures\n",
    "As we mentioned, the classification task is imbalanced in the sense that one class (Serious) is more prevalent than the other (Not Serious). Accuracy is not the best evaluation measure to use under such scenarios.\n",
    "\n",
    "Evaluation measures that are more appropriate in the imbalanced classsetting include Precision & Recall, F1-measure, Cohen’s Kappa, Jaccard Index and the Area Under the ROC Curve (AUC).\n",
    "\n",
    "The Brier score is another useful measure. It is not used for assessing the classification performance, but rather the quality of the produced probability estimates for the trained models --i.e. how good the models are at predicting $p(Serious|features)$."
   ]
  },
  {
   "cell_type": "markdown",
   "metadata": {},
   "source": [
    "Let us now report some measures of our classifier's performance:"
   ]
  },
  {
   "cell_type": "code",
   "execution_count": 255,
   "metadata": {},
   "outputs": [
    {
     "name": "stdout",
     "output_type": "stream",
     "text": [
      "Test Set Results: \n",
      "Classification performance measures: \n",
      "\tDefault|Shifted|CalibratedISO|CalibratedSIG\n",
      "AUC_avg: [0.80387396 0.80387396 0.80093687 0.79719841]\t(Higher better)\n",
      "AUC_std: [0.0131987  0.0131987  0.01151195 0.00905141]\n",
      "F1score_avg: [0.82352212 0.82352212 0.84953116 0.85833567]\t(Higher better)\n",
      "F1score_std: [0.01331183 0.01331183 0.00541541 0.01000237]\n",
      "Jaccard_avg: [0.70020832 0.70020832 0.73846046 0.73158057]\t(Higher better)\n",
      "Jaccard_std: [0.0193418  0.0193418  0.0082334  0.00644233]\n",
      "CohensKappa_avg: [0.4380101  0.4380101  0.46578814 0.45625932]\t(Higher better)\n",
      "CohensKappa_std: [0.01824495 0.01824495 0.02241352 0.02041591]\n",
      "Precision_avg: [0.96378096 0.96378096 0.94912821 0.94870229]\t(Higher better)\n",
      "Precision_std: [0.01686779 0.01686779 0.00805071 0.00664038]\n",
      "Recall_avg: [0.71995492 0.71995492 0.76891297 0.76176178]\t(Higher better)\n",
      "Recall_std: [0.02991364 0.02991364 0.00747522 0.00782936]\n",
      "Accuracy_avg: [0.75293333 0.75293333 0.78146667 0.77573333]\t(Higher better)\n",
      "Accuracy_std: [0.01389228 0.01389228 0.0079822  0.00641665]\n",
      "Expected accuracy, for reference: \n",
      "Expected accuracy avg: [0.56037476]\t(Higher means more imbalanced task)\n",
      "Expected accuracy std: [0.02037999]\n",
      "Probability estimation performance measures: \n",
      "Brier_loss_avg: [0.14913735 0.24706667 0.13916947 0.14232722]\t(Lower better)\n",
      "Brier_loss_std: [0.00179144 0.01389228 0.00383201 0.00412943]\n"
     ]
    }
   ],
   "source": [
    "#Print average and std of evaluation measures on test set for all 4 variants of model:\n",
    "print(\"Test Set Results: \")\n",
    "print(\"Classification performance measures: \")\n",
    "print(\"\\tDefault|Shifted|CalibratedISO|CalibratedSIG\")\n",
    "print(\"AUC_avg: \"+str(avg_auc_vector)+\"\\t(Higher better)\")\n",
    "print(\"AUC_std: \"+str(std_auc_vector))\n",
    "print(\"F1score_avg: \"+str(avg_f1score_vector)+\"\\t(Higher better)\")\n",
    "print(\"F1score_std: \"+str(std_f1score_vector))\n",
    "print(\"Jaccard_avg: \"+str(avg_jaccard_vector)+\"\\t(Higher better)\")\n",
    "print(\"Jaccard_std: \"+str(std_jaccard_vector))\n",
    "print(\"CohensKappa_avg: \"+str(avg_cohens_kappa_vector)+\"\\t(Higher better)\")\n",
    "print(\"CohensKappa_std: \"+str(std_cohens_kappa_vector))\n",
    "print(\"Precision_avg: \"+str(avg_precision_vector)+\"\\t(Higher better)\")\n",
    "print(\"Precision_std: \"+str(std_precision_vector))\n",
    "print(\"Recall_avg: \"+str(avg_recall_vector)+\"\\t(Higher better)\")\n",
    "print(\"Recall_std: \"+str(std_recall_vector))\n",
    "print(\"Accuracy_avg: \"+str(avg_accuracy_vector)+\"\\t(Higher better)\")\n",
    "print(\"Accuracy_std: \"+str(std_accuracy_vector))\n",
    "print(\"Expected accuracy, for reference: \")\n",
    "print(\"Expected accuracy avg: \"+str(avg_expected_accuracy_vector)+\"\\t(Higher means more imbalanced task)\")\n",
    "print(\"Expected accuracy std: \"+str(std_expected_accuracy_vector))\n",
    "print(\"Probability estimation performance measures: \")\n",
    "print(\"Brier_loss_avg: \"+str(avg_brier_vector)+\"\\t(Lower better)\")\n",
    "print(\"Brier_loss_std: \"+str(std_brier_vector))"
   ]
  },
  {
   "cell_type": "markdown",
   "metadata": {},
   "source": [
    "We see that the model attains a good predictive performance. The expected accuracy of a model classifying examples at random leveraging the imbalance is far lower than the accuracy exhibited by our model.\n",
    "\n",
    "We also see that the models after threshold shifting & calibration tend to perform better in terms of both classification (e.g. F1-score, Cohen's Kappa & Jaccard Index increase) and probability estimation (Brier Score increases)."
   ]
  },
  {
   "cell_type": "markdown",
   "metadata": {},
   "source": [
    "## Conclusions"
   ]
  },
  {
   "cell_type": "markdown",
   "metadata": {},
   "source": [
    "This concludes our investigation for now! Thank you for reading the whole thing!\n",
    "\n",
    "This report is merely intended as an exploration of the dataset and a demostration of typical steps, procedures and practices performed when analyzing complex data.\n",
    "\n",
    "It is meant to illuminate directions of future exploration of the OpenFDA dataset.\n",
    "\n",
    "On next steps of these investigations a larger sample should be used. Ideally, the biases we reported in the data must also be alleviated by collecting similar reports from authorities beyond FDA to cover a more characteristic sample of the general population.\n",
    "\n",
    "Finally, more features should be included in the analysis (e.g. dosage of medication, pharmacological details of the drug, whether the reporter considers the drug suspicious for the reaction, other drugs taken by the patient, a more detailed breakdown of the 'seriousness' of the reaction, etc.)\n",
    "\n",
    "We would then be able to e.g. relate classes of drugs based on their pharmacological characteristics to specific reactions (and their results) in specific patient subpopulations. We can frame such a problem as a multi-target prediction task and apply again the same methodologies including feature selection [1].\n",
    "\n",
    "[1] Source: Sechidis, K., Nikolaou N., and Brown, G. \"Information theoretic feature selection in multi-label data through composite likelihood.\" Joint IAPR International Workshops on Statistical Techniques in Pattern Recognition (SPR) and Structural and Syntactic Pattern Recognition (SSPR). Springer, Berlin, Heidelberg, 2014.\n",
    "\n"
   ]
  }
 ],
 "metadata": {
  "kernelspec": {
   "display_name": "Python 3",
   "language": "python",
   "name": "python3"
  },
  "language_info": {
   "codemirror_mode": {
    "name": "ipython",
    "version": 3
   },
   "file_extension": ".py",
   "mimetype": "text/x-python",
   "name": "python",
   "nbconvert_exporter": "python",
   "pygments_lexer": "ipython3",
   "version": "3.7.4"
  }
 },
 "nbformat": 4,
 "nbformat_minor": 2
}
